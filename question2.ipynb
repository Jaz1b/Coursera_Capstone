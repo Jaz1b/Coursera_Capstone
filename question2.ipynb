{
 "cells": [
  {
   "cell_type": "markdown",
   "metadata": {},
   "source": [
    "# Segmenting and Clustering Neighborhoods in Toronto"
   ]
  },
  {
   "cell_type": "markdown",
   "metadata": {},
   "source": [
    "This notebook contains Questions 1, 2 of the Assignment."
   ]
  },
  {
   "cell_type": "code",
   "execution_count": 1,
   "metadata": {},
   "outputs": [],
   "source": [
    "import pandas as pd"
   ]
  },
  {
   "cell_type": "markdown",
   "metadata": {},
   "source": [
    "# Question 1"
   ]
  },
  {
   "cell_type": "code",
   "execution_count": 2,
   "metadata": {},
   "outputs": [],
   "source": [
    "import requests"
   ]
  },
  {
   "cell_type": "code",
   "execution_count": 3,
   "metadata": {},
   "outputs": [
    {
     "data": {
      "text/plain": [
       "<Response [200]>"
      ]
     },
     "execution_count": 3,
     "metadata": {},
     "output_type": "execute_result"
    }
   ],
   "source": [
    "url = \"https://en.wikipedia.org/wiki/List_of_postal_codes_of_Canada:_M\"\n",
    "wiki_url = requests.get(url)\n",
    "wiki_url"
   ]
  },
  {
   "cell_type": "code",
   "execution_count": 4,
   "metadata": {},
   "outputs": [
    {
     "data": {
      "text/plain": [
       "[    Postal Code           Borough  \\\n",
       " 0           M1A      Not assigned   \n",
       " 1           M2A      Not assigned   \n",
       " 2           M3A        North York   \n",
       " 3           M4A        North York   \n",
       " 4           M5A  Downtown Toronto   \n",
       " ..          ...               ...   \n",
       " 175         M5Z      Not assigned   \n",
       " 176         M6Z      Not assigned   \n",
       " 177         M7Z      Not assigned   \n",
       " 178         M8Z         Etobicoke   \n",
       " 179         M9Z      Not assigned   \n",
       " \n",
       "                                          Neighbourhood  \n",
       " 0                                         Not assigned  \n",
       " 1                                         Not assigned  \n",
       " 2                                            Parkwoods  \n",
       " 3                                     Victoria Village  \n",
       " 4                            Regent Park, Harbourfront  \n",
       " ..                                                 ...  \n",
       " 175                                       Not assigned  \n",
       " 176                                       Not assigned  \n",
       " 177                                       Not assigned  \n",
       " 178  Mimico NW, The Queensway West, South of Bloor,...  \n",
       " 179                                       Not assigned  \n",
       " \n",
       " [180 rows x 3 columns],\n",
       "                                                   0   \\\n",
       " 0                                                NaN   \n",
       " 1  NL NS PE NB QC ON MB SK AB BC NU/NT YT A B C E...   \n",
       " 2                                                 NL   \n",
       " 3                                                  A   \n",
       " \n",
       "                                                   1   \\\n",
       " 0                              Canadian postal codes   \n",
       " 1  NL NS PE NB QC ON MB SK AB BC NU/NT YT A B C E...   \n",
       " 2                                                 NS   \n",
       " 3                                                  B   \n",
       " \n",
       "                                                   2    3    4    5    6    7   \\\n",
       " 0                                                NaN  NaN  NaN  NaN  NaN  NaN   \n",
       " 1  NL NS PE NB QC ON MB SK AB BC NU/NT YT A B C E...  NaN  NaN  NaN  NaN  NaN   \n",
       " 2                                                 PE   NB   QC   QC   QC   ON   \n",
       " 3                                                  C    E    G    H    J    K   \n",
       " \n",
       "     8    9    10   11   12   13   14   15     16   17  \n",
       " 0  NaN  NaN  NaN  NaN  NaN  NaN  NaN  NaN    NaN  NaN  \n",
       " 1  NaN  NaN  NaN  NaN  NaN  NaN  NaN  NaN    NaN  NaN  \n",
       " 2   ON   ON   ON   ON   MB   SK   AB   BC  NU/NT   YT  \n",
       " 3    L    M    N    P    R    S    T    V      X    Y  ,\n",
       "    0   1   2   3   4   5   6   7   8   9   10  11  12  13  14  15     16  17\n",
       " 0  NL  NS  PE  NB  QC  QC  QC  ON  ON  ON  ON  ON  MB  SK  AB  BC  NU/NT  YT\n",
       " 1   A   B   C   E   G   H   J   K   L   M   N   P   R   S   T   V      X   Y]"
      ]
     },
     "execution_count": 4,
     "metadata": {},
     "output_type": "execute_result"
    }
   ],
   "source": [
    "wiki_data = pd.read_html(wiki_url.text)\n",
    "wiki_data"
   ]
  },
  {
   "cell_type": "code",
   "execution_count": 5,
   "metadata": {},
   "outputs": [
    {
     "data": {
      "text/plain": [
       "(3, list)"
      ]
     },
     "execution_count": 5,
     "metadata": {},
     "output_type": "execute_result"
    }
   ],
   "source": [
    "len(wiki_data), type(wiki_data)"
   ]
  },
  {
   "cell_type": "code",
   "execution_count": 6,
   "metadata": {},
   "outputs": [
    {
     "data": {
      "text/html": [
       "<div>\n",
       "<style scoped>\n",
       "    .dataframe tbody tr th:only-of-type {\n",
       "        vertical-align: middle;\n",
       "    }\n",
       "\n",
       "    .dataframe tbody tr th {\n",
       "        vertical-align: top;\n",
       "    }\n",
       "\n",
       "    .dataframe thead th {\n",
       "        text-align: right;\n",
       "    }\n",
       "</style>\n",
       "<table border=\"1\" class=\"dataframe\">\n",
       "  <thead>\n",
       "    <tr style=\"text-align: right;\">\n",
       "      <th></th>\n",
       "      <th>Postal Code</th>\n",
       "      <th>Borough</th>\n",
       "      <th>Neighbourhood</th>\n",
       "    </tr>\n",
       "  </thead>\n",
       "  <tbody>\n",
       "    <tr>\n",
       "      <th>0</th>\n",
       "      <td>M1A</td>\n",
       "      <td>Not assigned</td>\n",
       "      <td>Not assigned</td>\n",
       "    </tr>\n",
       "    <tr>\n",
       "      <th>1</th>\n",
       "      <td>M2A</td>\n",
       "      <td>Not assigned</td>\n",
       "      <td>Not assigned</td>\n",
       "    </tr>\n",
       "    <tr>\n",
       "      <th>2</th>\n",
       "      <td>M3A</td>\n",
       "      <td>North York</td>\n",
       "      <td>Parkwoods</td>\n",
       "    </tr>\n",
       "    <tr>\n",
       "      <th>3</th>\n",
       "      <td>M4A</td>\n",
       "      <td>North York</td>\n",
       "      <td>Victoria Village</td>\n",
       "    </tr>\n",
       "    <tr>\n",
       "      <th>4</th>\n",
       "      <td>M5A</td>\n",
       "      <td>Downtown Toronto</td>\n",
       "      <td>Regent Park, Harbourfront</td>\n",
       "    </tr>\n",
       "    <tr>\n",
       "      <th>...</th>\n",
       "      <td>...</td>\n",
       "      <td>...</td>\n",
       "      <td>...</td>\n",
       "    </tr>\n",
       "    <tr>\n",
       "      <th>175</th>\n",
       "      <td>M5Z</td>\n",
       "      <td>Not assigned</td>\n",
       "      <td>Not assigned</td>\n",
       "    </tr>\n",
       "    <tr>\n",
       "      <th>176</th>\n",
       "      <td>M6Z</td>\n",
       "      <td>Not assigned</td>\n",
       "      <td>Not assigned</td>\n",
       "    </tr>\n",
       "    <tr>\n",
       "      <th>177</th>\n",
       "      <td>M7Z</td>\n",
       "      <td>Not assigned</td>\n",
       "      <td>Not assigned</td>\n",
       "    </tr>\n",
       "    <tr>\n",
       "      <th>178</th>\n",
       "      <td>M8Z</td>\n",
       "      <td>Etobicoke</td>\n",
       "      <td>Mimico NW, The Queensway West, South of Bloor,...</td>\n",
       "    </tr>\n",
       "    <tr>\n",
       "      <th>179</th>\n",
       "      <td>M9Z</td>\n",
       "      <td>Not assigned</td>\n",
       "      <td>Not assigned</td>\n",
       "    </tr>\n",
       "  </tbody>\n",
       "</table>\n",
       "<p>180 rows × 3 columns</p>\n",
       "</div>"
      ],
      "text/plain": [
       "    Postal Code           Borough  \\\n",
       "0           M1A      Not assigned   \n",
       "1           M2A      Not assigned   \n",
       "2           M3A        North York   \n",
       "3           M4A        North York   \n",
       "4           M5A  Downtown Toronto   \n",
       "..          ...               ...   \n",
       "175         M5Z      Not assigned   \n",
       "176         M6Z      Not assigned   \n",
       "177         M7Z      Not assigned   \n",
       "178         M8Z         Etobicoke   \n",
       "179         M9Z      Not assigned   \n",
       "\n",
       "                                         Neighbourhood  \n",
       "0                                         Not assigned  \n",
       "1                                         Not assigned  \n",
       "2                                            Parkwoods  \n",
       "3                                     Victoria Village  \n",
       "4                            Regent Park, Harbourfront  \n",
       "..                                                 ...  \n",
       "175                                       Not assigned  \n",
       "176                                       Not assigned  \n",
       "177                                       Not assigned  \n",
       "178  Mimico NW, The Queensway West, South of Bloor,...  \n",
       "179                                       Not assigned  \n",
       "\n",
       "[180 rows x 3 columns]"
      ]
     },
     "execution_count": 6,
     "metadata": {},
     "output_type": "execute_result"
    }
   ],
   "source": [
    "wiki_data = wiki_data[0]\n",
    "wiki_data"
   ]
  },
  {
   "cell_type": "code",
   "execution_count": 7,
   "metadata": {},
   "outputs": [
    {
     "data": {
      "text/html": [
       "<div>\n",
       "<style scoped>\n",
       "    .dataframe tbody tr th:only-of-type {\n",
       "        vertical-align: middle;\n",
       "    }\n",
       "\n",
       "    .dataframe tbody tr th {\n",
       "        vertical-align: top;\n",
       "    }\n",
       "\n",
       "    .dataframe thead th {\n",
       "        text-align: right;\n",
       "    }\n",
       "</style>\n",
       "<table border=\"1\" class=\"dataframe\">\n",
       "  <thead>\n",
       "    <tr style=\"text-align: right;\">\n",
       "      <th></th>\n",
       "      <th>Postal Code</th>\n",
       "      <th>Borough</th>\n",
       "      <th>Neighbourhood</th>\n",
       "    </tr>\n",
       "  </thead>\n",
       "  <tbody>\n",
       "    <tr>\n",
       "      <th>2</th>\n",
       "      <td>M3A</td>\n",
       "      <td>North York</td>\n",
       "      <td>Parkwoods</td>\n",
       "    </tr>\n",
       "    <tr>\n",
       "      <th>3</th>\n",
       "      <td>M4A</td>\n",
       "      <td>North York</td>\n",
       "      <td>Victoria Village</td>\n",
       "    </tr>\n",
       "    <tr>\n",
       "      <th>4</th>\n",
       "      <td>M5A</td>\n",
       "      <td>Downtown Toronto</td>\n",
       "      <td>Regent Park, Harbourfront</td>\n",
       "    </tr>\n",
       "    <tr>\n",
       "      <th>5</th>\n",
       "      <td>M6A</td>\n",
       "      <td>North York</td>\n",
       "      <td>Lawrence Manor, Lawrence Heights</td>\n",
       "    </tr>\n",
       "    <tr>\n",
       "      <th>6</th>\n",
       "      <td>M7A</td>\n",
       "      <td>Downtown Toronto</td>\n",
       "      <td>Queen's Park, Ontario Provincial Government</td>\n",
       "    </tr>\n",
       "    <tr>\n",
       "      <th>...</th>\n",
       "      <td>...</td>\n",
       "      <td>...</td>\n",
       "      <td>...</td>\n",
       "    </tr>\n",
       "    <tr>\n",
       "      <th>160</th>\n",
       "      <td>M8X</td>\n",
       "      <td>Etobicoke</td>\n",
       "      <td>The Kingsway, Montgomery Road, Old Mill North</td>\n",
       "    </tr>\n",
       "    <tr>\n",
       "      <th>165</th>\n",
       "      <td>M4Y</td>\n",
       "      <td>Downtown Toronto</td>\n",
       "      <td>Church and Wellesley</td>\n",
       "    </tr>\n",
       "    <tr>\n",
       "      <th>168</th>\n",
       "      <td>M7Y</td>\n",
       "      <td>East Toronto</td>\n",
       "      <td>Business reply mail Processing Centre, South C...</td>\n",
       "    </tr>\n",
       "    <tr>\n",
       "      <th>169</th>\n",
       "      <td>M8Y</td>\n",
       "      <td>Etobicoke</td>\n",
       "      <td>Old Mill South, King's Mill Park, Sunnylea, Hu...</td>\n",
       "    </tr>\n",
       "    <tr>\n",
       "      <th>178</th>\n",
       "      <td>M8Z</td>\n",
       "      <td>Etobicoke</td>\n",
       "      <td>Mimico NW, The Queensway West, South of Bloor,...</td>\n",
       "    </tr>\n",
       "  </tbody>\n",
       "</table>\n",
       "<p>103 rows × 3 columns</p>\n",
       "</div>"
      ],
      "text/plain": [
       "    Postal Code           Borough  \\\n",
       "2           M3A        North York   \n",
       "3           M4A        North York   \n",
       "4           M5A  Downtown Toronto   \n",
       "5           M6A        North York   \n",
       "6           M7A  Downtown Toronto   \n",
       "..          ...               ...   \n",
       "160         M8X         Etobicoke   \n",
       "165         M4Y  Downtown Toronto   \n",
       "168         M7Y      East Toronto   \n",
       "169         M8Y         Etobicoke   \n",
       "178         M8Z         Etobicoke   \n",
       "\n",
       "                                         Neighbourhood  \n",
       "2                                            Parkwoods  \n",
       "3                                     Victoria Village  \n",
       "4                            Regent Park, Harbourfront  \n",
       "5                     Lawrence Manor, Lawrence Heights  \n",
       "6          Queen's Park, Ontario Provincial Government  \n",
       "..                                                 ...  \n",
       "160      The Kingsway, Montgomery Road, Old Mill North  \n",
       "165                               Church and Wellesley  \n",
       "168  Business reply mail Processing Centre, South C...  \n",
       "169  Old Mill South, King's Mill Park, Sunnylea, Hu...  \n",
       "178  Mimico NW, The Queensway West, South of Bloor,...  \n",
       "\n",
       "[103 rows x 3 columns]"
      ]
     },
     "execution_count": 7,
     "metadata": {},
     "output_type": "execute_result"
    }
   ],
   "source": [
    "df = wiki_data[wiki_data[\"Borough\"] != \"Not assigned\"]\n",
    "df"
   ]
  },
  {
   "cell_type": "code",
   "execution_count": 8,
   "metadata": {},
   "outputs": [
    {
     "data": {
      "text/html": [
       "<div>\n",
       "<style scoped>\n",
       "    .dataframe tbody tr th:only-of-type {\n",
       "        vertical-align: middle;\n",
       "    }\n",
       "\n",
       "    .dataframe tbody tr th {\n",
       "        vertical-align: top;\n",
       "    }\n",
       "\n",
       "    .dataframe thead th {\n",
       "        text-align: right;\n",
       "    }\n",
       "</style>\n",
       "<table border=\"1\" class=\"dataframe\">\n",
       "  <thead>\n",
       "    <tr style=\"text-align: right;\">\n",
       "      <th></th>\n",
       "      <th>Postal Code</th>\n",
       "      <th>Borough</th>\n",
       "      <th>Neighbourhood</th>\n",
       "    </tr>\n",
       "  </thead>\n",
       "  <tbody>\n",
       "    <tr>\n",
       "      <th>2</th>\n",
       "      <td>M3A</td>\n",
       "      <td>North York</td>\n",
       "      <td>Parkwoods</td>\n",
       "    </tr>\n",
       "    <tr>\n",
       "      <th>3</th>\n",
       "      <td>M4A</td>\n",
       "      <td>North York</td>\n",
       "      <td>Victoria Village</td>\n",
       "    </tr>\n",
       "    <tr>\n",
       "      <th>4</th>\n",
       "      <td>M5A</td>\n",
       "      <td>Downtown Toronto</td>\n",
       "      <td>Regent Park, Harbourfront</td>\n",
       "    </tr>\n",
       "    <tr>\n",
       "      <th>5</th>\n",
       "      <td>M6A</td>\n",
       "      <td>North York</td>\n",
       "      <td>Lawrence Manor, Lawrence Heights</td>\n",
       "    </tr>\n",
       "    <tr>\n",
       "      <th>6</th>\n",
       "      <td>M7A</td>\n",
       "      <td>Downtown Toronto</td>\n",
       "      <td>Queen's Park, Ontario Provincial Government</td>\n",
       "    </tr>\n",
       "    <tr>\n",
       "      <th>...</th>\n",
       "      <td>...</td>\n",
       "      <td>...</td>\n",
       "      <td>...</td>\n",
       "    </tr>\n",
       "    <tr>\n",
       "      <th>160</th>\n",
       "      <td>M8X</td>\n",
       "      <td>Etobicoke</td>\n",
       "      <td>The Kingsway, Montgomery Road, Old Mill North</td>\n",
       "    </tr>\n",
       "    <tr>\n",
       "      <th>165</th>\n",
       "      <td>M4Y</td>\n",
       "      <td>Downtown Toronto</td>\n",
       "      <td>Church and Wellesley</td>\n",
       "    </tr>\n",
       "    <tr>\n",
       "      <th>168</th>\n",
       "      <td>M7Y</td>\n",
       "      <td>East Toronto</td>\n",
       "      <td>Business reply mail Processing Centre, South C...</td>\n",
       "    </tr>\n",
       "    <tr>\n",
       "      <th>169</th>\n",
       "      <td>M8Y</td>\n",
       "      <td>Etobicoke</td>\n",
       "      <td>Old Mill South, King's Mill Park, Sunnylea, Hu...</td>\n",
       "    </tr>\n",
       "    <tr>\n",
       "      <th>178</th>\n",
       "      <td>M8Z</td>\n",
       "      <td>Etobicoke</td>\n",
       "      <td>Mimico NW, The Queensway West, South of Bloor,...</td>\n",
       "    </tr>\n",
       "  </tbody>\n",
       "</table>\n",
       "<p>103 rows × 3 columns</p>\n",
       "</div>"
      ],
      "text/plain": [
       "    Postal Code           Borough  \\\n",
       "2           M3A        North York   \n",
       "3           M4A        North York   \n",
       "4           M5A  Downtown Toronto   \n",
       "5           M6A        North York   \n",
       "6           M7A  Downtown Toronto   \n",
       "..          ...               ...   \n",
       "160         M8X         Etobicoke   \n",
       "165         M4Y  Downtown Toronto   \n",
       "168         M7Y      East Toronto   \n",
       "169         M8Y         Etobicoke   \n",
       "178         M8Z         Etobicoke   \n",
       "\n",
       "                                         Neighbourhood  \n",
       "2                                            Parkwoods  \n",
       "3                                     Victoria Village  \n",
       "4                            Regent Park, Harbourfront  \n",
       "5                     Lawrence Manor, Lawrence Heights  \n",
       "6          Queen's Park, Ontario Provincial Government  \n",
       "..                                                 ...  \n",
       "160      The Kingsway, Montgomery Road, Old Mill North  \n",
       "165                               Church and Wellesley  \n",
       "168  Business reply mail Processing Centre, South C...  \n",
       "169  Old Mill South, King's Mill Park, Sunnylea, Hu...  \n",
       "178  Mimico NW, The Queensway West, South of Bloor,...  \n",
       "\n",
       "[103 rows x 3 columns]"
      ]
     },
     "execution_count": 8,
     "metadata": {},
     "output_type": "execute_result"
    }
   ],
   "source": [
    "df = df.groupby(['Postal Code']).head()\n",
    "df"
   ]
  },
  {
   "cell_type": "code",
   "execution_count": 9,
   "metadata": {},
   "outputs": [
    {
     "data": {
      "text/plain": [
       "0"
      ]
     },
     "execution_count": 9,
     "metadata": {},
     "output_type": "execute_result"
    }
   ],
   "source": [
    "df.Neighbourhood.str.count(\"Not assigned\").sum()"
   ]
  },
  {
   "cell_type": "code",
   "execution_count": 10,
   "metadata": {},
   "outputs": [
    {
     "data": {
      "text/html": [
       "<div>\n",
       "<style scoped>\n",
       "    .dataframe tbody tr th:only-of-type {\n",
       "        vertical-align: middle;\n",
       "    }\n",
       "\n",
       "    .dataframe tbody tr th {\n",
       "        vertical-align: top;\n",
       "    }\n",
       "\n",
       "    .dataframe thead th {\n",
       "        text-align: right;\n",
       "    }\n",
       "</style>\n",
       "<table border=\"1\" class=\"dataframe\">\n",
       "  <thead>\n",
       "    <tr style=\"text-align: right;\">\n",
       "      <th></th>\n",
       "      <th>index</th>\n",
       "      <th>Postal Code</th>\n",
       "      <th>Borough</th>\n",
       "      <th>Neighbourhood</th>\n",
       "    </tr>\n",
       "  </thead>\n",
       "  <tbody>\n",
       "    <tr>\n",
       "      <th>0</th>\n",
       "      <td>2</td>\n",
       "      <td>M3A</td>\n",
       "      <td>North York</td>\n",
       "      <td>Parkwoods</td>\n",
       "    </tr>\n",
       "    <tr>\n",
       "      <th>1</th>\n",
       "      <td>3</td>\n",
       "      <td>M4A</td>\n",
       "      <td>North York</td>\n",
       "      <td>Victoria Village</td>\n",
       "    </tr>\n",
       "    <tr>\n",
       "      <th>2</th>\n",
       "      <td>4</td>\n",
       "      <td>M5A</td>\n",
       "      <td>Downtown Toronto</td>\n",
       "      <td>Regent Park, Harbourfront</td>\n",
       "    </tr>\n",
       "    <tr>\n",
       "      <th>3</th>\n",
       "      <td>5</td>\n",
       "      <td>M6A</td>\n",
       "      <td>North York</td>\n",
       "      <td>Lawrence Manor, Lawrence Heights</td>\n",
       "    </tr>\n",
       "    <tr>\n",
       "      <th>4</th>\n",
       "      <td>6</td>\n",
       "      <td>M7A</td>\n",
       "      <td>Downtown Toronto</td>\n",
       "      <td>Queen's Park, Ontario Provincial Government</td>\n",
       "    </tr>\n",
       "    <tr>\n",
       "      <th>...</th>\n",
       "      <td>...</td>\n",
       "      <td>...</td>\n",
       "      <td>...</td>\n",
       "      <td>...</td>\n",
       "    </tr>\n",
       "    <tr>\n",
       "      <th>98</th>\n",
       "      <td>160</td>\n",
       "      <td>M8X</td>\n",
       "      <td>Etobicoke</td>\n",
       "      <td>The Kingsway, Montgomery Road, Old Mill North</td>\n",
       "    </tr>\n",
       "    <tr>\n",
       "      <th>99</th>\n",
       "      <td>165</td>\n",
       "      <td>M4Y</td>\n",
       "      <td>Downtown Toronto</td>\n",
       "      <td>Church and Wellesley</td>\n",
       "    </tr>\n",
       "    <tr>\n",
       "      <th>100</th>\n",
       "      <td>168</td>\n",
       "      <td>M7Y</td>\n",
       "      <td>East Toronto</td>\n",
       "      <td>Business reply mail Processing Centre, South C...</td>\n",
       "    </tr>\n",
       "    <tr>\n",
       "      <th>101</th>\n",
       "      <td>169</td>\n",
       "      <td>M8Y</td>\n",
       "      <td>Etobicoke</td>\n",
       "      <td>Old Mill South, King's Mill Park, Sunnylea, Hu...</td>\n",
       "    </tr>\n",
       "    <tr>\n",
       "      <th>102</th>\n",
       "      <td>178</td>\n",
       "      <td>M8Z</td>\n",
       "      <td>Etobicoke</td>\n",
       "      <td>Mimico NW, The Queensway West, South of Bloor,...</td>\n",
       "    </tr>\n",
       "  </tbody>\n",
       "</table>\n",
       "<p>103 rows × 4 columns</p>\n",
       "</div>"
      ],
      "text/plain": [
       "     index Postal Code           Borough  \\\n",
       "0        2         M3A        North York   \n",
       "1        3         M4A        North York   \n",
       "2        4         M5A  Downtown Toronto   \n",
       "3        5         M6A        North York   \n",
       "4        6         M7A  Downtown Toronto   \n",
       "..     ...         ...               ...   \n",
       "98     160         M8X         Etobicoke   \n",
       "99     165         M4Y  Downtown Toronto   \n",
       "100    168         M7Y      East Toronto   \n",
       "101    169         M8Y         Etobicoke   \n",
       "102    178         M8Z         Etobicoke   \n",
       "\n",
       "                                         Neighbourhood  \n",
       "0                                            Parkwoods  \n",
       "1                                     Victoria Village  \n",
       "2                            Regent Park, Harbourfront  \n",
       "3                     Lawrence Manor, Lawrence Heights  \n",
       "4          Queen's Park, Ontario Provincial Government  \n",
       "..                                                 ...  \n",
       "98       The Kingsway, Montgomery Road, Old Mill North  \n",
       "99                                Church and Wellesley  \n",
       "100  Business reply mail Processing Centre, South C...  \n",
       "101  Old Mill South, King's Mill Park, Sunnylea, Hu...  \n",
       "102  Mimico NW, The Queensway West, South of Bloor,...  \n",
       "\n",
       "[103 rows x 4 columns]"
      ]
     },
     "execution_count": 10,
     "metadata": {},
     "output_type": "execute_result"
    }
   ],
   "source": [
    "df = df.reset_index()\n",
    "df"
   ]
  },
  {
   "cell_type": "code",
   "execution_count": 11,
   "metadata": {},
   "outputs": [
    {
     "data": {
      "text/html": [
       "<div>\n",
       "<style scoped>\n",
       "    .dataframe tbody tr th:only-of-type {\n",
       "        vertical-align: middle;\n",
       "    }\n",
       "\n",
       "    .dataframe tbody tr th {\n",
       "        vertical-align: top;\n",
       "    }\n",
       "\n",
       "    .dataframe thead th {\n",
       "        text-align: right;\n",
       "    }\n",
       "</style>\n",
       "<table border=\"1\" class=\"dataframe\">\n",
       "  <thead>\n",
       "    <tr style=\"text-align: right;\">\n",
       "      <th></th>\n",
       "      <th>Postal Code</th>\n",
       "      <th>Borough</th>\n",
       "      <th>Neighbourhood</th>\n",
       "    </tr>\n",
       "  </thead>\n",
       "  <tbody>\n",
       "    <tr>\n",
       "      <th>0</th>\n",
       "      <td>M3A</td>\n",
       "      <td>North York</td>\n",
       "      <td>Parkwoods</td>\n",
       "    </tr>\n",
       "    <tr>\n",
       "      <th>1</th>\n",
       "      <td>M4A</td>\n",
       "      <td>North York</td>\n",
       "      <td>Victoria Village</td>\n",
       "    </tr>\n",
       "    <tr>\n",
       "      <th>2</th>\n",
       "      <td>M5A</td>\n",
       "      <td>Downtown Toronto</td>\n",
       "      <td>Regent Park, Harbourfront</td>\n",
       "    </tr>\n",
       "    <tr>\n",
       "      <th>3</th>\n",
       "      <td>M6A</td>\n",
       "      <td>North York</td>\n",
       "      <td>Lawrence Manor, Lawrence Heights</td>\n",
       "    </tr>\n",
       "    <tr>\n",
       "      <th>4</th>\n",
       "      <td>M7A</td>\n",
       "      <td>Downtown Toronto</td>\n",
       "      <td>Queen's Park, Ontario Provincial Government</td>\n",
       "    </tr>\n",
       "    <tr>\n",
       "      <th>...</th>\n",
       "      <td>...</td>\n",
       "      <td>...</td>\n",
       "      <td>...</td>\n",
       "    </tr>\n",
       "    <tr>\n",
       "      <th>98</th>\n",
       "      <td>M8X</td>\n",
       "      <td>Etobicoke</td>\n",
       "      <td>The Kingsway, Montgomery Road, Old Mill North</td>\n",
       "    </tr>\n",
       "    <tr>\n",
       "      <th>99</th>\n",
       "      <td>M4Y</td>\n",
       "      <td>Downtown Toronto</td>\n",
       "      <td>Church and Wellesley</td>\n",
       "    </tr>\n",
       "    <tr>\n",
       "      <th>100</th>\n",
       "      <td>M7Y</td>\n",
       "      <td>East Toronto</td>\n",
       "      <td>Business reply mail Processing Centre, South C...</td>\n",
       "    </tr>\n",
       "    <tr>\n",
       "      <th>101</th>\n",
       "      <td>M8Y</td>\n",
       "      <td>Etobicoke</td>\n",
       "      <td>Old Mill South, King's Mill Park, Sunnylea, Hu...</td>\n",
       "    </tr>\n",
       "    <tr>\n",
       "      <th>102</th>\n",
       "      <td>M8Z</td>\n",
       "      <td>Etobicoke</td>\n",
       "      <td>Mimico NW, The Queensway West, South of Bloor,...</td>\n",
       "    </tr>\n",
       "  </tbody>\n",
       "</table>\n",
       "<p>103 rows × 3 columns</p>\n",
       "</div>"
      ],
      "text/plain": [
       "    Postal Code           Borough  \\\n",
       "0           M3A        North York   \n",
       "1           M4A        North York   \n",
       "2           M5A  Downtown Toronto   \n",
       "3           M6A        North York   \n",
       "4           M7A  Downtown Toronto   \n",
       "..          ...               ...   \n",
       "98          M8X         Etobicoke   \n",
       "99          M4Y  Downtown Toronto   \n",
       "100         M7Y      East Toronto   \n",
       "101         M8Y         Etobicoke   \n",
       "102         M8Z         Etobicoke   \n",
       "\n",
       "                                         Neighbourhood  \n",
       "0                                            Parkwoods  \n",
       "1                                     Victoria Village  \n",
       "2                            Regent Park, Harbourfront  \n",
       "3                     Lawrence Manor, Lawrence Heights  \n",
       "4          Queen's Park, Ontario Provincial Government  \n",
       "..                                                 ...  \n",
       "98       The Kingsway, Montgomery Road, Old Mill North  \n",
       "99                                Church and Wellesley  \n",
       "100  Business reply mail Processing Centre, South C...  \n",
       "101  Old Mill South, King's Mill Park, Sunnylea, Hu...  \n",
       "102  Mimico NW, The Queensway West, South of Bloor,...  \n",
       "\n",
       "[103 rows x 3 columns]"
      ]
     },
     "execution_count": 11,
     "metadata": {},
     "output_type": "execute_result"
    }
   ],
   "source": [
    "df.drop(['index'], axis = 'columns', inplace = True)\n",
    "df"
   ]
  },
  {
   "cell_type": "code",
   "execution_count": 12,
   "metadata": {},
   "outputs": [
    {
     "data": {
      "text/plain": [
       "(103, 3)"
      ]
     },
     "execution_count": 12,
     "metadata": {},
     "output_type": "execute_result"
    }
   ],
   "source": [
    "df.shape"
   ]
  },
  {
   "cell_type": "markdown",
   "metadata": {},
   "source": [
    "Answer to Question 1: We have 103 rows and 3 columns"
   ]
  },
  {
   "cell_type": "markdown",
   "metadata": {},
   "source": [
    "# question 2"
   ]
  },
  {
   "cell_type": "code",
   "execution_count": 13,
   "metadata": {},
   "outputs": [
    {
     "name": "stdout",
     "output_type": "stream",
     "text": [
      "Requirement already satisfied: geocoder in c:\\users\\hp\\anaconda3\\lib\\site-packages (1.38.1)Note: you may need to restart the kernel to use updated packages.\n",
      "\n",
      "Requirement already satisfied: ratelim in c:\\users\\hp\\anaconda3\\lib\\site-packages (from geocoder) (0.1.6)\n",
      "Requirement already satisfied: requests in c:\\users\\hp\\anaconda3\\lib\\site-packages (from geocoder) (2.24.0)\n",
      "Requirement already satisfied: click in c:\\users\\hp\\anaconda3\\lib\\site-packages (from geocoder) (7.1.2)\n",
      "Requirement already satisfied: future in c:\\users\\hp\\anaconda3\\lib\\site-packages (from geocoder) (0.18.2)\n",
      "Requirement already satisfied: six in c:\\users\\hp\\anaconda3\\lib\\site-packages (from geocoder) (1.15.0)\n",
      "Requirement already satisfied: decorator in c:\\users\\hp\\anaconda3\\lib\\site-packages (from ratelim->geocoder) (4.4.2)\n",
      "Requirement already satisfied: idna<3,>=2.5 in c:\\users\\hp\\anaconda3\\lib\\site-packages (from requests->geocoder) (2.10)\n",
      "Requirement already satisfied: chardet<4,>=3.0.2 in c:\\users\\hp\\anaconda3\\lib\\site-packages (from requests->geocoder) (3.0.4)\n",
      "Requirement already satisfied: certifi>=2017.4.17 in c:\\users\\hp\\anaconda3\\lib\\site-packages (from requests->geocoder) (2020.6.20)\n",
      "Requirement already satisfied: urllib3!=1.25.0,!=1.25.1,<1.26,>=1.21.1 in c:\\users\\hp\\anaconda3\\lib\\site-packages (from requests->geocoder) (1.25.9)\n"
     ]
    }
   ],
   "source": [
    "pip install geocoder"
   ]
  },
  {
   "cell_type": "code",
   "execution_count": 14,
   "metadata": {},
   "outputs": [],
   "source": [
    "import geocoder"
   ]
  },
  {
   "cell_type": "code",
   "execution_count": 15,
   "metadata": {},
   "outputs": [
    {
     "data": {
      "text/html": [
       "<div>\n",
       "<style scoped>\n",
       "    .dataframe tbody tr th:only-of-type {\n",
       "        vertical-align: middle;\n",
       "    }\n",
       "\n",
       "    .dataframe tbody tr th {\n",
       "        vertical-align: top;\n",
       "    }\n",
       "\n",
       "    .dataframe thead th {\n",
       "        text-align: right;\n",
       "    }\n",
       "</style>\n",
       "<table border=\"1\" class=\"dataframe\">\n",
       "  <thead>\n",
       "    <tr style=\"text-align: right;\">\n",
       "      <th></th>\n",
       "      <th>Postal Code</th>\n",
       "      <th>Latitude</th>\n",
       "      <th>Longitude</th>\n",
       "    </tr>\n",
       "  </thead>\n",
       "  <tbody>\n",
       "    <tr>\n",
       "      <th>0</th>\n",
       "      <td>M1B</td>\n",
       "      <td>43.806686</td>\n",
       "      <td>-79.194353</td>\n",
       "    </tr>\n",
       "    <tr>\n",
       "      <th>1</th>\n",
       "      <td>M1C</td>\n",
       "      <td>43.784535</td>\n",
       "      <td>-79.160497</td>\n",
       "    </tr>\n",
       "    <tr>\n",
       "      <th>2</th>\n",
       "      <td>M1E</td>\n",
       "      <td>43.763573</td>\n",
       "      <td>-79.188711</td>\n",
       "    </tr>\n",
       "    <tr>\n",
       "      <th>3</th>\n",
       "      <td>M1G</td>\n",
       "      <td>43.770992</td>\n",
       "      <td>-79.216917</td>\n",
       "    </tr>\n",
       "    <tr>\n",
       "      <th>4</th>\n",
       "      <td>M1H</td>\n",
       "      <td>43.773136</td>\n",
       "      <td>-79.239476</td>\n",
       "    </tr>\n",
       "    <tr>\n",
       "      <th>...</th>\n",
       "      <td>...</td>\n",
       "      <td>...</td>\n",
       "      <td>...</td>\n",
       "    </tr>\n",
       "    <tr>\n",
       "      <th>98</th>\n",
       "      <td>M9N</td>\n",
       "      <td>43.706876</td>\n",
       "      <td>-79.518188</td>\n",
       "    </tr>\n",
       "    <tr>\n",
       "      <th>99</th>\n",
       "      <td>M9P</td>\n",
       "      <td>43.696319</td>\n",
       "      <td>-79.532242</td>\n",
       "    </tr>\n",
       "    <tr>\n",
       "      <th>100</th>\n",
       "      <td>M9R</td>\n",
       "      <td>43.688905</td>\n",
       "      <td>-79.554724</td>\n",
       "    </tr>\n",
       "    <tr>\n",
       "      <th>101</th>\n",
       "      <td>M9V</td>\n",
       "      <td>43.739416</td>\n",
       "      <td>-79.588437</td>\n",
       "    </tr>\n",
       "    <tr>\n",
       "      <th>102</th>\n",
       "      <td>M9W</td>\n",
       "      <td>43.706748</td>\n",
       "      <td>-79.594054</td>\n",
       "    </tr>\n",
       "  </tbody>\n",
       "</table>\n",
       "<p>103 rows × 3 columns</p>\n",
       "</div>"
      ],
      "text/plain": [
       "    Postal Code   Latitude  Longitude\n",
       "0           M1B  43.806686 -79.194353\n",
       "1           M1C  43.784535 -79.160497\n",
       "2           M1E  43.763573 -79.188711\n",
       "3           M1G  43.770992 -79.216917\n",
       "4           M1H  43.773136 -79.239476\n",
       "..          ...        ...        ...\n",
       "98          M9N  43.706876 -79.518188\n",
       "99          M9P  43.696319 -79.532242\n",
       "100         M9R  43.688905 -79.554724\n",
       "101         M9V  43.739416 -79.588437\n",
       "102         M9W  43.706748 -79.594054\n",
       "\n",
       "[103 rows x 3 columns]"
      ]
     },
     "execution_count": 15,
     "metadata": {},
     "output_type": "execute_result"
    }
   ],
   "source": [
    "data = pd.read_csv(\"https://cocl.us/Geospatial_data\")\n",
    "data"
   ]
  },
  {
   "cell_type": "code",
   "execution_count": 16,
   "metadata": {},
   "outputs": [
    {
     "name": "stdout",
     "output_type": "stream",
     "text": [
      "The shape of our wiki data is:  (103, 3)\n",
      "the shape of our csv data is:  (103, 3)\n"
     ]
    }
   ],
   "source": [
    "print(\"The shape of our wiki data is: \", df.shape)\n",
    "print(\"the shape of our csv data is: \", data.shape)"
   ]
  },
  {
   "cell_type": "code",
   "execution_count": 17,
   "metadata": {},
   "outputs": [
    {
     "data": {
      "text/plain": [
       "Postal Code      object\n",
       "Borough          object\n",
       "Neighbourhood    object\n",
       "dtype: object"
      ]
     },
     "execution_count": 17,
     "metadata": {},
     "output_type": "execute_result"
    }
   ],
   "source": [
    "df.dtypes"
   ]
  },
  {
   "cell_type": "code",
   "execution_count": 18,
   "metadata": {},
   "outputs": [
    {
     "data": {
      "text/plain": [
       "Postal Code     object\n",
       "Latitude       float64\n",
       "Longitude      float64\n",
       "dtype: object"
      ]
     },
     "execution_count": 18,
     "metadata": {},
     "output_type": "execute_result"
    }
   ],
   "source": [
    "data.dtypes"
   ]
  },
  {
   "cell_type": "code",
   "execution_count": 19,
   "metadata": {},
   "outputs": [
    {
     "data": {
      "text/html": [
       "<div>\n",
       "<style scoped>\n",
       "    .dataframe tbody tr th:only-of-type {\n",
       "        vertical-align: middle;\n",
       "    }\n",
       "\n",
       "    .dataframe tbody tr th {\n",
       "        vertical-align: top;\n",
       "    }\n",
       "\n",
       "    .dataframe thead th {\n",
       "        text-align: right;\n",
       "    }\n",
       "</style>\n",
       "<table border=\"1\" class=\"dataframe\">\n",
       "  <thead>\n",
       "    <tr style=\"text-align: right;\">\n",
       "      <th></th>\n",
       "      <th>Postal Code</th>\n",
       "      <th>Borough</th>\n",
       "      <th>Neighbourhood</th>\n",
       "      <th>Latitude</th>\n",
       "      <th>Longitude</th>\n",
       "    </tr>\n",
       "  </thead>\n",
       "  <tbody>\n",
       "    <tr>\n",
       "      <th>0</th>\n",
       "      <td>M3A</td>\n",
       "      <td>North York</td>\n",
       "      <td>Parkwoods</td>\n",
       "      <td>43.753259</td>\n",
       "      <td>-79.329656</td>\n",
       "    </tr>\n",
       "    <tr>\n",
       "      <th>1</th>\n",
       "      <td>M4A</td>\n",
       "      <td>North York</td>\n",
       "      <td>Victoria Village</td>\n",
       "      <td>43.725882</td>\n",
       "      <td>-79.315572</td>\n",
       "    </tr>\n",
       "    <tr>\n",
       "      <th>2</th>\n",
       "      <td>M5A</td>\n",
       "      <td>Downtown Toronto</td>\n",
       "      <td>Regent Park, Harbourfront</td>\n",
       "      <td>43.654260</td>\n",
       "      <td>-79.360636</td>\n",
       "    </tr>\n",
       "    <tr>\n",
       "      <th>3</th>\n",
       "      <td>M6A</td>\n",
       "      <td>North York</td>\n",
       "      <td>Lawrence Manor, Lawrence Heights</td>\n",
       "      <td>43.718518</td>\n",
       "      <td>-79.464763</td>\n",
       "    </tr>\n",
       "    <tr>\n",
       "      <th>4</th>\n",
       "      <td>M7A</td>\n",
       "      <td>Downtown Toronto</td>\n",
       "      <td>Queen's Park, Ontario Provincial Government</td>\n",
       "      <td>43.662301</td>\n",
       "      <td>-79.389494</td>\n",
       "    </tr>\n",
       "    <tr>\n",
       "      <th>...</th>\n",
       "      <td>...</td>\n",
       "      <td>...</td>\n",
       "      <td>...</td>\n",
       "      <td>...</td>\n",
       "      <td>...</td>\n",
       "    </tr>\n",
       "    <tr>\n",
       "      <th>98</th>\n",
       "      <td>M8X</td>\n",
       "      <td>Etobicoke</td>\n",
       "      <td>The Kingsway, Montgomery Road, Old Mill North</td>\n",
       "      <td>43.653654</td>\n",
       "      <td>-79.506944</td>\n",
       "    </tr>\n",
       "    <tr>\n",
       "      <th>99</th>\n",
       "      <td>M4Y</td>\n",
       "      <td>Downtown Toronto</td>\n",
       "      <td>Church and Wellesley</td>\n",
       "      <td>43.665860</td>\n",
       "      <td>-79.383160</td>\n",
       "    </tr>\n",
       "    <tr>\n",
       "      <th>100</th>\n",
       "      <td>M7Y</td>\n",
       "      <td>East Toronto</td>\n",
       "      <td>Business reply mail Processing Centre, South C...</td>\n",
       "      <td>43.662744</td>\n",
       "      <td>-79.321558</td>\n",
       "    </tr>\n",
       "    <tr>\n",
       "      <th>101</th>\n",
       "      <td>M8Y</td>\n",
       "      <td>Etobicoke</td>\n",
       "      <td>Old Mill South, King's Mill Park, Sunnylea, Hu...</td>\n",
       "      <td>43.636258</td>\n",
       "      <td>-79.498509</td>\n",
       "    </tr>\n",
       "    <tr>\n",
       "      <th>102</th>\n",
       "      <td>M8Z</td>\n",
       "      <td>Etobicoke</td>\n",
       "      <td>Mimico NW, The Queensway West, South of Bloor,...</td>\n",
       "      <td>43.628841</td>\n",
       "      <td>-79.520999</td>\n",
       "    </tr>\n",
       "  </tbody>\n",
       "</table>\n",
       "<p>103 rows × 5 columns</p>\n",
       "</div>"
      ],
      "text/plain": [
       "    Postal Code           Borough  \\\n",
       "0           M3A        North York   \n",
       "1           M4A        North York   \n",
       "2           M5A  Downtown Toronto   \n",
       "3           M6A        North York   \n",
       "4           M7A  Downtown Toronto   \n",
       "..          ...               ...   \n",
       "98          M8X         Etobicoke   \n",
       "99          M4Y  Downtown Toronto   \n",
       "100         M7Y      East Toronto   \n",
       "101         M8Y         Etobicoke   \n",
       "102         M8Z         Etobicoke   \n",
       "\n",
       "                                         Neighbourhood   Latitude  Longitude  \n",
       "0                                            Parkwoods  43.753259 -79.329656  \n",
       "1                                     Victoria Village  43.725882 -79.315572  \n",
       "2                            Regent Park, Harbourfront  43.654260 -79.360636  \n",
       "3                     Lawrence Manor, Lawrence Heights  43.718518 -79.464763  \n",
       "4          Queen's Park, Ontario Provincial Government  43.662301 -79.389494  \n",
       "..                                                 ...        ...        ...  \n",
       "98       The Kingsway, Montgomery Road, Old Mill North  43.653654 -79.506944  \n",
       "99                                Church and Wellesley  43.665860 -79.383160  \n",
       "100  Business reply mail Processing Centre, South C...  43.662744 -79.321558  \n",
       "101  Old Mill South, King's Mill Park, Sunnylea, Hu...  43.636258 -79.498509  \n",
       "102  Mimico NW, The Queensway West, South of Bloor,...  43.628841 -79.520999  \n",
       "\n",
       "[103 rows x 5 columns]"
      ]
     },
     "execution_count": 19,
     "metadata": {},
     "output_type": "execute_result"
    }
   ],
   "source": [
    "combined_data = df.join(data.set_index('Postal Code'), on='Postal Code', how='inner')\n",
    "combined_data"
   ]
  },
  {
   "cell_type": "code",
   "execution_count": 20,
   "metadata": {},
   "outputs": [
    {
     "data": {
      "text/plain": [
       "(103, 5)"
      ]
     },
     "execution_count": 20,
     "metadata": {},
     "output_type": "execute_result"
    }
   ],
   "source": [
    "combined_data.shape"
   ]
  },
  {
   "cell_type": "markdown",
   "metadata": {},
   "source": [
    "# question 3"
   ]
  },
  {
   "cell_type": "code",
   "execution_count": 21,
   "metadata": {},
   "outputs": [
    {
     "name": "stdout",
     "output_type": "stream",
     "text": [
      "Requirement already satisfied: geopy in c:\\users\\hp\\anaconda3\\lib\\site-packages (2.0.0)Note: you may need to restart the kernel to use updated packages.\n",
      "Requirement already satisfied: geographiclib<2,>=1.49 in c:\\users\\hp\\anaconda3\\lib\\site-packages (from geopy) (1.50)\n",
      "\n"
     ]
    }
   ],
   "source": [
    "pip install geopy"
   ]
  },
  {
   "cell_type": "code",
   "execution_count": 22,
   "metadata": {},
   "outputs": [],
   "source": [
    "from geopy.geocoders import Nominatim"
   ]
  },
  {
   "cell_type": "code",
   "execution_count": 23,
   "metadata": {},
   "outputs": [
    {
     "name": "stdout",
     "output_type": "stream",
     "text": [
      "The coordinates of Toronto are 43.6534817, -79.3839347.\n"
     ]
    }
   ],
   "source": [
    "address = 'Toronto, Ontario'\n",
    "\n",
    "geolocator = Nominatim(user_agent=\"toronto_explorer\")\n",
    "location = geolocator.geocode(address)\n",
    "latitude = location.latitude\n",
    "longitude = location.longitude\n",
    "print('The coordinates of Toronto are {}, {}.'.format(latitude, longitude))"
   ]
  },
  {
   "cell_type": "code",
   "execution_count": 24,
   "metadata": {},
   "outputs": [
    {
     "name": "stdout",
     "output_type": "stream",
     "text": [
      "Requirement already satisfied: folium in c:\\users\\hp\\anaconda3\\lib\\site-packages (0.11.0)\n",
      "Requirement already satisfied: numpy in c:\\users\\hp\\anaconda3\\lib\\site-packages (from folium) (1.18.5)\n",
      "Requirement already satisfied: branca>=0.3.0 in c:\\users\\hp\\anaconda3\\lib\\site-packages (from folium) (0.4.1)\n",
      "Requirement already satisfied: jinja2>=2.9 in c:\\users\\hp\\anaconda3\\lib\\site-packages (from folium) (2.11.2)\n",
      "Requirement already satisfied: requests in c:\\users\\hp\\anaconda3\\lib\\site-packages (from folium) (2.24.0)\n",
      "Requirement already satisfied: MarkupSafe>=0.23 in c:\\users\\hp\\anaconda3\\lib\\site-packages (from jinja2>=2.9->folium) (1.1.1)\n",
      "Requirement already satisfied: idna<3,>=2.5 in c:\\users\\hp\\anaconda3\\lib\\site-packages (from requests->folium) (2.10)\n",
      "Requirement already satisfied: chardet<4,>=3.0.2 in c:\\users\\hp\\anaconda3\\lib\\site-packages (from requests->folium) (3.0.4)\n",
      "Requirement already satisfied: urllib3!=1.25.0,!=1.25.1,<1.26,>=1.21.1 in c:\\users\\hp\\anaconda3\\lib\\site-packages (from requests->folium) (1.25.9)\n",
      "Requirement already satisfied: certifi>=2017.4.17 in c:\\users\\hp\\anaconda3\\lib\\site-packages (from requests->folium) (2020.6.20)\n",
      "Note: you may need to restart the kernel to use updated packages.\n"
     ]
    }
   ],
   "source": [
    "pip install folium"
   ]
  },
  {
   "cell_type": "code",
   "execution_count": 25,
   "metadata": {},
   "outputs": [],
   "source": [
    "import folium"
   ]
  },
  {
   "cell_type": "code",
   "execution_count": 26,
   "metadata": {},
   "outputs": [
    {
     "data": {
      "text/html": [
       "<div style=\"width:100%;\"><div style=\"position:relative;width:100%;height:0;padding-bottom:60%;\"><span style=\"color:#565656\">Make this Notebook Trusted to load map: File -> Trust Notebook</span><iframe src=\"about:blank\" style=\"position:absolute;width:100%;height:100%;left:0;top:0;border:none !important;\" data-html=PCFET0NUWVBFIGh0bWw+CjxoZWFkPiAgICAKICAgIDxtZXRhIGh0dHAtZXF1aXY9ImNvbnRlbnQtdHlwZSIgY29udGVudD0idGV4dC9odG1sOyBjaGFyc2V0PVVURi04IiAvPgogICAgCiAgICAgICAgPHNjcmlwdD4KICAgICAgICAgICAgTF9OT19UT1VDSCA9IGZhbHNlOwogICAgICAgICAgICBMX0RJU0FCTEVfM0QgPSBmYWxzZTsKICAgICAgICA8L3NjcmlwdD4KICAgIAogICAgPHNjcmlwdCBzcmM9Imh0dHBzOi8vY2RuLmpzZGVsaXZyLm5ldC9ucG0vbGVhZmxldEAxLjYuMC9kaXN0L2xlYWZsZXQuanMiPjwvc2NyaXB0PgogICAgPHNjcmlwdCBzcmM9Imh0dHBzOi8vY29kZS5qcXVlcnkuY29tL2pxdWVyeS0xLjEyLjQubWluLmpzIj48L3NjcmlwdD4KICAgIDxzY3JpcHQgc3JjPSJodHRwczovL21heGNkbi5ib290c3RyYXBjZG4uY29tL2Jvb3RzdHJhcC8zLjIuMC9qcy9ib290c3RyYXAubWluLmpzIj48L3NjcmlwdD4KICAgIDxzY3JpcHQgc3JjPSJodHRwczovL2NkbmpzLmNsb3VkZmxhcmUuY29tL2FqYXgvbGlicy9MZWFmbGV0LmF3ZXNvbWUtbWFya2Vycy8yLjAuMi9sZWFmbGV0LmF3ZXNvbWUtbWFya2Vycy5qcyI+PC9zY3JpcHQ+CiAgICA8bGluayByZWw9InN0eWxlc2hlZXQiIGhyZWY9Imh0dHBzOi8vY2RuLmpzZGVsaXZyLm5ldC9ucG0vbGVhZmxldEAxLjYuMC9kaXN0L2xlYWZsZXQuY3NzIi8+CiAgICA8bGluayByZWw9InN0eWxlc2hlZXQiIGhyZWY9Imh0dHBzOi8vbWF4Y2RuLmJvb3RzdHJhcGNkbi5jb20vYm9vdHN0cmFwLzMuMi4wL2Nzcy9ib290c3RyYXAubWluLmNzcyIvPgogICAgPGxpbmsgcmVsPSJzdHlsZXNoZWV0IiBocmVmPSJodHRwczovL21heGNkbi5ib290c3RyYXBjZG4uY29tL2Jvb3RzdHJhcC8zLjIuMC9jc3MvYm9vdHN0cmFwLXRoZW1lLm1pbi5jc3MiLz4KICAgIDxsaW5rIHJlbD0ic3R5bGVzaGVldCIgaHJlZj0iaHR0cHM6Ly9tYXhjZG4uYm9vdHN0cmFwY2RuLmNvbS9mb250LWF3ZXNvbWUvNC42LjMvY3NzL2ZvbnQtYXdlc29tZS5taW4uY3NzIi8+CiAgICA8bGluayByZWw9InN0eWxlc2hlZXQiIGhyZWY9Imh0dHBzOi8vY2RuanMuY2xvdWRmbGFyZS5jb20vYWpheC9saWJzL0xlYWZsZXQuYXdlc29tZS1tYXJrZXJzLzIuMC4yL2xlYWZsZXQuYXdlc29tZS1tYXJrZXJzLmNzcyIvPgogICAgPGxpbmsgcmVsPSJzdHlsZXNoZWV0IiBocmVmPSJodHRwczovL3Jhd2Nkbi5naXRoYWNrLmNvbS9weXRob24tdmlzdWFsaXphdGlvbi9mb2xpdW0vbWFzdGVyL2ZvbGl1bS90ZW1wbGF0ZXMvbGVhZmxldC5hd2Vzb21lLnJvdGF0ZS5jc3MiLz4KICAgIDxzdHlsZT5odG1sLCBib2R5IHt3aWR0aDogMTAwJTtoZWlnaHQ6IDEwMCU7bWFyZ2luOiAwO3BhZGRpbmc6IDA7fTwvc3R5bGU+CiAgICA8c3R5bGU+I21hcCB7cG9zaXRpb246YWJzb2x1dGU7dG9wOjA7Ym90dG9tOjA7cmlnaHQ6MDtsZWZ0OjA7fTwvc3R5bGU+CiAgICAKICAgICAgICAgICAgPG1ldGEgbmFtZT0idmlld3BvcnQiIGNvbnRlbnQ9IndpZHRoPWRldmljZS13aWR0aCwKICAgICAgICAgICAgICAgIGluaXRpYWwtc2NhbGU9MS4wLCBtYXhpbXVtLXNjYWxlPTEuMCwgdXNlci1zY2FsYWJsZT1ubyIgLz4KICAgICAgICAgICAgPHN0eWxlPgogICAgICAgICAgICAgICAgI21hcF84YjkwNzc3M2MyZTc0NjM0ODE0YzNmZjJjZWMxZGY4MiB7CiAgICAgICAgICAgICAgICAgICAgcG9zaXRpb246IHJlbGF0aXZlOwogICAgICAgICAgICAgICAgICAgIHdpZHRoOiAxMDAuMCU7CiAgICAgICAgICAgICAgICAgICAgaGVpZ2h0OiAxMDAuMCU7CiAgICAgICAgICAgICAgICAgICAgbGVmdDogMC4wJTsKICAgICAgICAgICAgICAgICAgICB0b3A6IDAuMCU7CiAgICAgICAgICAgICAgICB9CiAgICAgICAgICAgIDwvc3R5bGU+CiAgICAgICAgCjwvaGVhZD4KPGJvZHk+ICAgIAogICAgCiAgICAgICAgICAgIDxkaXYgY2xhc3M9ImZvbGl1bS1tYXAiIGlkPSJtYXBfOGI5MDc3NzNjMmU3NDYzNDgxNGMzZmYyY2VjMWRmODIiID48L2Rpdj4KICAgICAgICAKPC9ib2R5Pgo8c2NyaXB0PiAgICAKICAgIAogICAgICAgICAgICB2YXIgbWFwXzhiOTA3NzczYzJlNzQ2MzQ4MTRjM2ZmMmNlYzFkZjgyID0gTC5tYXAoCiAgICAgICAgICAgICAgICAibWFwXzhiOTA3NzczYzJlNzQ2MzQ4MTRjM2ZmMmNlYzFkZjgyIiwKICAgICAgICAgICAgICAgIHsKICAgICAgICAgICAgICAgICAgICBjZW50ZXI6IFs0My42NTM0ODE3LCAtNzkuMzgzOTM0N10sCiAgICAgICAgICAgICAgICAgICAgY3JzOiBMLkNSUy5FUFNHMzg1NywKICAgICAgICAgICAgICAgICAgICB6b29tOiAxMSwKICAgICAgICAgICAgICAgICAgICB6b29tQ29udHJvbDogdHJ1ZSwKICAgICAgICAgICAgICAgICAgICBwcmVmZXJDYW52YXM6IGZhbHNlLAogICAgICAgICAgICAgICAgfQogICAgICAgICAgICApOwoKICAgICAgICAgICAgCgogICAgICAgIAogICAgCiAgICAgICAgICAgIHZhciB0aWxlX2xheWVyXzA4YzAzODNiZmEzYzQxOWM4MTMwOTliZGM1YWE4NGZlID0gTC50aWxlTGF5ZXIoCiAgICAgICAgICAgICAgICAiaHR0cHM6Ly97c30udGlsZS5vcGVuc3RyZWV0bWFwLm9yZy97en0ve3h9L3t5fS5wbmciLAogICAgICAgICAgICAgICAgeyJhdHRyaWJ1dGlvbiI6ICJEYXRhIGJ5IFx1MDAyNmNvcHk7IFx1MDAzY2EgaHJlZj1cImh0dHA6Ly9vcGVuc3RyZWV0bWFwLm9yZ1wiXHUwMDNlT3BlblN0cmVldE1hcFx1MDAzYy9hXHUwMDNlLCB1bmRlciBcdTAwM2NhIGhyZWY9XCJodHRwOi8vd3d3Lm9wZW5zdHJlZXRtYXAub3JnL2NvcHlyaWdodFwiXHUwMDNlT0RiTFx1MDAzYy9hXHUwMDNlLiIsICJkZXRlY3RSZXRpbmEiOiBmYWxzZSwgIm1heE5hdGl2ZVpvb20iOiAxOCwgIm1heFpvb20iOiAxOCwgIm1pblpvb20iOiAwLCAibm9XcmFwIjogZmFsc2UsICJvcGFjaXR5IjogMSwgInN1YmRvbWFpbnMiOiAiYWJjIiwgInRtcyI6IGZhbHNlfQogICAgICAgICAgICApLmFkZFRvKG1hcF84YjkwNzc3M2MyZTc0NjM0ODE0YzNmZjJjZWMxZGY4Mik7CiAgICAgICAgCiAgICAKICAgICAgICAgICAgdmFyIGNpcmNsZV9tYXJrZXJfNTgxMDcxMGY0ZWVkNDcxNmE0ODM2N2UwNGVlOTlkM2MgPSBMLmNpcmNsZU1hcmtlcigKICAgICAgICAgICAgICAgIFs0My43NTMyNTg2LCAtNzkuMzI5NjU2NV0sCiAgICAgICAgICAgICAgICB7ImJ1YmJsaW5nTW91c2VFdmVudHMiOiB0cnVlLCAiY29sb3IiOiAicmVkIiwgImRhc2hBcnJheSI6IG51bGwsICJkYXNoT2Zmc2V0IjogbnVsbCwgImZpbGwiOiB0cnVlLCAiZmlsbENvbG9yIjogInJlZCIsICJmaWxsT3BhY2l0eSI6IDAuMiwgImZpbGxSdWxlIjogImV2ZW5vZGQiLCAibGluZUNhcCI6ICJyb3VuZCIsICJsaW5lSm9pbiI6ICJyb3VuZCIsICJvcGFjaXR5IjogMS4wLCAicmFkaXVzIjogNSwgInN0cm9rZSI6IHRydWUsICJ3ZWlnaHQiOiAzfQogICAgICAgICAgICApLmFkZFRvKG1hcF84YjkwNzc3M2MyZTc0NjM0ODE0YzNmZjJjZWMxZGY4Mik7CiAgICAgICAgCiAgICAKICAgICAgICB2YXIgcG9wdXBfNjE0MDcyNmM4NjAwNDZkNThkYWIxMGQ4YzE1Mzc2YjYgPSBMLnBvcHVwKHsibWF4V2lkdGgiOiAiMTAwJSJ9KTsKCiAgICAgICAgCiAgICAgICAgICAgIHZhciBodG1sX2Q3OGEzMjQ4ZDA2OTQxNmU5MDc3MWFjOTRjMzA2ZmIyID0gJChgPGRpdiBpZD0iaHRtbF9kNzhhMzI0OGQwNjk0MTZlOTA3NzFhYzk0YzMwNmZiMiIgc3R5bGU9IndpZHRoOiAxMDAuMCU7IGhlaWdodDogMTAwLjAlOyI+UGFya3dvb2RzLCBOb3J0aCBZb3JrPC9kaXY+YClbMF07CiAgICAgICAgICAgIHBvcHVwXzYxNDA3MjZjODYwMDQ2ZDU4ZGFiMTBkOGMxNTM3NmI2LnNldENvbnRlbnQoaHRtbF9kNzhhMzI0OGQwNjk0MTZlOTA3NzFhYzk0YzMwNmZiMik7CiAgICAgICAgCgogICAgICAgIGNpcmNsZV9tYXJrZXJfNTgxMDcxMGY0ZWVkNDcxNmE0ODM2N2UwNGVlOTlkM2MuYmluZFBvcHVwKHBvcHVwXzYxNDA3MjZjODYwMDQ2ZDU4ZGFiMTBkOGMxNTM3NmI2KQogICAgICAgIDsKCiAgICAgICAgCiAgICAKICAgIAogICAgICAgICAgICB2YXIgY2lyY2xlX21hcmtlcl8yN2E4MWM4MjZjNTE0MWQwYjZjMDI2NTRjZDRkZDRkYiA9IEwuY2lyY2xlTWFya2VyKAogICAgICAgICAgICAgICAgWzQzLjcyNTg4MjI5OTk5OTk5NSwgLTc5LjMxNTU3MTU5OTk5OTk4XSwKICAgICAgICAgICAgICAgIHsiYnViYmxpbmdNb3VzZUV2ZW50cyI6IHRydWUsICJjb2xvciI6ICJyZWQiLCAiZGFzaEFycmF5IjogbnVsbCwgImRhc2hPZmZzZXQiOiBudWxsLCAiZmlsbCI6IHRydWUsICJmaWxsQ29sb3IiOiAicmVkIiwgImZpbGxPcGFjaXR5IjogMC4yLCAiZmlsbFJ1bGUiOiAiZXZlbm9kZCIsICJsaW5lQ2FwIjogInJvdW5kIiwgImxpbmVKb2luIjogInJvdW5kIiwgIm9wYWNpdHkiOiAxLjAsICJyYWRpdXMiOiA1LCAic3Ryb2tlIjogdHJ1ZSwgIndlaWdodCI6IDN9CiAgICAgICAgICAgICkuYWRkVG8obWFwXzhiOTA3NzczYzJlNzQ2MzQ4MTRjM2ZmMmNlYzFkZjgyKTsKICAgICAgICAKICAgIAogICAgICAgIHZhciBwb3B1cF9lNWY1ZDgxZGRkYmM0ZGUxYmM3Y2RhNjU0NWJlZTA4OSA9IEwucG9wdXAoeyJtYXhXaWR0aCI6ICIxMDAlIn0pOwoKICAgICAgICAKICAgICAgICAgICAgdmFyIGh0bWxfYzAyMDFkYjhlNzViNDQwOWEzMzMwZGMzYzkyNTAxYTggPSAkKGA8ZGl2IGlkPSJodG1sX2MwMjAxZGI4ZTc1YjQ0MDlhMzMzMGRjM2M5MjUwMWE4IiBzdHlsZT0id2lkdGg6IDEwMC4wJTsgaGVpZ2h0OiAxMDAuMCU7Ij5WaWN0b3JpYSBWaWxsYWdlLCBOb3J0aCBZb3JrPC9kaXY+YClbMF07CiAgICAgICAgICAgIHBvcHVwX2U1ZjVkODFkZGRiYzRkZTFiYzdjZGE2NTQ1YmVlMDg5LnNldENvbnRlbnQoaHRtbF9jMDIwMWRiOGU3NWI0NDA5YTMzMzBkYzNjOTI1MDFhOCk7CiAgICAgICAgCgogICAgICAgIGNpcmNsZV9tYXJrZXJfMjdhODFjODI2YzUxNDFkMGI2YzAyNjU0Y2Q0ZGQ0ZGIuYmluZFBvcHVwKHBvcHVwX2U1ZjVkODFkZGRiYzRkZTFiYzdjZGE2NTQ1YmVlMDg5KQogICAgICAgIDsKCiAgICAgICAgCiAgICAKICAgIAogICAgICAgICAgICB2YXIgY2lyY2xlX21hcmtlcl82N2FkZjVmZDg5MjI0MTJkOTcwMzVhNTVhZjBiZGMwNSA9IEwuY2lyY2xlTWFya2VyKAogICAgICAgICAgICAgICAgWzQzLjY1NDI1OTksIC03OS4zNjA2MzU5XSwKICAgICAgICAgICAgICAgIHsiYnViYmxpbmdNb3VzZUV2ZW50cyI6IHRydWUsICJjb2xvciI6ICJyZWQiLCAiZGFzaEFycmF5IjogbnVsbCwgImRhc2hPZmZzZXQiOiBudWxsLCAiZmlsbCI6IHRydWUsICJmaWxsQ29sb3IiOiAicmVkIiwgImZpbGxPcGFjaXR5IjogMC4yLCAiZmlsbFJ1bGUiOiAiZXZlbm9kZCIsICJsaW5lQ2FwIjogInJvdW5kIiwgImxpbmVKb2luIjogInJvdW5kIiwgIm9wYWNpdHkiOiAxLjAsICJyYWRpdXMiOiA1LCAic3Ryb2tlIjogdHJ1ZSwgIndlaWdodCI6IDN9CiAgICAgICAgICAgICkuYWRkVG8obWFwXzhiOTA3NzczYzJlNzQ2MzQ4MTRjM2ZmMmNlYzFkZjgyKTsKICAgICAgICAKICAgIAogICAgICAgIHZhciBwb3B1cF83ZDdjNGYyYjM0MzY0MTg1YjkwZDI0OWM1Njc2NDcyMCA9IEwucG9wdXAoeyJtYXhXaWR0aCI6ICIxMDAlIn0pOwoKICAgICAgICAKICAgICAgICAgICAgdmFyIGh0bWxfNWMzNWVhYWY4YmZjNGVmOWI1ZmExZDI1YmYzNzhkZTggPSAkKGA8ZGl2IGlkPSJodG1sXzVjMzVlYWFmOGJmYzRlZjliNWZhMWQyNWJmMzc4ZGU4IiBzdHlsZT0id2lkdGg6IDEwMC4wJTsgaGVpZ2h0OiAxMDAuMCU7Ij5SZWdlbnQgUGFyaywgSGFyYm91cmZyb250LCBEb3dudG93biBUb3JvbnRvPC9kaXY+YClbMF07CiAgICAgICAgICAgIHBvcHVwXzdkN2M0ZjJiMzQzNjQxODViOTBkMjQ5YzU2NzY0NzIwLnNldENvbnRlbnQoaHRtbF81YzM1ZWFhZjhiZmM0ZWY5YjVmYTFkMjViZjM3OGRlOCk7CiAgICAgICAgCgogICAgICAgIGNpcmNsZV9tYXJrZXJfNjdhZGY1ZmQ4OTIyNDEyZDk3MDM1YTU1YWYwYmRjMDUuYmluZFBvcHVwKHBvcHVwXzdkN2M0ZjJiMzQzNjQxODViOTBkMjQ5YzU2NzY0NzIwKQogICAgICAgIDsKCiAgICAgICAgCiAgICAKICAgIAogICAgICAgICAgICB2YXIgY2lyY2xlX21hcmtlcl85NzM5Mzg0Mzk1N2M0ZDVjYmY0MTIyOGU2YWRjNzQ5NCA9IEwuY2lyY2xlTWFya2VyKAogICAgICAgICAgICAgICAgWzQzLjcxODUxNzk5OTk5OTk5NiwgLTc5LjQ2NDc2MzI5OTk5OTk5XSwKICAgICAgICAgICAgICAgIHsiYnViYmxpbmdNb3VzZUV2ZW50cyI6IHRydWUsICJjb2xvciI6ICJyZWQiLCAiZGFzaEFycmF5IjogbnVsbCwgImRhc2hPZmZzZXQiOiBudWxsLCAiZmlsbCI6IHRydWUsICJmaWxsQ29sb3IiOiAicmVkIiwgImZpbGxPcGFjaXR5IjogMC4yLCAiZmlsbFJ1bGUiOiAiZXZlbm9kZCIsICJsaW5lQ2FwIjogInJvdW5kIiwgImxpbmVKb2luIjogInJvdW5kIiwgIm9wYWNpdHkiOiAxLjAsICJyYWRpdXMiOiA1LCAic3Ryb2tlIjogdHJ1ZSwgIndlaWdodCI6IDN9CiAgICAgICAgICAgICkuYWRkVG8obWFwXzhiOTA3NzczYzJlNzQ2MzQ4MTRjM2ZmMmNlYzFkZjgyKTsKICAgICAgICAKICAgIAogICAgICAgIHZhciBwb3B1cF8xZGU2NTk5NDliNGQ0YTIwYTE4MTY3M2Y4YWJjNjUyMiA9IEwucG9wdXAoeyJtYXhXaWR0aCI6ICIxMDAlIn0pOwoKICAgICAgICAKICAgICAgICAgICAgdmFyIGh0bWxfNjBkOWRlMGU2MjQ3NGIzYzhjZGQ5Nzc1ZWU5NGM4NmQgPSAkKGA8ZGl2IGlkPSJodG1sXzYwZDlkZTBlNjI0NzRiM2M4Y2RkOTc3NWVlOTRjODZkIiBzdHlsZT0id2lkdGg6IDEwMC4wJTsgaGVpZ2h0OiAxMDAuMCU7Ij5MYXdyZW5jZSBNYW5vciwgTGF3cmVuY2UgSGVpZ2h0cywgTm9ydGggWW9yazwvZGl2PmApWzBdOwogICAgICAgICAgICBwb3B1cF8xZGU2NTk5NDliNGQ0YTIwYTE4MTY3M2Y4YWJjNjUyMi5zZXRDb250ZW50KGh0bWxfNjBkOWRlMGU2MjQ3NGIzYzhjZGQ5Nzc1ZWU5NGM4NmQpOwogICAgICAgIAoKICAgICAgICBjaXJjbGVfbWFya2VyXzk3MzkzODQzOTU3YzRkNWNiZjQxMjI4ZTZhZGM3NDk0LmJpbmRQb3B1cChwb3B1cF8xZGU2NTk5NDliNGQ0YTIwYTE4MTY3M2Y4YWJjNjUyMikKICAgICAgICA7CgogICAgICAgIAogICAgCiAgICAKICAgICAgICAgICAgdmFyIGNpcmNsZV9tYXJrZXJfZDllZjIwMDU2ZjY3NDdmNzg4NjM0ZmNlYzU5OTIxNDkgPSBMLmNpcmNsZU1hcmtlcigKICAgICAgICAgICAgICAgIFs0My42NjIzMDE1LCAtNzkuMzg5NDkzOF0sCiAgICAgICAgICAgICAgICB7ImJ1YmJsaW5nTW91c2VFdmVudHMiOiB0cnVlLCAiY29sb3IiOiAicmVkIiwgImRhc2hBcnJheSI6IG51bGwsICJkYXNoT2Zmc2V0IjogbnVsbCwgImZpbGwiOiB0cnVlLCAiZmlsbENvbG9yIjogInJlZCIsICJmaWxsT3BhY2l0eSI6IDAuMiwgImZpbGxSdWxlIjogImV2ZW5vZGQiLCAibGluZUNhcCI6ICJyb3VuZCIsICJsaW5lSm9pbiI6ICJyb3VuZCIsICJvcGFjaXR5IjogMS4wLCAicmFkaXVzIjogNSwgInN0cm9rZSI6IHRydWUsICJ3ZWlnaHQiOiAzfQogICAgICAgICAgICApLmFkZFRvKG1hcF84YjkwNzc3M2MyZTc0NjM0ODE0YzNmZjJjZWMxZGY4Mik7CiAgICAgICAgCiAgICAKICAgICAgICB2YXIgcG9wdXBfZDJmMmMyYWM4YmM1NGNkMzhlZWRiNzE4NTI0Njk2YzAgPSBMLnBvcHVwKHsibWF4V2lkdGgiOiAiMTAwJSJ9KTsKCiAgICAgICAgCiAgICAgICAgICAgIHZhciBodG1sX2YxZjgzODc1MWM4YjQ3YjM4MjA5YzAxZmU3YWViYWFkID0gJChgPGRpdiBpZD0iaHRtbF9mMWY4Mzg3NTFjOGI0N2IzODIwOWMwMWZlN2FlYmFhZCIgc3R5bGU9IndpZHRoOiAxMDAuMCU7IGhlaWdodDogMTAwLjAlOyI+UXVlZW4mIzM5O3MgUGFyaywgT250YXJpbyBQcm92aW5jaWFsIEdvdmVybm1lbnQsIERvd250b3duIFRvcm9udG88L2Rpdj5gKVswXTsKICAgICAgICAgICAgcG9wdXBfZDJmMmMyYWM4YmM1NGNkMzhlZWRiNzE4NTI0Njk2YzAuc2V0Q29udGVudChodG1sX2YxZjgzODc1MWM4YjQ3YjM4MjA5YzAxZmU3YWViYWFkKTsKICAgICAgICAKCiAgICAgICAgY2lyY2xlX21hcmtlcl9kOWVmMjAwNTZmNjc0N2Y3ODg2MzRmY2VjNTk5MjE0OS5iaW5kUG9wdXAocG9wdXBfZDJmMmMyYWM4YmM1NGNkMzhlZWRiNzE4NTI0Njk2YzApCiAgICAgICAgOwoKICAgICAgICAKICAgIAogICAgCiAgICAgICAgICAgIHZhciBjaXJjbGVfbWFya2VyXzIwOWI5NmNiMGMyMDQ1MjU4OWI2OWY0YmYxNDFmZDk3ID0gTC5jaXJjbGVNYXJrZXIoCiAgICAgICAgICAgICAgICBbNDMuNjY3ODU1NiwgLTc5LjUzMjI0MjQwMDAwMDAyXSwKICAgICAgICAgICAgICAgIHsiYnViYmxpbmdNb3VzZUV2ZW50cyI6IHRydWUsICJjb2xvciI6ICJyZWQiLCAiZGFzaEFycmF5IjogbnVsbCwgImRhc2hPZmZzZXQiOiBudWxsLCAiZmlsbCI6IHRydWUsICJmaWxsQ29sb3IiOiAicmVkIiwgImZpbGxPcGFjaXR5IjogMC4yLCAiZmlsbFJ1bGUiOiAiZXZlbm9kZCIsICJsaW5lQ2FwIjogInJvdW5kIiwgImxpbmVKb2luIjogInJvdW5kIiwgIm9wYWNpdHkiOiAxLjAsICJyYWRpdXMiOiA1LCAic3Ryb2tlIjogdHJ1ZSwgIndlaWdodCI6IDN9CiAgICAgICAgICAgICkuYWRkVG8obWFwXzhiOTA3NzczYzJlNzQ2MzQ4MTRjM2ZmMmNlYzFkZjgyKTsKICAgICAgICAKICAgIAogICAgICAgIHZhciBwb3B1cF84NzE3NjhlOWQ0N2I0NDI3ODIwY2M0ZjlkOWJlYjQyZiA9IEwucG9wdXAoeyJtYXhXaWR0aCI6ICIxMDAlIn0pOwoKICAgICAgICAKICAgICAgICAgICAgdmFyIGh0bWxfZTBiODRiYTI4ZDAzNDhjNjhlZTViOGQ5MmM4NGYzOWEgPSAkKGA8ZGl2IGlkPSJodG1sX2UwYjg0YmEyOGQwMzQ4YzY4ZWU1YjhkOTJjODRmMzlhIiBzdHlsZT0id2lkdGg6IDEwMC4wJTsgaGVpZ2h0OiAxMDAuMCU7Ij5Jc2xpbmd0b24gQXZlbnVlLCBIdW1iZXIgVmFsbGV5IFZpbGxhZ2UsIEV0b2JpY29rZTwvZGl2PmApWzBdOwogICAgICAgICAgICBwb3B1cF84NzE3NjhlOWQ0N2I0NDI3ODIwY2M0ZjlkOWJlYjQyZi5zZXRDb250ZW50KGh0bWxfZTBiODRiYTI4ZDAzNDhjNjhlZTViOGQ5MmM4NGYzOWEpOwogICAgICAgIAoKICAgICAgICBjaXJjbGVfbWFya2VyXzIwOWI5NmNiMGMyMDQ1MjU4OWI2OWY0YmYxNDFmZDk3LmJpbmRQb3B1cChwb3B1cF84NzE3NjhlOWQ0N2I0NDI3ODIwY2M0ZjlkOWJlYjQyZikKICAgICAgICA7CgogICAgICAgIAogICAgCiAgICAKICAgICAgICAgICAgdmFyIGNpcmNsZV9tYXJrZXJfY2YxMTZhNTAxNmM4NDljNWJiZjU1YTI3YmYwYzZkOGYgPSBMLmNpcmNsZU1hcmtlcigKICAgICAgICAgICAgICAgIFs0My44MDY2ODYyOTk5OTk5OTYsIC03OS4xOTQzNTM0MDAwMDAwMV0sCiAgICAgICAgICAgICAgICB7ImJ1YmJsaW5nTW91c2VFdmVudHMiOiB0cnVlLCAiY29sb3IiOiAicmVkIiwgImRhc2hBcnJheSI6IG51bGwsICJkYXNoT2Zmc2V0IjogbnVsbCwgImZpbGwiOiB0cnVlLCAiZmlsbENvbG9yIjogInJlZCIsICJmaWxsT3BhY2l0eSI6IDAuMiwgImZpbGxSdWxlIjogImV2ZW5vZGQiLCAibGluZUNhcCI6ICJyb3VuZCIsICJsaW5lSm9pbiI6ICJyb3VuZCIsICJvcGFjaXR5IjogMS4wLCAicmFkaXVzIjogNSwgInN0cm9rZSI6IHRydWUsICJ3ZWlnaHQiOiAzfQogICAgICAgICAgICApLmFkZFRvKG1hcF84YjkwNzc3M2MyZTc0NjM0ODE0YzNmZjJjZWMxZGY4Mik7CiAgICAgICAgCiAgICAKICAgICAgICB2YXIgcG9wdXBfYTYwNjlmNWZiNGMxNGU1NmIyYjFhMjlhZTIwMDNmNDggPSBMLnBvcHVwKHsibWF4V2lkdGgiOiAiMTAwJSJ9KTsKCiAgICAgICAgCiAgICAgICAgICAgIHZhciBodG1sX2E4MTFlNDkxM2Q3ZTQwNzNhNzMwMWY3NmI3NzI1MzRhID0gJChgPGRpdiBpZD0iaHRtbF9hODExZTQ5MTNkN2U0MDczYTczMDFmNzZiNzcyNTM0YSIgc3R5bGU9IndpZHRoOiAxMDAuMCU7IGhlaWdodDogMTAwLjAlOyI+TWFsdmVybiwgUm91Z2UsIFNjYXJib3JvdWdoPC9kaXY+YClbMF07CiAgICAgICAgICAgIHBvcHVwX2E2MDY5ZjVmYjRjMTRlNTZiMmIxYTI5YWUyMDAzZjQ4LnNldENvbnRlbnQoaHRtbF9hODExZTQ5MTNkN2U0MDczYTczMDFmNzZiNzcyNTM0YSk7CiAgICAgICAgCgogICAgICAgIGNpcmNsZV9tYXJrZXJfY2YxMTZhNTAxNmM4NDljNWJiZjU1YTI3YmYwYzZkOGYuYmluZFBvcHVwKHBvcHVwX2E2MDY5ZjVmYjRjMTRlNTZiMmIxYTI5YWUyMDAzZjQ4KQogICAgICAgIDsKCiAgICAgICAgCiAgICAKICAgIAogICAgICAgICAgICB2YXIgY2lyY2xlX21hcmtlcl82NWE3OGE0YTFjNDQ0ZWNjOWExMzIxZWVjZWQxMjQ2YSA9IEwuY2lyY2xlTWFya2VyKAogICAgICAgICAgICAgICAgWzQzLjc0NTkwNTc5OTk5OTk5NiwgLTc5LjM1MjE4OF0sCiAgICAgICAgICAgICAgICB7ImJ1YmJsaW5nTW91c2VFdmVudHMiOiB0cnVlLCAiY29sb3IiOiAicmVkIiwgImRhc2hBcnJheSI6IG51bGwsICJkYXNoT2Zmc2V0IjogbnVsbCwgImZpbGwiOiB0cnVlLCAiZmlsbENvbG9yIjogInJlZCIsICJmaWxsT3BhY2l0eSI6IDAuMiwgImZpbGxSdWxlIjogImV2ZW5vZGQiLCAibGluZUNhcCI6ICJyb3VuZCIsICJsaW5lSm9pbiI6ICJyb3VuZCIsICJvcGFjaXR5IjogMS4wLCAicmFkaXVzIjogNSwgInN0cm9rZSI6IHRydWUsICJ3ZWlnaHQiOiAzfQogICAgICAgICAgICApLmFkZFRvKG1hcF84YjkwNzc3M2MyZTc0NjM0ODE0YzNmZjJjZWMxZGY4Mik7CiAgICAgICAgCiAgICAKICAgICAgICB2YXIgcG9wdXBfODhhOWQxY2UyNjY1NDQzNDgwNTlhZGQ2YzFmMGUzNDcgPSBMLnBvcHVwKHsibWF4V2lkdGgiOiAiMTAwJSJ9KTsKCiAgICAgICAgCiAgICAgICAgICAgIHZhciBodG1sXzc1YzM1ZjhjYzQ0ZDQzMDZiYmQyNGFkODY1MDgxYjRlID0gJChgPGRpdiBpZD0iaHRtbF83NWMzNWY4Y2M0NGQ0MzA2YmJkMjRhZDg2NTA4MWI0ZSIgc3R5bGU9IndpZHRoOiAxMDAuMCU7IGhlaWdodDogMTAwLjAlOyI+RG9uIE1pbGxzLCBOb3J0aCBZb3JrPC9kaXY+YClbMF07CiAgICAgICAgICAgIHBvcHVwXzg4YTlkMWNlMjY2NTQ0MzQ4MDU5YWRkNmMxZjBlMzQ3LnNldENvbnRlbnQoaHRtbF83NWMzNWY4Y2M0NGQ0MzA2YmJkMjRhZDg2NTA4MWI0ZSk7CiAgICAgICAgCgogICAgICAgIGNpcmNsZV9tYXJrZXJfNjVhNzhhNGExYzQ0NGVjYzlhMTMyMWVlY2VkMTI0NmEuYmluZFBvcHVwKHBvcHVwXzg4YTlkMWNlMjY2NTQ0MzQ4MDU5YWRkNmMxZjBlMzQ3KQogICAgICAgIDsKCiAgICAgICAgCiAgICAKICAgIAogICAgICAgICAgICB2YXIgY2lyY2xlX21hcmtlcl83OWZiODFmMzZmZmI0NWZjOWFmNWUwMGU0ODAzYTc2OSA9IEwuY2lyY2xlTWFya2VyKAogICAgICAgICAgICAgICAgWzQzLjcwNjM5NzIsIC03OS4zMDk5MzddLAogICAgICAgICAgICAgICAgeyJidWJibGluZ01vdXNlRXZlbnRzIjogdHJ1ZSwgImNvbG9yIjogInJlZCIsICJkYXNoQXJyYXkiOiBudWxsLCAiZGFzaE9mZnNldCI6IG51bGwsICJmaWxsIjogdHJ1ZSwgImZpbGxDb2xvciI6ICJyZWQiLCAiZmlsbE9wYWNpdHkiOiAwLjIsICJmaWxsUnVsZSI6ICJldmVub2RkIiwgImxpbmVDYXAiOiAicm91bmQiLCAibGluZUpvaW4iOiAicm91bmQiLCAib3BhY2l0eSI6IDEuMCwgInJhZGl1cyI6IDUsICJzdHJva2UiOiB0cnVlLCAid2VpZ2h0IjogM30KICAgICAgICAgICAgKS5hZGRUbyhtYXBfOGI5MDc3NzNjMmU3NDYzNDgxNGMzZmYyY2VjMWRmODIpOwogICAgICAgIAogICAgCiAgICAgICAgdmFyIHBvcHVwXzZiNDQ5M2U3ODYwMTQzODNhOGYxMzY4MDg5MDJkMGU4ID0gTC5wb3B1cCh7Im1heFdpZHRoIjogIjEwMCUifSk7CgogICAgICAgIAogICAgICAgICAgICB2YXIgaHRtbF9iYWY4OWRmOGVlMTQ0NGRjOWJjNGQzMTc0MGZlM2ZkYyA9ICQoYDxkaXYgaWQ9Imh0bWxfYmFmODlkZjhlZTE0NDRkYzliYzRkMzE3NDBmZTNmZGMiIHN0eWxlPSJ3aWR0aDogMTAwLjAlOyBoZWlnaHQ6IDEwMC4wJTsiPlBhcmt2aWV3IEhpbGwsIFdvb2RiaW5lIEdhcmRlbnMsIEVhc3QgWW9yazwvZGl2PmApWzBdOwogICAgICAgICAgICBwb3B1cF82YjQ0OTNlNzg2MDE0MzgzYThmMTM2ODA4OTAyZDBlOC5zZXRDb250ZW50KGh0bWxfYmFmODlkZjhlZTE0NDRkYzliYzRkMzE3NDBmZTNmZGMpOwogICAgICAgIAoKICAgICAgICBjaXJjbGVfbWFya2VyXzc5ZmI4MWYzNmZmYjQ1ZmM5YWY1ZTAwZTQ4MDNhNzY5LmJpbmRQb3B1cChwb3B1cF82YjQ0OTNlNzg2MDE0MzgzYThmMTM2ODA4OTAyZDBlOCkKICAgICAgICA7CgogICAgICAgIAogICAgCiAgICAKICAgICAgICAgICAgdmFyIGNpcmNsZV9tYXJrZXJfMDIxYmY3NWIxNjdhNDU2Mjk1YmIyMDFiYTEwMjBiYmMgPSBMLmNpcmNsZU1hcmtlcigKICAgICAgICAgICAgICAgIFs0My42NTcxNjE4LCAtNzkuMzc4OTM3MDk5OTk5OTldLAogICAgICAgICAgICAgICAgeyJidWJibGluZ01vdXNlRXZlbnRzIjogdHJ1ZSwgImNvbG9yIjogInJlZCIsICJkYXNoQXJyYXkiOiBudWxsLCAiZGFzaE9mZnNldCI6IG51bGwsICJmaWxsIjogdHJ1ZSwgImZpbGxDb2xvciI6ICJyZWQiLCAiZmlsbE9wYWNpdHkiOiAwLjIsICJmaWxsUnVsZSI6ICJldmVub2RkIiwgImxpbmVDYXAiOiAicm91bmQiLCAibGluZUpvaW4iOiAicm91bmQiLCAib3BhY2l0eSI6IDEuMCwgInJhZGl1cyI6IDUsICJzdHJva2UiOiB0cnVlLCAid2VpZ2h0IjogM30KICAgICAgICAgICAgKS5hZGRUbyhtYXBfOGI5MDc3NzNjMmU3NDYzNDgxNGMzZmYyY2VjMWRmODIpOwogICAgICAgIAogICAgCiAgICAgICAgdmFyIHBvcHVwXzRiYjdkY2M2NmYzOTRmNzY5OTQyZTRiZjgyMWNkNWE3ID0gTC5wb3B1cCh7Im1heFdpZHRoIjogIjEwMCUifSk7CgogICAgICAgIAogICAgICAgICAgICB2YXIgaHRtbF9lYzZmYzY1ODU4MzE0NmFhODY4YjcxOTI0MTcxOWFlOCA9ICQoYDxkaXYgaWQ9Imh0bWxfZWM2ZmM2NTg1ODMxNDZhYTg2OGI3MTkyNDE3MTlhZTgiIHN0eWxlPSJ3aWR0aDogMTAwLjAlOyBoZWlnaHQ6IDEwMC4wJTsiPkdhcmRlbiBEaXN0cmljdCwgUnllcnNvbiwgRG93bnRvd24gVG9yb250bzwvZGl2PmApWzBdOwogICAgICAgICAgICBwb3B1cF80YmI3ZGNjNjZmMzk0Zjc2OTk0MmU0YmY4MjFjZDVhNy5zZXRDb250ZW50KGh0bWxfZWM2ZmM2NTg1ODMxNDZhYTg2OGI3MTkyNDE3MTlhZTgpOwogICAgICAgIAoKICAgICAgICBjaXJjbGVfbWFya2VyXzAyMWJmNzViMTY3YTQ1NjI5NWJiMjAxYmExMDIwYmJjLmJpbmRQb3B1cChwb3B1cF80YmI3ZGNjNjZmMzk0Zjc2OTk0MmU0YmY4MjFjZDVhNykKICAgICAgICA7CgogICAgICAgIAogICAgCiAgICAKICAgICAgICAgICAgdmFyIGNpcmNsZV9tYXJrZXJfZDdiODY0YzQwNWEyNGRjZGEwZjU3MTdjOTdiOTIxN2EgPSBMLmNpcmNsZU1hcmtlcigKICAgICAgICAgICAgICAgIFs0My43MDk1NzcsIC03OS40NDUwNzI1OTk5OTk5OV0sCiAgICAgICAgICAgICAgICB7ImJ1YmJsaW5nTW91c2VFdmVudHMiOiB0cnVlLCAiY29sb3IiOiAicmVkIiwgImRhc2hBcnJheSI6IG51bGwsICJkYXNoT2Zmc2V0IjogbnVsbCwgImZpbGwiOiB0cnVlLCAiZmlsbENvbG9yIjogInJlZCIsICJmaWxsT3BhY2l0eSI6IDAuMiwgImZpbGxSdWxlIjogImV2ZW5vZGQiLCAibGluZUNhcCI6ICJyb3VuZCIsICJsaW5lSm9pbiI6ICJyb3VuZCIsICJvcGFjaXR5IjogMS4wLCAicmFkaXVzIjogNSwgInN0cm9rZSI6IHRydWUsICJ3ZWlnaHQiOiAzfQogICAgICAgICAgICApLmFkZFRvKG1hcF84YjkwNzc3M2MyZTc0NjM0ODE0YzNmZjJjZWMxZGY4Mik7CiAgICAgICAgCiAgICAKICAgICAgICB2YXIgcG9wdXBfMzU1Y2M3N2UwZDM0NDQwNGJmZjZmYjYxYWU2NjQwMTQgPSBMLnBvcHVwKHsibWF4V2lkdGgiOiAiMTAwJSJ9KTsKCiAgICAgICAgCiAgICAgICAgICAgIHZhciBodG1sX2NkY2FhN2ZiODI1YTRkMGVhZjM2MWE3NjBiMDNkNWNhID0gJChgPGRpdiBpZD0iaHRtbF9jZGNhYTdmYjgyNWE0ZDBlYWYzNjFhNzYwYjAzZDVjYSIgc3R5bGU9IndpZHRoOiAxMDAuMCU7IGhlaWdodDogMTAwLjAlOyI+R2xlbmNhaXJuLCBOb3J0aCBZb3JrPC9kaXY+YClbMF07CiAgICAgICAgICAgIHBvcHVwXzM1NWNjNzdlMGQzNDQ0MDRiZmY2ZmI2MWFlNjY0MDE0LnNldENvbnRlbnQoaHRtbF9jZGNhYTdmYjgyNWE0ZDBlYWYzNjFhNzYwYjAzZDVjYSk7CiAgICAgICAgCgogICAgICAgIGNpcmNsZV9tYXJrZXJfZDdiODY0YzQwNWEyNGRjZGEwZjU3MTdjOTdiOTIxN2EuYmluZFBvcHVwKHBvcHVwXzM1NWNjNzdlMGQzNDQ0MDRiZmY2ZmI2MWFlNjY0MDE0KQogICAgICAgIDsKCiAgICAgICAgCiAgICAKICAgIAogICAgICAgICAgICB2YXIgY2lyY2xlX21hcmtlcl83YzNiYWYwMjQ2Mzk0OGEwYWM1NjIzZTkwNjY5ZjA3ZSA9IEwuY2lyY2xlTWFya2VyKAogICAgICAgICAgICAgICAgWzQzLjY1MDk0MzIsIC03OS41NTQ3MjQ0MDAwMDAwMV0sCiAgICAgICAgICAgICAgICB7ImJ1YmJsaW5nTW91c2VFdmVudHMiOiB0cnVlLCAiY29sb3IiOiAicmVkIiwgImRhc2hBcnJheSI6IG51bGwsICJkYXNoT2Zmc2V0IjogbnVsbCwgImZpbGwiOiB0cnVlLCAiZmlsbENvbG9yIjogInJlZCIsICJmaWxsT3BhY2l0eSI6IDAuMiwgImZpbGxSdWxlIjogImV2ZW5vZGQiLCAibGluZUNhcCI6ICJyb3VuZCIsICJsaW5lSm9pbiI6ICJyb3VuZCIsICJvcGFjaXR5IjogMS4wLCAicmFkaXVzIjogNSwgInN0cm9rZSI6IHRydWUsICJ3ZWlnaHQiOiAzfQogICAgICAgICAgICApLmFkZFRvKG1hcF84YjkwNzc3M2MyZTc0NjM0ODE0YzNmZjJjZWMxZGY4Mik7CiAgICAgICAgCiAgICAKICAgICAgICB2YXIgcG9wdXBfMjE4YTYwMjhiNzkwNGZjZTgzNmFkODE2ZjEyMzRkYjYgPSBMLnBvcHVwKHsibWF4V2lkdGgiOiAiMTAwJSJ9KTsKCiAgICAgICAgCiAgICAgICAgICAgIHZhciBodG1sXzhiNGE3YWZiN2ZkZDQ0Mzc5NjBiZmQwODkxZDNlZjFlID0gJChgPGRpdiBpZD0iaHRtbF84YjRhN2FmYjdmZGQ0NDM3OTYwYmZkMDg5MWQzZWYxZSIgc3R5bGU9IndpZHRoOiAxMDAuMCU7IGhlaWdodDogMTAwLjAlOyI+V2VzdCBEZWFuZSBQYXJrLCBQcmluY2VzcyBHYXJkZW5zLCBNYXJ0aW4gR3JvdmUsIElzbGluZ3RvbiwgQ2xvdmVyZGFsZSwgRXRvYmljb2tlPC9kaXY+YClbMF07CiAgICAgICAgICAgIHBvcHVwXzIxOGE2MDI4Yjc5MDRmY2U4MzZhZDgxNmYxMjM0ZGI2LnNldENvbnRlbnQoaHRtbF84YjRhN2FmYjdmZGQ0NDM3OTYwYmZkMDg5MWQzZWYxZSk7CiAgICAgICAgCgogICAgICAgIGNpcmNsZV9tYXJrZXJfN2MzYmFmMDI0NjM5NDhhMGFjNTYyM2U5MDY2OWYwN2UuYmluZFBvcHVwKHBvcHVwXzIxOGE2MDI4Yjc5MDRmY2U4MzZhZDgxNmYxMjM0ZGI2KQogICAgICAgIDsKCiAgICAgICAgCiAgICAKICAgIAogICAgICAgICAgICB2YXIgY2lyY2xlX21hcmtlcl9iNmI1YmQ4OWYwMTY0YjQ1YmZiOWJkNzQxYWE0NzliZCA9IEwuY2lyY2xlTWFya2VyKAogICAgICAgICAgICAgICAgWzQzLjc4NDUzNTEsIC03OS4xNjA0OTcwOTk5OTk5OV0sCiAgICAgICAgICAgICAgICB7ImJ1YmJsaW5nTW91c2VFdmVudHMiOiB0cnVlLCAiY29sb3IiOiAicmVkIiwgImRhc2hBcnJheSI6IG51bGwsICJkYXNoT2Zmc2V0IjogbnVsbCwgImZpbGwiOiB0cnVlLCAiZmlsbENvbG9yIjogInJlZCIsICJmaWxsT3BhY2l0eSI6IDAuMiwgImZpbGxSdWxlIjogImV2ZW5vZGQiLCAibGluZUNhcCI6ICJyb3VuZCIsICJsaW5lSm9pbiI6ICJyb3VuZCIsICJvcGFjaXR5IjogMS4wLCAicmFkaXVzIjogNSwgInN0cm9rZSI6IHRydWUsICJ3ZWlnaHQiOiAzfQogICAgICAgICAgICApLmFkZFRvKG1hcF84YjkwNzc3M2MyZTc0NjM0ODE0YzNmZjJjZWMxZGY4Mik7CiAgICAgICAgCiAgICAKICAgICAgICB2YXIgcG9wdXBfNTI0ZWVjYjY1ZmIzNDUxZDg4OGJiMzY0MmI1OTY3ODIgPSBMLnBvcHVwKHsibWF4V2lkdGgiOiAiMTAwJSJ9KTsKCiAgICAgICAgCiAgICAgICAgICAgIHZhciBodG1sXzdlMGE5OGMyNTI1YzRlZWNiZGZkNjE2ODVkZDcyOTA5ID0gJChgPGRpdiBpZD0iaHRtbF83ZTBhOThjMjUyNWM0ZWVjYmRmZDYxNjg1ZGQ3MjkwOSIgc3R5bGU9IndpZHRoOiAxMDAuMCU7IGhlaWdodDogMTAwLjAlOyI+Um91Z2UgSGlsbCwgUG9ydCBVbmlvbiwgSGlnaGxhbmQgQ3JlZWssIFNjYXJib3JvdWdoPC9kaXY+YClbMF07CiAgICAgICAgICAgIHBvcHVwXzUyNGVlY2I2NWZiMzQ1MWQ4ODhiYjM2NDJiNTk2NzgyLnNldENvbnRlbnQoaHRtbF83ZTBhOThjMjUyNWM0ZWVjYmRmZDYxNjg1ZGQ3MjkwOSk7CiAgICAgICAgCgogICAgICAgIGNpcmNsZV9tYXJrZXJfYjZiNWJkODlmMDE2NGI0NWJmYjliZDc0MWFhNDc5YmQuYmluZFBvcHVwKHBvcHVwXzUyNGVlY2I2NWZiMzQ1MWQ4ODhiYjM2NDJiNTk2NzgyKQogICAgICAgIDsKCiAgICAgICAgCiAgICAKICAgIAogICAgICAgICAgICB2YXIgY2lyY2xlX21hcmtlcl82YmI1MTUyNTQ0NzI0OGU5OTdjNDdjNDIxMTZjZjE0MiA9IEwuY2lyY2xlTWFya2VyKAogICAgICAgICAgICAgICAgWzQzLjcyNTg5OTcwMDAwMDAxLCAtNzkuMzQwOTIzXSwKICAgICAgICAgICAgICAgIHsiYnViYmxpbmdNb3VzZUV2ZW50cyI6IHRydWUsICJjb2xvciI6ICJyZWQiLCAiZGFzaEFycmF5IjogbnVsbCwgImRhc2hPZmZzZXQiOiBudWxsLCAiZmlsbCI6IHRydWUsICJmaWxsQ29sb3IiOiAicmVkIiwgImZpbGxPcGFjaXR5IjogMC4yLCAiZmlsbFJ1bGUiOiAiZXZlbm9kZCIsICJsaW5lQ2FwIjogInJvdW5kIiwgImxpbmVKb2luIjogInJvdW5kIiwgIm9wYWNpdHkiOiAxLjAsICJyYWRpdXMiOiA1LCAic3Ryb2tlIjogdHJ1ZSwgIndlaWdodCI6IDN9CiAgICAgICAgICAgICkuYWRkVG8obWFwXzhiOTA3NzczYzJlNzQ2MzQ4MTRjM2ZmMmNlYzFkZjgyKTsKICAgICAgICAKICAgIAogICAgICAgIHZhciBwb3B1cF81NDY0OTA2MDg5MWY0NzA1OTU4ZjA4MTZiMTdiNWFkOSA9IEwucG9wdXAoeyJtYXhXaWR0aCI6ICIxMDAlIn0pOwoKICAgICAgICAKICAgICAgICAgICAgdmFyIGh0bWxfNTMzOWVlNDFiMDNjNGY3ODgwYzkzNzg4Y2U0NDJjMjQgPSAkKGA8ZGl2IGlkPSJodG1sXzUzMzllZTQxYjAzYzRmNzg4MGM5Mzc4OGNlNDQyYzI0IiBzdHlsZT0id2lkdGg6IDEwMC4wJTsgaGVpZ2h0OiAxMDAuMCU7Ij5Eb24gTWlsbHMsIE5vcnRoIFlvcms8L2Rpdj5gKVswXTsKICAgICAgICAgICAgcG9wdXBfNTQ2NDkwNjA4OTFmNDcwNTk1OGYwODE2YjE3YjVhZDkuc2V0Q29udGVudChodG1sXzUzMzllZTQxYjAzYzRmNzg4MGM5Mzc4OGNlNDQyYzI0KTsKICAgICAgICAKCiAgICAgICAgY2lyY2xlX21hcmtlcl82YmI1MTUyNTQ0NzI0OGU5OTdjNDdjNDIxMTZjZjE0Mi5iaW5kUG9wdXAocG9wdXBfNTQ2NDkwNjA4OTFmNDcwNTk1OGYwODE2YjE3YjVhZDkpCiAgICAgICAgOwoKICAgICAgICAKICAgIAogICAgCiAgICAgICAgICAgIHZhciBjaXJjbGVfbWFya2VyXzk5N2NmNGViMjA0OTQwZDQ5ZjE5ZTEzMTE3MjVmYmY4ID0gTC5jaXJjbGVNYXJrZXIoCiAgICAgICAgICAgICAgICBbNDMuNjk1MzQzOTAwMDAwMDA1LCAtNzkuMzE4Mzg4N10sCiAgICAgICAgICAgICAgICB7ImJ1YmJsaW5nTW91c2VFdmVudHMiOiB0cnVlLCAiY29sb3IiOiAicmVkIiwgImRhc2hBcnJheSI6IG51bGwsICJkYXNoT2Zmc2V0IjogbnVsbCwgImZpbGwiOiB0cnVlLCAiZmlsbENvbG9yIjogInJlZCIsICJmaWxsT3BhY2l0eSI6IDAuMiwgImZpbGxSdWxlIjogImV2ZW5vZGQiLCAibGluZUNhcCI6ICJyb3VuZCIsICJsaW5lSm9pbiI6ICJyb3VuZCIsICJvcGFjaXR5IjogMS4wLCAicmFkaXVzIjogNSwgInN0cm9rZSI6IHRydWUsICJ3ZWlnaHQiOiAzfQogICAgICAgICAgICApLmFkZFRvKG1hcF84YjkwNzc3M2MyZTc0NjM0ODE0YzNmZjJjZWMxZGY4Mik7CiAgICAgICAgCiAgICAKICAgICAgICB2YXIgcG9wdXBfOGRlZjRjOWI5YWFkNDE1NGE5YWQzY2EwZDIxMTIxNDMgPSBMLnBvcHVwKHsibWF4V2lkdGgiOiAiMTAwJSJ9KTsKCiAgICAgICAgCiAgICAgICAgICAgIHZhciBodG1sXzIyMjM2ODlmZWFmNTQ0OWI5YjhlODIzMDYzNzI4MGI2ID0gJChgPGRpdiBpZD0iaHRtbF8yMjIzNjg5ZmVhZjU0NDliOWI4ZTgyMzA2MzcyODBiNiIgc3R5bGU9IndpZHRoOiAxMDAuMCU7IGhlaWdodDogMTAwLjAlOyI+V29vZGJpbmUgSGVpZ2h0cywgRWFzdCBZb3JrPC9kaXY+YClbMF07CiAgICAgICAgICAgIHBvcHVwXzhkZWY0YzliOWFhZDQxNTRhOWFkM2NhMGQyMTEyMTQzLnNldENvbnRlbnQoaHRtbF8yMjIzNjg5ZmVhZjU0NDliOWI4ZTgyMzA2MzcyODBiNik7CiAgICAgICAgCgogICAgICAgIGNpcmNsZV9tYXJrZXJfOTk3Y2Y0ZWIyMDQ5NDBkNDlmMTllMTMxMTcyNWZiZjguYmluZFBvcHVwKHBvcHVwXzhkZWY0YzliOWFhZDQxNTRhOWFkM2NhMGQyMTEyMTQzKQogICAgICAgIDsKCiAgICAgICAgCiAgICAKICAgIAogICAgICAgICAgICB2YXIgY2lyY2xlX21hcmtlcl82MDI1NWQzZTc4MGM0NDBhOWJkMjJmZmI3MjBkZGIxNiA9IEwuY2lyY2xlTWFya2VyKAogICAgICAgICAgICAgICAgWzQzLjY1MTQ5MzksIC03OS4zNzU0MTc5XSwKICAgICAgICAgICAgICAgIHsiYnViYmxpbmdNb3VzZUV2ZW50cyI6IHRydWUsICJjb2xvciI6ICJyZWQiLCAiZGFzaEFycmF5IjogbnVsbCwgImRhc2hPZmZzZXQiOiBudWxsLCAiZmlsbCI6IHRydWUsICJmaWxsQ29sb3IiOiAicmVkIiwgImZpbGxPcGFjaXR5IjogMC4yLCAiZmlsbFJ1bGUiOiAiZXZlbm9kZCIsICJsaW5lQ2FwIjogInJvdW5kIiwgImxpbmVKb2luIjogInJvdW5kIiwgIm9wYWNpdHkiOiAxLjAsICJyYWRpdXMiOiA1LCAic3Ryb2tlIjogdHJ1ZSwgIndlaWdodCI6IDN9CiAgICAgICAgICAgICkuYWRkVG8obWFwXzhiOTA3NzczYzJlNzQ2MzQ4MTRjM2ZmMmNlYzFkZjgyKTsKICAgICAgICAKICAgIAogICAgICAgIHZhciBwb3B1cF85ZmRiNjkyZGVjNWM0NWJlOTIwM2U4OGViYjlkZGQ4NyA9IEwucG9wdXAoeyJtYXhXaWR0aCI6ICIxMDAlIn0pOwoKICAgICAgICAKICAgICAgICAgICAgdmFyIGh0bWxfYzIyMTM0OWVmOWIzNDgxYzgzZjMyMGY0Mjg2YTIwOTYgPSAkKGA8ZGl2IGlkPSJodG1sX2MyMjEzNDllZjliMzQ4MWM4M2YzMjBmNDI4NmEyMDk2IiBzdHlsZT0id2lkdGg6IDEwMC4wJTsgaGVpZ2h0OiAxMDAuMCU7Ij5TdC4gSmFtZXMgVG93biwgRG93bnRvd24gVG9yb250bzwvZGl2PmApWzBdOwogICAgICAgICAgICBwb3B1cF85ZmRiNjkyZGVjNWM0NWJlOTIwM2U4OGViYjlkZGQ4Ny5zZXRDb250ZW50KGh0bWxfYzIyMTM0OWVmOWIzNDgxYzgzZjMyMGY0Mjg2YTIwOTYpOwogICAgICAgIAoKICAgICAgICBjaXJjbGVfbWFya2VyXzYwMjU1ZDNlNzgwYzQ0MGE5YmQyMmZmYjcyMGRkYjE2LmJpbmRQb3B1cChwb3B1cF85ZmRiNjkyZGVjNWM0NWJlOTIwM2U4OGViYjlkZGQ4NykKICAgICAgICA7CgogICAgICAgIAogICAgCiAgICAKICAgICAgICAgICAgdmFyIGNpcmNsZV9tYXJrZXJfODQzODViMDVhYjI5NDA3YTlmNjVhMDk4N2FhNjAzYjAgPSBMLmNpcmNsZU1hcmtlcigKICAgICAgICAgICAgICAgIFs0My42OTM3ODEzLCAtNzkuNDI4MTkxNDAwMDAwMDJdLAogICAgICAgICAgICAgICAgeyJidWJibGluZ01vdXNlRXZlbnRzIjogdHJ1ZSwgImNvbG9yIjogInJlZCIsICJkYXNoQXJyYXkiOiBudWxsLCAiZGFzaE9mZnNldCI6IG51bGwsICJmaWxsIjogdHJ1ZSwgImZpbGxDb2xvciI6ICJyZWQiLCAiZmlsbE9wYWNpdHkiOiAwLjIsICJmaWxsUnVsZSI6ICJldmVub2RkIiwgImxpbmVDYXAiOiAicm91bmQiLCAibGluZUpvaW4iOiAicm91bmQiLCAib3BhY2l0eSI6IDEuMCwgInJhZGl1cyI6IDUsICJzdHJva2UiOiB0cnVlLCAid2VpZ2h0IjogM30KICAgICAgICAgICAgKS5hZGRUbyhtYXBfOGI5MDc3NzNjMmU3NDYzNDgxNGMzZmYyY2VjMWRmODIpOwogICAgICAgIAogICAgCiAgICAgICAgdmFyIHBvcHVwXzU2MjU4NDc5MzA4NzQ2ODdhZjc2ZGEzMmFjNTkxZmM1ID0gTC5wb3B1cCh7Im1heFdpZHRoIjogIjEwMCUifSk7CgogICAgICAgIAogICAgICAgICAgICB2YXIgaHRtbF8xODUwYzZmODlhMzA0MjllYmNlOTFhNTQ1MjA2N2IxZSA9ICQoYDxkaXYgaWQ9Imh0bWxfMTg1MGM2Zjg5YTMwNDI5ZWJjZTkxYTU0NTIwNjdiMWUiIHN0eWxlPSJ3aWR0aDogMTAwLjAlOyBoZWlnaHQ6IDEwMC4wJTsiPkh1bWV3b29kLUNlZGFydmFsZSwgWW9yazwvZGl2PmApWzBdOwogICAgICAgICAgICBwb3B1cF81NjI1ODQ3OTMwODc0Njg3YWY3NmRhMzJhYzU5MWZjNS5zZXRDb250ZW50KGh0bWxfMTg1MGM2Zjg5YTMwNDI5ZWJjZTkxYTU0NTIwNjdiMWUpOwogICAgICAgIAoKICAgICAgICBjaXJjbGVfbWFya2VyXzg0Mzg1YjA1YWIyOTQwN2E5ZjY1YTA5ODdhYTYwM2IwLmJpbmRQb3B1cChwb3B1cF81NjI1ODQ3OTMwODc0Njg3YWY3NmRhMzJhYzU5MWZjNSkKICAgICAgICA7CgogICAgICAgIAogICAgCiAgICAKICAgICAgICAgICAgdmFyIGNpcmNsZV9tYXJrZXJfNDRlNmI4ODRjYTBkNDViN2FmMjdmODdkZTg5ODhhZTcgPSBMLmNpcmNsZU1hcmtlcigKICAgICAgICAgICAgICAgIFs0My42NDM1MTUyLCAtNzkuNTc3MjAwNzk5OTk5OTldLAogICAgICAgICAgICAgICAgeyJidWJibGluZ01vdXNlRXZlbnRzIjogdHJ1ZSwgImNvbG9yIjogInJlZCIsICJkYXNoQXJyYXkiOiBudWxsLCAiZGFzaE9mZnNldCI6IG51bGwsICJmaWxsIjogdHJ1ZSwgImZpbGxDb2xvciI6ICJyZWQiLCAiZmlsbE9wYWNpdHkiOiAwLjIsICJmaWxsUnVsZSI6ICJldmVub2RkIiwgImxpbmVDYXAiOiAicm91bmQiLCAibGluZUpvaW4iOiAicm91bmQiLCAib3BhY2l0eSI6IDEuMCwgInJhZGl1cyI6IDUsICJzdHJva2UiOiB0cnVlLCAid2VpZ2h0IjogM30KICAgICAgICAgICAgKS5hZGRUbyhtYXBfOGI5MDc3NzNjMmU3NDYzNDgxNGMzZmYyY2VjMWRmODIpOwogICAgICAgIAogICAgCiAgICAgICAgdmFyIHBvcHVwXzgyODg4ZTZhZGRjOTQwY2JiYzhlM2NhNzRhZWYwODE0ID0gTC5wb3B1cCh7Im1heFdpZHRoIjogIjEwMCUifSk7CgogICAgICAgIAogICAgICAgICAgICB2YXIgaHRtbF8wOTIyMTc3NGNlNDE0Njc2YWE3OGU1NGQyYjVhNTg4OSA9ICQoYDxkaXYgaWQ9Imh0bWxfMDkyMjE3NzRjZTQxNDY3NmFhNzhlNTRkMmI1YTU4ODkiIHN0eWxlPSJ3aWR0aDogMTAwLjAlOyBoZWlnaHQ6IDEwMC4wJTsiPkVyaW5nYXRlLCBCbG9vcmRhbGUgR2FyZGVucywgT2xkIEJ1cm5oYW10aG9ycGUsIE1hcmtsYW5kIFdvb2QsIEV0b2JpY29rZTwvZGl2PmApWzBdOwogICAgICAgICAgICBwb3B1cF84Mjg4OGU2YWRkYzk0MGNiYmM4ZTNjYTc0YWVmMDgxNC5zZXRDb250ZW50KGh0bWxfMDkyMjE3NzRjZTQxNDY3NmFhNzhlNTRkMmI1YTU4ODkpOwogICAgICAgIAoKICAgICAgICBjaXJjbGVfbWFya2VyXzQ0ZTZiODg0Y2EwZDQ1YjdhZjI3Zjg3ZGU4OTg4YWU3LmJpbmRQb3B1cChwb3B1cF84Mjg4OGU2YWRkYzk0MGNiYmM4ZTNjYTc0YWVmMDgxNCkKICAgICAgICA7CgogICAgICAgIAogICAgCiAgICAKICAgICAgICAgICAgdmFyIGNpcmNsZV9tYXJrZXJfZTkzZGUwMGRhYzdhNDU5NDkzNjg4NzhlOTRkY2M0MTIgPSBMLmNpcmNsZU1hcmtlcigKICAgICAgICAgICAgICAgIFs0My43NjM1NzI2LCAtNzkuMTg4NzExNV0sCiAgICAgICAgICAgICAgICB7ImJ1YmJsaW5nTW91c2VFdmVudHMiOiB0cnVlLCAiY29sb3IiOiAicmVkIiwgImRhc2hBcnJheSI6IG51bGwsICJkYXNoT2Zmc2V0IjogbnVsbCwgImZpbGwiOiB0cnVlLCAiZmlsbENvbG9yIjogInJlZCIsICJmaWxsT3BhY2l0eSI6IDAuMiwgImZpbGxSdWxlIjogImV2ZW5vZGQiLCAibGluZUNhcCI6ICJyb3VuZCIsICJsaW5lSm9pbiI6ICJyb3VuZCIsICJvcGFjaXR5IjogMS4wLCAicmFkaXVzIjogNSwgInN0cm9rZSI6IHRydWUsICJ3ZWlnaHQiOiAzfQogICAgICAgICAgICApLmFkZFRvKG1hcF84YjkwNzc3M2MyZTc0NjM0ODE0YzNmZjJjZWMxZGY4Mik7CiAgICAgICAgCiAgICAKICAgICAgICB2YXIgcG9wdXBfNDhjMmJmMjQ5NjQxNDkxMDk0N2JkYmRlMzQ2NGM5ZDggPSBMLnBvcHVwKHsibWF4V2lkdGgiOiAiMTAwJSJ9KTsKCiAgICAgICAgCiAgICAgICAgICAgIHZhciBodG1sXzFjNGM4NzdlNmM4MDRkMThiYjFlNTA1ZmM1ZTQwMWQxID0gJChgPGRpdiBpZD0iaHRtbF8xYzRjODc3ZTZjODA0ZDE4YmIxZTUwNWZjNWU0MDFkMSIgc3R5bGU9IndpZHRoOiAxMDAuMCU7IGhlaWdodDogMTAwLjAlOyI+R3VpbGR3b29kLCBNb3JuaW5nc2lkZSwgV2VzdCBIaWxsLCBTY2FyYm9yb3VnaDwvZGl2PmApWzBdOwogICAgICAgICAgICBwb3B1cF80OGMyYmYyNDk2NDE0OTEwOTQ3YmRiZGUzNDY0YzlkOC5zZXRDb250ZW50KGh0bWxfMWM0Yzg3N2U2YzgwNGQxOGJiMWU1MDVmYzVlNDAxZDEpOwogICAgICAgIAoKICAgICAgICBjaXJjbGVfbWFya2VyX2U5M2RlMDBkYWM3YTQ1OTQ5MzY4ODc4ZTk0ZGNjNDEyLmJpbmRQb3B1cChwb3B1cF80OGMyYmYyNDk2NDE0OTEwOTQ3YmRiZGUzNDY0YzlkOCkKICAgICAgICA7CgogICAgICAgIAogICAgCiAgICAKICAgICAgICAgICAgdmFyIGNpcmNsZV9tYXJrZXJfN2E2OTRhYjFjOWY2NDhiYTgyZjE2ZjM0MDA3YjQxZGMgPSBMLmNpcmNsZU1hcmtlcigKICAgICAgICAgICAgICAgIFs0My42NzYzNTczOTk5OTk5OSwgLTc5LjI5MzAzMTJdLAogICAgICAgICAgICAgICAgeyJidWJibGluZ01vdXNlRXZlbnRzIjogdHJ1ZSwgImNvbG9yIjogInJlZCIsICJkYXNoQXJyYXkiOiBudWxsLCAiZGFzaE9mZnNldCI6IG51bGwsICJmaWxsIjogdHJ1ZSwgImZpbGxDb2xvciI6ICJyZWQiLCAiZmlsbE9wYWNpdHkiOiAwLjIsICJmaWxsUnVsZSI6ICJldmVub2RkIiwgImxpbmVDYXAiOiAicm91bmQiLCAibGluZUpvaW4iOiAicm91bmQiLCAib3BhY2l0eSI6IDEuMCwgInJhZGl1cyI6IDUsICJzdHJva2UiOiB0cnVlLCAid2VpZ2h0IjogM30KICAgICAgICAgICAgKS5hZGRUbyhtYXBfOGI5MDc3NzNjMmU3NDYzNDgxNGMzZmYyY2VjMWRmODIpOwogICAgICAgIAogICAgCiAgICAgICAgdmFyIHBvcHVwXzYwYjY4YmQ0OTA1NzRjNzc4MzcxMWJhNDc0M2Y3MjdmID0gTC5wb3B1cCh7Im1heFdpZHRoIjogIjEwMCUifSk7CgogICAgICAgIAogICAgICAgICAgICB2YXIgaHRtbF9mNmM5MjRmMDMwMDI0NGI2ODJmNWMxN2M3YWY2YTEzMSA9ICQoYDxkaXYgaWQ9Imh0bWxfZjZjOTI0ZjAzMDAyNDRiNjgyZjVjMTdjN2FmNmExMzEiIHN0eWxlPSJ3aWR0aDogMTAwLjAlOyBoZWlnaHQ6IDEwMC4wJTsiPlRoZSBCZWFjaGVzLCBFYXN0IFRvcm9udG88L2Rpdj5gKVswXTsKICAgICAgICAgICAgcG9wdXBfNjBiNjhiZDQ5MDU3NGM3NzgzNzExYmE0NzQzZjcyN2Yuc2V0Q29udGVudChodG1sX2Y2YzkyNGYwMzAwMjQ0YjY4MmY1YzE3YzdhZjZhMTMxKTsKICAgICAgICAKCiAgICAgICAgY2lyY2xlX21hcmtlcl83YTY5NGFiMWM5ZjY0OGJhODJmMTZmMzQwMDdiNDFkYy5iaW5kUG9wdXAocG9wdXBfNjBiNjhiZDQ5MDU3NGM3NzgzNzExYmE0NzQzZjcyN2YpCiAgICAgICAgOwoKICAgICAgICAKICAgIAogICAgCiAgICAgICAgICAgIHZhciBjaXJjbGVfbWFya2VyX2ZmOGJmNDQ4ODJhODRjZjY4OWIxMjBiOTRhNDUzODRhID0gTC5jaXJjbGVNYXJrZXIoCiAgICAgICAgICAgICAgICBbNDMuNjQ0NzcwNzk5OTk5OTk2LCAtNzkuMzczMzA2NF0sCiAgICAgICAgICAgICAgICB7ImJ1YmJsaW5nTW91c2VFdmVudHMiOiB0cnVlLCAiY29sb3IiOiAicmVkIiwgImRhc2hBcnJheSI6IG51bGwsICJkYXNoT2Zmc2V0IjogbnVsbCwgImZpbGwiOiB0cnVlLCAiZmlsbENvbG9yIjogInJlZCIsICJmaWxsT3BhY2l0eSI6IDAuMiwgImZpbGxSdWxlIjogImV2ZW5vZGQiLCAibGluZUNhcCI6ICJyb3VuZCIsICJsaW5lSm9pbiI6ICJyb3VuZCIsICJvcGFjaXR5IjogMS4wLCAicmFkaXVzIjogNSwgInN0cm9rZSI6IHRydWUsICJ3ZWlnaHQiOiAzfQogICAgICAgICAgICApLmFkZFRvKG1hcF84YjkwNzc3M2MyZTc0NjM0ODE0YzNmZjJjZWMxZGY4Mik7CiAgICAgICAgCiAgICAKICAgICAgICB2YXIgcG9wdXBfYTRkMzU5ZmZhMmJmNDQzZDgzM2YyZmVhMjhhMTc3ZTUgPSBMLnBvcHVwKHsibWF4V2lkdGgiOiAiMTAwJSJ9KTsKCiAgICAgICAgCiAgICAgICAgICAgIHZhciBodG1sXzQ2M2Y4NDEwZWY0ZTQzNDg5YjM4NzFiMDI0ZDJjY2NiID0gJChgPGRpdiBpZD0iaHRtbF80NjNmODQxMGVmNGU0MzQ4OWIzODcxYjAyNGQyY2NjYiIgc3R5bGU9IndpZHRoOiAxMDAuMCU7IGhlaWdodDogMTAwLjAlOyI+QmVyY3p5IFBhcmssIERvd250b3duIFRvcm9udG88L2Rpdj5gKVswXTsKICAgICAgICAgICAgcG9wdXBfYTRkMzU5ZmZhMmJmNDQzZDgzM2YyZmVhMjhhMTc3ZTUuc2V0Q29udGVudChodG1sXzQ2M2Y4NDEwZWY0ZTQzNDg5YjM4NzFiMDI0ZDJjY2NiKTsKICAgICAgICAKCiAgICAgICAgY2lyY2xlX21hcmtlcl9mZjhiZjQ0ODgyYTg0Y2Y2ODliMTIwYjk0YTQ1Mzg0YS5iaW5kUG9wdXAocG9wdXBfYTRkMzU5ZmZhMmJmNDQzZDgzM2YyZmVhMjhhMTc3ZTUpCiAgICAgICAgOwoKICAgICAgICAKICAgIAogICAgCiAgICAgICAgICAgIHZhciBjaXJjbGVfbWFya2VyXzEwNzVkZjY2MGNmOTRjMTFhMTBhNzBkYmUwY2RlNzg3ID0gTC5jaXJjbGVNYXJrZXIoCiAgICAgICAgICAgICAgICBbNDMuNjg5MDI1NiwgLTc5LjQ1MzUxMl0sCiAgICAgICAgICAgICAgICB7ImJ1YmJsaW5nTW91c2VFdmVudHMiOiB0cnVlLCAiY29sb3IiOiAicmVkIiwgImRhc2hBcnJheSI6IG51bGwsICJkYXNoT2Zmc2V0IjogbnVsbCwgImZpbGwiOiB0cnVlLCAiZmlsbENvbG9yIjogInJlZCIsICJmaWxsT3BhY2l0eSI6IDAuMiwgImZpbGxSdWxlIjogImV2ZW5vZGQiLCAibGluZUNhcCI6ICJyb3VuZCIsICJsaW5lSm9pbiI6ICJyb3VuZCIsICJvcGFjaXR5IjogMS4wLCAicmFkaXVzIjogNSwgInN0cm9rZSI6IHRydWUsICJ3ZWlnaHQiOiAzfQogICAgICAgICAgICApLmFkZFRvKG1hcF84YjkwNzc3M2MyZTc0NjM0ODE0YzNmZjJjZWMxZGY4Mik7CiAgICAgICAgCiAgICAKICAgICAgICB2YXIgcG9wdXBfZDY0NGRjOGJiMzFhNDFiODg2MWE1Yjk2MjIwYWFlYzggPSBMLnBvcHVwKHsibWF4V2lkdGgiOiAiMTAwJSJ9KTsKCiAgICAgICAgCiAgICAgICAgICAgIHZhciBodG1sXzg1ZjA3NTA0YmU2OTRkNDI5YzZlNDJhYjgzMjc3Mzk2ID0gJChgPGRpdiBpZD0iaHRtbF84NWYwNzUwNGJlNjk0ZDQyOWM2ZTQyYWI4MzI3NzM5NiIgc3R5bGU9IndpZHRoOiAxMDAuMCU7IGhlaWdodDogMTAwLjAlOyI+Q2FsZWRvbmlhLUZhaXJiYW5rcywgWW9yazwvZGl2PmApWzBdOwogICAgICAgICAgICBwb3B1cF9kNjQ0ZGM4YmIzMWE0MWI4ODYxYTViOTYyMjBhYWVjOC5zZXRDb250ZW50KGh0bWxfODVmMDc1MDRiZTY5NGQ0MjljNmU0MmFiODMyNzczOTYpOwogICAgICAgIAoKICAgICAgICBjaXJjbGVfbWFya2VyXzEwNzVkZjY2MGNmOTRjMTFhMTBhNzBkYmUwY2RlNzg3LmJpbmRQb3B1cChwb3B1cF9kNjQ0ZGM4YmIzMWE0MWI4ODYxYTViOTYyMjBhYWVjOCkKICAgICAgICA7CgogICAgICAgIAogICAgCiAgICAKICAgICAgICAgICAgdmFyIGNpcmNsZV9tYXJrZXJfYzY0MjdmMWJkMGMyNDk5YmJmOTllM2NmOGNjN2U0NzYgPSBMLmNpcmNsZU1hcmtlcigKICAgICAgICAgICAgICAgIFs0My43NzA5OTIxLCAtNzkuMjE2OTE3NDAwMDAwMDFdLAogICAgICAgICAgICAgICAgeyJidWJibGluZ01vdXNlRXZlbnRzIjogdHJ1ZSwgImNvbG9yIjogInJlZCIsICJkYXNoQXJyYXkiOiBudWxsLCAiZGFzaE9mZnNldCI6IG51bGwsICJmaWxsIjogdHJ1ZSwgImZpbGxDb2xvciI6ICJyZWQiLCAiZmlsbE9wYWNpdHkiOiAwLjIsICJmaWxsUnVsZSI6ICJldmVub2RkIiwgImxpbmVDYXAiOiAicm91bmQiLCAibGluZUpvaW4iOiAicm91bmQiLCAib3BhY2l0eSI6IDEuMCwgInJhZGl1cyI6IDUsICJzdHJva2UiOiB0cnVlLCAid2VpZ2h0IjogM30KICAgICAgICAgICAgKS5hZGRUbyhtYXBfOGI5MDc3NzNjMmU3NDYzNDgxNGMzZmYyY2VjMWRmODIpOwogICAgICAgIAogICAgCiAgICAgICAgdmFyIHBvcHVwX2FiYjU5MGE3YmRhMjQxY2VhOGNiOTNhNThjZDU1NWNjID0gTC5wb3B1cCh7Im1heFdpZHRoIjogIjEwMCUifSk7CgogICAgICAgIAogICAgICAgICAgICB2YXIgaHRtbF9iZDE4MTg1ZGI1M2I0OGIxOWFmNWQ1MGU3MWM0NzE4OSA9ICQoYDxkaXYgaWQ9Imh0bWxfYmQxODE4NWRiNTNiNDhiMTlhZjVkNTBlNzFjNDcxODkiIHN0eWxlPSJ3aWR0aDogMTAwLjAlOyBoZWlnaHQ6IDEwMC4wJTsiPldvYnVybiwgU2NhcmJvcm91Z2g8L2Rpdj5gKVswXTsKICAgICAgICAgICAgcG9wdXBfYWJiNTkwYTdiZGEyNDFjZWE4Y2I5M2E1OGNkNTU1Y2Muc2V0Q29udGVudChodG1sX2JkMTgxODVkYjUzYjQ4YjE5YWY1ZDUwZTcxYzQ3MTg5KTsKICAgICAgICAKCiAgICAgICAgY2lyY2xlX21hcmtlcl9jNjQyN2YxYmQwYzI0OTliYmY5OWUzY2Y4Y2M3ZTQ3Ni5iaW5kUG9wdXAocG9wdXBfYWJiNTkwYTdiZGEyNDFjZWE4Y2I5M2E1OGNkNTU1Y2MpCiAgICAgICAgOwoKICAgICAgICAKICAgIAogICAgCiAgICAgICAgICAgIHZhciBjaXJjbGVfbWFya2VyXzU3YTM4MGNkMDUzMzRjMmFhNzEwZTAzNTVkNWQyZjg0ID0gTC5jaXJjbGVNYXJrZXIoCiAgICAgICAgICAgICAgICBbNDMuNzA5MDYwNCwgLTc5LjM2MzQ1MTddLAogICAgICAgICAgICAgICAgeyJidWJibGluZ01vdXNlRXZlbnRzIjogdHJ1ZSwgImNvbG9yIjogInJlZCIsICJkYXNoQXJyYXkiOiBudWxsLCAiZGFzaE9mZnNldCI6IG51bGwsICJmaWxsIjogdHJ1ZSwgImZpbGxDb2xvciI6ICJyZWQiLCAiZmlsbE9wYWNpdHkiOiAwLjIsICJmaWxsUnVsZSI6ICJldmVub2RkIiwgImxpbmVDYXAiOiAicm91bmQiLCAibGluZUpvaW4iOiAicm91bmQiLCAib3BhY2l0eSI6IDEuMCwgInJhZGl1cyI6IDUsICJzdHJva2UiOiB0cnVlLCAid2VpZ2h0IjogM30KICAgICAgICAgICAgKS5hZGRUbyhtYXBfOGI5MDc3NzNjMmU3NDYzNDgxNGMzZmYyY2VjMWRmODIpOwogICAgICAgIAogICAgCiAgICAgICAgdmFyIHBvcHVwXzczOTVkMjMyOTgyZDQwNDA5MTM1MzJmNjBiMjM3MDIyID0gTC5wb3B1cCh7Im1heFdpZHRoIjogIjEwMCUifSk7CgogICAgICAgIAogICAgICAgICAgICB2YXIgaHRtbF9lNDcxYTQ2NzhhOTE0M2JiOTc4ZTRmNGEzZTdkOTYyOSA9ICQoYDxkaXYgaWQ9Imh0bWxfZTQ3MWE0Njc4YTkxNDNiYjk3OGU0ZjRhM2U3ZDk2MjkiIHN0eWxlPSJ3aWR0aDogMTAwLjAlOyBoZWlnaHQ6IDEwMC4wJTsiPkxlYXNpZGUsIEVhc3QgWW9yazwvZGl2PmApWzBdOwogICAgICAgICAgICBwb3B1cF83Mzk1ZDIzMjk4MmQ0MDQwOTEzNTMyZjYwYjIzNzAyMi5zZXRDb250ZW50KGh0bWxfZTQ3MWE0Njc4YTkxNDNiYjk3OGU0ZjRhM2U3ZDk2MjkpOwogICAgICAgIAoKICAgICAgICBjaXJjbGVfbWFya2VyXzU3YTM4MGNkMDUzMzRjMmFhNzEwZTAzNTVkNWQyZjg0LmJpbmRQb3B1cChwb3B1cF83Mzk1ZDIzMjk4MmQ0MDQwOTEzNTMyZjYwYjIzNzAyMikKICAgICAgICA7CgogICAgICAgIAogICAgCiAgICAKICAgICAgICAgICAgdmFyIGNpcmNsZV9tYXJrZXJfZWFhZjZjOWE1ZjVlNDBkZjhjMzAxY2FlZDFkODBkYjEgPSBMLmNpcmNsZU1hcmtlcigKICAgICAgICAgICAgICAgIFs0My42NTc5NTI0LCAtNzkuMzg3MzgyNl0sCiAgICAgICAgICAgICAgICB7ImJ1YmJsaW5nTW91c2VFdmVudHMiOiB0cnVlLCAiY29sb3IiOiAicmVkIiwgImRhc2hBcnJheSI6IG51bGwsICJkYXNoT2Zmc2V0IjogbnVsbCwgImZpbGwiOiB0cnVlLCAiZmlsbENvbG9yIjogInJlZCIsICJmaWxsT3BhY2l0eSI6IDAuMiwgImZpbGxSdWxlIjogImV2ZW5vZGQiLCAibGluZUNhcCI6ICJyb3VuZCIsICJsaW5lSm9pbiI6ICJyb3VuZCIsICJvcGFjaXR5IjogMS4wLCAicmFkaXVzIjogNSwgInN0cm9rZSI6IHRydWUsICJ3ZWlnaHQiOiAzfQogICAgICAgICAgICApLmFkZFRvKG1hcF84YjkwNzc3M2MyZTc0NjM0ODE0YzNmZjJjZWMxZGY4Mik7CiAgICAgICAgCiAgICAKICAgICAgICB2YXIgcG9wdXBfODlmMWM5NTg3MjM3NDcwY2ExMGQ3OWQxNDRhZmU3YWIgPSBMLnBvcHVwKHsibWF4V2lkdGgiOiAiMTAwJSJ9KTsKCiAgICAgICAgCiAgICAgICAgICAgIHZhciBodG1sXzdiOTM3MGYzN2E4OTQ1NzZiMjQwZTNjZWRlZTcwMTUxID0gJChgPGRpdiBpZD0iaHRtbF83YjkzNzBmMzdhODk0NTc2YjI0MGUzY2VkZWU3MDE1MSIgc3R5bGU9IndpZHRoOiAxMDAuMCU7IGhlaWdodDogMTAwLjAlOyI+Q2VudHJhbCBCYXkgU3RyZWV0LCBEb3dudG93biBUb3JvbnRvPC9kaXY+YClbMF07CiAgICAgICAgICAgIHBvcHVwXzg5ZjFjOTU4NzIzNzQ3MGNhMTBkNzlkMTQ0YWZlN2FiLnNldENvbnRlbnQoaHRtbF83YjkzNzBmMzdhODk0NTc2YjI0MGUzY2VkZWU3MDE1MSk7CiAgICAgICAgCgogICAgICAgIGNpcmNsZV9tYXJrZXJfZWFhZjZjOWE1ZjVlNDBkZjhjMzAxY2FlZDFkODBkYjEuYmluZFBvcHVwKHBvcHVwXzg5ZjFjOTU4NzIzNzQ3MGNhMTBkNzlkMTQ0YWZlN2FiKQogICAgICAgIDsKCiAgICAgICAgCiAgICAKICAgIAogICAgICAgICAgICB2YXIgY2lyY2xlX21hcmtlcl8xMTBmM2E4NGRkMGY0NzVhOGFlOTMwMGI2ZjlkYTAxOSA9IEwuY2lyY2xlTWFya2VyKAogICAgICAgICAgICAgICAgWzQzLjY2OTU0MiwgLTc5LjQyMjU2MzddLAogICAgICAgICAgICAgICAgeyJidWJibGluZ01vdXNlRXZlbnRzIjogdHJ1ZSwgImNvbG9yIjogInJlZCIsICJkYXNoQXJyYXkiOiBudWxsLCAiZGFzaE9mZnNldCI6IG51bGwsICJmaWxsIjogdHJ1ZSwgImZpbGxDb2xvciI6ICJyZWQiLCAiZmlsbE9wYWNpdHkiOiAwLjIsICJmaWxsUnVsZSI6ICJldmVub2RkIiwgImxpbmVDYXAiOiAicm91bmQiLCAibGluZUpvaW4iOiAicm91bmQiLCAib3BhY2l0eSI6IDEuMCwgInJhZGl1cyI6IDUsICJzdHJva2UiOiB0cnVlLCAid2VpZ2h0IjogM30KICAgICAgICAgICAgKS5hZGRUbyhtYXBfOGI5MDc3NzNjMmU3NDYzNDgxNGMzZmYyY2VjMWRmODIpOwogICAgICAgIAogICAgCiAgICAgICAgdmFyIHBvcHVwXzM3YzQyMDIwMjA1ZTRkMGFhZTBmZmZhNjBiNmNjYmFiID0gTC5wb3B1cCh7Im1heFdpZHRoIjogIjEwMCUifSk7CgogICAgICAgIAogICAgICAgICAgICB2YXIgaHRtbF9jODE5YzYwODAyYTA0NzM4YjNmZDczYzMyODRiZmVhZiA9ICQoYDxkaXYgaWQ9Imh0bWxfYzgxOWM2MDgwMmEwNDczOGIzZmQ3M2MzMjg0YmZlYWYiIHN0eWxlPSJ3aWR0aDogMTAwLjAlOyBoZWlnaHQ6IDEwMC4wJTsiPkNocmlzdGllLCBEb3dudG93biBUb3JvbnRvPC9kaXY+YClbMF07CiAgICAgICAgICAgIHBvcHVwXzM3YzQyMDIwMjA1ZTRkMGFhZTBmZmZhNjBiNmNjYmFiLnNldENvbnRlbnQoaHRtbF9jODE5YzYwODAyYTA0NzM4YjNmZDczYzMyODRiZmVhZik7CiAgICAgICAgCgogICAgICAgIGNpcmNsZV9tYXJrZXJfMTEwZjNhODRkZDBmNDc1YThhZTkzMDBiNmY5ZGEwMTkuYmluZFBvcHVwKHBvcHVwXzM3YzQyMDIwMjA1ZTRkMGFhZTBmZmZhNjBiNmNjYmFiKQogICAgICAgIDsKCiAgICAgICAgCiAgICAKICAgIAogICAgICAgICAgICB2YXIgY2lyY2xlX21hcmtlcl85MjAxNjFhMTdhNGE0ODdiOTM5MTZhOWVmOTMwYTdhMiA9IEwuY2lyY2xlTWFya2VyKAogICAgICAgICAgICAgICAgWzQzLjc3MzEzNiwgLTc5LjIzOTQ3NjA5OTk5OTk5XSwKICAgICAgICAgICAgICAgIHsiYnViYmxpbmdNb3VzZUV2ZW50cyI6IHRydWUsICJjb2xvciI6ICJyZWQiLCAiZGFzaEFycmF5IjogbnVsbCwgImRhc2hPZmZzZXQiOiBudWxsLCAiZmlsbCI6IHRydWUsICJmaWxsQ29sb3IiOiAicmVkIiwgImZpbGxPcGFjaXR5IjogMC4yLCAiZmlsbFJ1bGUiOiAiZXZlbm9kZCIsICJsaW5lQ2FwIjogInJvdW5kIiwgImxpbmVKb2luIjogInJvdW5kIiwgIm9wYWNpdHkiOiAxLjAsICJyYWRpdXMiOiA1LCAic3Ryb2tlIjogdHJ1ZSwgIndlaWdodCI6IDN9CiAgICAgICAgICAgICkuYWRkVG8obWFwXzhiOTA3NzczYzJlNzQ2MzQ4MTRjM2ZmMmNlYzFkZjgyKTsKICAgICAgICAKICAgIAogICAgICAgIHZhciBwb3B1cF81NDY2ZjRiYjU4YzY0MDk0OTVhOTNjOWEzNGU2NDY0NCA9IEwucG9wdXAoeyJtYXhXaWR0aCI6ICIxMDAlIn0pOwoKICAgICAgICAKICAgICAgICAgICAgdmFyIGh0bWxfNjczYzgwZDNkNWNiNDRhMzg5ODRiMzRmNjE0ZDQ2YmMgPSAkKGA8ZGl2IGlkPSJodG1sXzY3M2M4MGQzZDVjYjQ0YTM4OTg0YjM0ZjYxNGQ0NmJjIiBzdHlsZT0id2lkdGg6IDEwMC4wJTsgaGVpZ2h0OiAxMDAuMCU7Ij5DZWRhcmJyYWUsIFNjYXJib3JvdWdoPC9kaXY+YClbMF07CiAgICAgICAgICAgIHBvcHVwXzU0NjZmNGJiNThjNjQwOTQ5NWE5M2M5YTM0ZTY0NjQ0LnNldENvbnRlbnQoaHRtbF82NzNjODBkM2Q1Y2I0NGEzODk4NGIzNGY2MTRkNDZiYyk7CiAgICAgICAgCgogICAgICAgIGNpcmNsZV9tYXJrZXJfOTIwMTYxYTE3YTRhNDg3YjkzOTE2YTllZjkzMGE3YTIuYmluZFBvcHVwKHBvcHVwXzU0NjZmNGJiNThjNjQwOTQ5NWE5M2M5YTM0ZTY0NjQ0KQogICAgICAgIDsKCiAgICAgICAgCiAgICAKICAgIAogICAgICAgICAgICB2YXIgY2lyY2xlX21hcmtlcl9lNzM1YjVlYTI0ODE0MWJlYTZiNjEzY2NiOWUzNDA5NSA9IEwuY2lyY2xlTWFya2VyKAogICAgICAgICAgICAgICAgWzQzLjgwMzc2MjIsIC03OS4zNjM0NTE3XSwKICAgICAgICAgICAgICAgIHsiYnViYmxpbmdNb3VzZUV2ZW50cyI6IHRydWUsICJjb2xvciI6ICJyZWQiLCAiZGFzaEFycmF5IjogbnVsbCwgImRhc2hPZmZzZXQiOiBudWxsLCAiZmlsbCI6IHRydWUsICJmaWxsQ29sb3IiOiAicmVkIiwgImZpbGxPcGFjaXR5IjogMC4yLCAiZmlsbFJ1bGUiOiAiZXZlbm9kZCIsICJsaW5lQ2FwIjogInJvdW5kIiwgImxpbmVKb2luIjogInJvdW5kIiwgIm9wYWNpdHkiOiAxLjAsICJyYWRpdXMiOiA1LCAic3Ryb2tlIjogdHJ1ZSwgIndlaWdodCI6IDN9CiAgICAgICAgICAgICkuYWRkVG8obWFwXzhiOTA3NzczYzJlNzQ2MzQ4MTRjM2ZmMmNlYzFkZjgyKTsKICAgICAgICAKICAgIAogICAgICAgIHZhciBwb3B1cF80ODRhYWQ4NDNiN2Q0NzQ3YjI2Mjc0NWFiNzQ0M2M2NiA9IEwucG9wdXAoeyJtYXhXaWR0aCI6ICIxMDAlIn0pOwoKICAgICAgICAKICAgICAgICAgICAgdmFyIGh0bWxfZGQzZjA1NmI0MTI3NGY2Zjg5ZThkZmRmMGQ0NzBhZjUgPSAkKGA8ZGl2IGlkPSJodG1sX2RkM2YwNTZiNDEyNzRmNmY4OWU4ZGZkZjBkNDcwYWY1IiBzdHlsZT0id2lkdGg6IDEwMC4wJTsgaGVpZ2h0OiAxMDAuMCU7Ij5IaWxsY3Jlc3QgVmlsbGFnZSwgTm9ydGggWW9yazwvZGl2PmApWzBdOwogICAgICAgICAgICBwb3B1cF80ODRhYWQ4NDNiN2Q0NzQ3YjI2Mjc0NWFiNzQ0M2M2Ni5zZXRDb250ZW50KGh0bWxfZGQzZjA1NmI0MTI3NGY2Zjg5ZThkZmRmMGQ0NzBhZjUpOwogICAgICAgIAoKICAgICAgICBjaXJjbGVfbWFya2VyX2U3MzViNWVhMjQ4MTQxYmVhNmI2MTNjY2I5ZTM0MDk1LmJpbmRQb3B1cChwb3B1cF80ODRhYWQ4NDNiN2Q0NzQ3YjI2Mjc0NWFiNzQ0M2M2NikKICAgICAgICA7CgogICAgICAgIAogICAgCiAgICAKICAgICAgICAgICAgdmFyIGNpcmNsZV9tYXJrZXJfYTFjZWJiMmY2ODBjNDBmZWJkNzI0Y2ZiN2JjOWIwMjIgPSBMLmNpcmNsZU1hcmtlcigKICAgICAgICAgICAgICAgIFs0My43NTQzMjgzLCAtNzkuNDQyMjU5M10sCiAgICAgICAgICAgICAgICB7ImJ1YmJsaW5nTW91c2VFdmVudHMiOiB0cnVlLCAiY29sb3IiOiAicmVkIiwgImRhc2hBcnJheSI6IG51bGwsICJkYXNoT2Zmc2V0IjogbnVsbCwgImZpbGwiOiB0cnVlLCAiZmlsbENvbG9yIjogInJlZCIsICJmaWxsT3BhY2l0eSI6IDAuMiwgImZpbGxSdWxlIjogImV2ZW5vZGQiLCAibGluZUNhcCI6ICJyb3VuZCIsICJsaW5lSm9pbiI6ICJyb3VuZCIsICJvcGFjaXR5IjogMS4wLCAicmFkaXVzIjogNSwgInN0cm9rZSI6IHRydWUsICJ3ZWlnaHQiOiAzfQogICAgICAgICAgICApLmFkZFRvKG1hcF84YjkwNzc3M2MyZTc0NjM0ODE0YzNmZjJjZWMxZGY4Mik7CiAgICAgICAgCiAgICAKICAgICAgICB2YXIgcG9wdXBfYzZmYzcwYWFiMmRiNDc2NWEyNjRkNzRhNTRlYmJmM2YgPSBMLnBvcHVwKHsibWF4V2lkdGgiOiAiMTAwJSJ9KTsKCiAgICAgICAgCiAgICAgICAgICAgIHZhciBodG1sX2IxNWYzOTQzYzU5OTQzYjk4ZDZiZjE0MGFmNWI0ZWU3ID0gJChgPGRpdiBpZD0iaHRtbF9iMTVmMzk0M2M1OTk0M2I5OGQ2YmYxNDBhZjViNGVlNyIgc3R5bGU9IndpZHRoOiAxMDAuMCU7IGhlaWdodDogMTAwLjAlOyI+QmF0aHVyc3QgTWFub3IsIFdpbHNvbiBIZWlnaHRzLCBEb3duc3ZpZXcgTm9ydGgsIE5vcnRoIFlvcms8L2Rpdj5gKVswXTsKICAgICAgICAgICAgcG9wdXBfYzZmYzcwYWFiMmRiNDc2NWEyNjRkNzRhNTRlYmJmM2Yuc2V0Q29udGVudChodG1sX2IxNWYzOTQzYzU5OTQzYjk4ZDZiZjE0MGFmNWI0ZWU3KTsKICAgICAgICAKCiAgICAgICAgY2lyY2xlX21hcmtlcl9hMWNlYmIyZjY4MGM0MGZlYmQ3MjRjZmI3YmM5YjAyMi5iaW5kUG9wdXAocG9wdXBfYzZmYzcwYWFiMmRiNDc2NWEyNjRkNzRhNTRlYmJmM2YpCiAgICAgICAgOwoKICAgICAgICAKICAgIAogICAgCiAgICAgICAgICAgIHZhciBjaXJjbGVfbWFya2VyXzA0ZTNjZjEzNzk4MjQ1MDc4YzMwZjFlYTQ0NjcxZDZkID0gTC5jaXJjbGVNYXJrZXIoCiAgICAgICAgICAgICAgICBbNDMuNzA1MzY4OSwgLTc5LjM0OTM3MTkwMDAwMDAxXSwKICAgICAgICAgICAgICAgIHsiYnViYmxpbmdNb3VzZUV2ZW50cyI6IHRydWUsICJjb2xvciI6ICJyZWQiLCAiZGFzaEFycmF5IjogbnVsbCwgImRhc2hPZmZzZXQiOiBudWxsLCAiZmlsbCI6IHRydWUsICJmaWxsQ29sb3IiOiAicmVkIiwgImZpbGxPcGFjaXR5IjogMC4yLCAiZmlsbFJ1bGUiOiAiZXZlbm9kZCIsICJsaW5lQ2FwIjogInJvdW5kIiwgImxpbmVKb2luIjogInJvdW5kIiwgIm9wYWNpdHkiOiAxLjAsICJyYWRpdXMiOiA1LCAic3Ryb2tlIjogdHJ1ZSwgIndlaWdodCI6IDN9CiAgICAgICAgICAgICkuYWRkVG8obWFwXzhiOTA3NzczYzJlNzQ2MzQ4MTRjM2ZmMmNlYzFkZjgyKTsKICAgICAgICAKICAgIAogICAgICAgIHZhciBwb3B1cF9lYjIwYTUyYzhiNmM0NGVkOGZlOGM5MTVlMjMyMDUyMSA9IEwucG9wdXAoeyJtYXhXaWR0aCI6ICIxMDAlIn0pOwoKICAgICAgICAKICAgICAgICAgICAgdmFyIGh0bWxfYmQ4Yzg5YmJjOWZjNDY2MDgwMGViM2YyY2UyZmUzODEgPSAkKGA8ZGl2IGlkPSJodG1sX2JkOGM4OWJiYzlmYzQ2NjA4MDBlYjNmMmNlMmZlMzgxIiBzdHlsZT0id2lkdGg6IDEwMC4wJTsgaGVpZ2h0OiAxMDAuMCU7Ij5UaG9ybmNsaWZmZSBQYXJrLCBFYXN0IFlvcms8L2Rpdj5gKVswXTsKICAgICAgICAgICAgcG9wdXBfZWIyMGE1MmM4YjZjNDRlZDhmZThjOTE1ZTIzMjA1MjEuc2V0Q29udGVudChodG1sX2JkOGM4OWJiYzlmYzQ2NjA4MDBlYjNmMmNlMmZlMzgxKTsKICAgICAgICAKCiAgICAgICAgY2lyY2xlX21hcmtlcl8wNGUzY2YxMzc5ODI0NTA3OGMzMGYxZWE0NDY3MWQ2ZC5iaW5kUG9wdXAocG9wdXBfZWIyMGE1MmM4YjZjNDRlZDhmZThjOTE1ZTIzMjA1MjEpCiAgICAgICAgOwoKICAgICAgICAKICAgIAogICAgCiAgICAgICAgICAgIHZhciBjaXJjbGVfbWFya2VyX2Q5NTQyZTgzNjE3YTQzZGM5Y2FiNjVkMDk2NDQ5ZTk2ID0gTC5jaXJjbGVNYXJrZXIoCiAgICAgICAgICAgICAgICBbNDMuNjUwNTcxMjAwMDAwMDEsIC03OS4zODQ1Njc1XSwKICAgICAgICAgICAgICAgIHsiYnViYmxpbmdNb3VzZUV2ZW50cyI6IHRydWUsICJjb2xvciI6ICJyZWQiLCAiZGFzaEFycmF5IjogbnVsbCwgImRhc2hPZmZzZXQiOiBudWxsLCAiZmlsbCI6IHRydWUsICJmaWxsQ29sb3IiOiAicmVkIiwgImZpbGxPcGFjaXR5IjogMC4yLCAiZmlsbFJ1bGUiOiAiZXZlbm9kZCIsICJsaW5lQ2FwIjogInJvdW5kIiwgImxpbmVKb2luIjogInJvdW5kIiwgIm9wYWNpdHkiOiAxLjAsICJyYWRpdXMiOiA1LCAic3Ryb2tlIjogdHJ1ZSwgIndlaWdodCI6IDN9CiAgICAgICAgICAgICkuYWRkVG8obWFwXzhiOTA3NzczYzJlNzQ2MzQ4MTRjM2ZmMmNlYzFkZjgyKTsKICAgICAgICAKICAgIAogICAgICAgIHZhciBwb3B1cF9kZmMxMGU5YjIxMmE0NzYxOThiNWI0ZjYxZGE2NTA5NCA9IEwucG9wdXAoeyJtYXhXaWR0aCI6ICIxMDAlIn0pOwoKICAgICAgICAKICAgICAgICAgICAgdmFyIGh0bWxfMzhkZWI3MTM5MDI0NDA1OTg4MmVlN2Q2ZjllODhlYzAgPSAkKGA8ZGl2IGlkPSJodG1sXzM4ZGViNzEzOTAyNDQwNTk4ODJlZTdkNmY5ZTg4ZWMwIiBzdHlsZT0id2lkdGg6IDEwMC4wJTsgaGVpZ2h0OiAxMDAuMCU7Ij5SaWNobW9uZCwgQWRlbGFpZGUsIEtpbmcsIERvd250b3duIFRvcm9udG88L2Rpdj5gKVswXTsKICAgICAgICAgICAgcG9wdXBfZGZjMTBlOWIyMTJhNDc2MTk4YjViNGY2MWRhNjUwOTQuc2V0Q29udGVudChodG1sXzM4ZGViNzEzOTAyNDQwNTk4ODJlZTdkNmY5ZTg4ZWMwKTsKICAgICAgICAKCiAgICAgICAgY2lyY2xlX21hcmtlcl9kOTU0MmU4MzYxN2E0M2RjOWNhYjY1ZDA5NjQ0OWU5Ni5iaW5kUG9wdXAocG9wdXBfZGZjMTBlOWIyMTJhNDc2MTk4YjViNGY2MWRhNjUwOTQpCiAgICAgICAgOwoKICAgICAgICAKICAgIAogICAgCiAgICAgICAgICAgIHZhciBjaXJjbGVfbWFya2VyX2I3MmI5NmM3MGQ4OTQwZWI4MTQ1MTI0Y2RiNGE0N2E5ID0gTC5jaXJjbGVNYXJrZXIoCiAgICAgICAgICAgICAgICBbNDMuNjY5MDA1MTAwMDAwMDEsIC03OS40NDIyNTkzXSwKICAgICAgICAgICAgICAgIHsiYnViYmxpbmdNb3VzZUV2ZW50cyI6IHRydWUsICJjb2xvciI6ICJyZWQiLCAiZGFzaEFycmF5IjogbnVsbCwgImRhc2hPZmZzZXQiOiBudWxsLCAiZmlsbCI6IHRydWUsICJmaWxsQ29sb3IiOiAicmVkIiwgImZpbGxPcGFjaXR5IjogMC4yLCAiZmlsbFJ1bGUiOiAiZXZlbm9kZCIsICJsaW5lQ2FwIjogInJvdW5kIiwgImxpbmVKb2luIjogInJvdW5kIiwgIm9wYWNpdHkiOiAxLjAsICJyYWRpdXMiOiA1LCAic3Ryb2tlIjogdHJ1ZSwgIndlaWdodCI6IDN9CiAgICAgICAgICAgICkuYWRkVG8obWFwXzhiOTA3NzczYzJlNzQ2MzQ4MTRjM2ZmMmNlYzFkZjgyKTsKICAgICAgICAKICAgIAogICAgICAgIHZhciBwb3B1cF9lNDIwMjcwZTM2NWE0ZTU4OTEwYmI5NDEwYmI0NTE0ZiA9IEwucG9wdXAoeyJtYXhXaWR0aCI6ICIxMDAlIn0pOwoKICAgICAgICAKICAgICAgICAgICAgdmFyIGh0bWxfMzI1OTY5NjgzY2E3NDAwMzg2NTllZmRlMGRmMmEzZWIgPSAkKGA8ZGl2IGlkPSJodG1sXzMyNTk2OTY4M2NhNzQwMDM4NjU5ZWZkZTBkZjJhM2ViIiBzdHlsZT0id2lkdGg6IDEwMC4wJTsgaGVpZ2h0OiAxMDAuMCU7Ij5EdWZmZXJpbiwgRG92ZXJjb3VydCBWaWxsYWdlLCBXZXN0IFRvcm9udG88L2Rpdj5gKVswXTsKICAgICAgICAgICAgcG9wdXBfZTQyMDI3MGUzNjVhNGU1ODkxMGJiOTQxMGJiNDUxNGYuc2V0Q29udGVudChodG1sXzMyNTk2OTY4M2NhNzQwMDM4NjU5ZWZkZTBkZjJhM2ViKTsKICAgICAgICAKCiAgICAgICAgY2lyY2xlX21hcmtlcl9iNzJiOTZjNzBkODk0MGViODE0NTEyNGNkYjRhNDdhOS5iaW5kUG9wdXAocG9wdXBfZTQyMDI3MGUzNjVhNGU1ODkxMGJiOTQxMGJiNDUxNGYpCiAgICAgICAgOwoKICAgICAgICAKICAgIAogICAgCiAgICAgICAgICAgIHZhciBjaXJjbGVfbWFya2VyX2NkMjgxODk1ODVmMzQ5OGVhN2JmZjc0ZThkYzkyZTUyID0gTC5jaXJjbGVNYXJrZXIoCiAgICAgICAgICAgICAgICBbNDMuNzQ0NzM0MiwgLTc5LjIzOTQ3NjA5OTk5OTk5XSwKICAgICAgICAgICAgICAgIHsiYnViYmxpbmdNb3VzZUV2ZW50cyI6IHRydWUsICJjb2xvciI6ICJyZWQiLCAiZGFzaEFycmF5IjogbnVsbCwgImRhc2hPZmZzZXQiOiBudWxsLCAiZmlsbCI6IHRydWUsICJmaWxsQ29sb3IiOiAicmVkIiwgImZpbGxPcGFjaXR5IjogMC4yLCAiZmlsbFJ1bGUiOiAiZXZlbm9kZCIsICJsaW5lQ2FwIjogInJvdW5kIiwgImxpbmVKb2luIjogInJvdW5kIiwgIm9wYWNpdHkiOiAxLjAsICJyYWRpdXMiOiA1LCAic3Ryb2tlIjogdHJ1ZSwgIndlaWdodCI6IDN9CiAgICAgICAgICAgICkuYWRkVG8obWFwXzhiOTA3NzczYzJlNzQ2MzQ4MTRjM2ZmMmNlYzFkZjgyKTsKICAgICAgICAKICAgIAogICAgICAgIHZhciBwb3B1cF8wMzM1Zjk1NGMxODY0ZmNhYThlNWQ3NWU4OTVlNjdhZCA9IEwucG9wdXAoeyJtYXhXaWR0aCI6ICIxMDAlIn0pOwoKICAgICAgICAKICAgICAgICAgICAgdmFyIGh0bWxfOWM3YWIxMmQyNTdhNDVjMWJjNTRiYjMxZTZjNzU2YjMgPSAkKGA8ZGl2IGlkPSJodG1sXzljN2FiMTJkMjU3YTQ1YzFiYzU0YmIzMWU2Yzc1NmIzIiBzdHlsZT0id2lkdGg6IDEwMC4wJTsgaGVpZ2h0OiAxMDAuMCU7Ij5TY2FyYm9yb3VnaCBWaWxsYWdlLCBTY2FyYm9yb3VnaDwvZGl2PmApWzBdOwogICAgICAgICAgICBwb3B1cF8wMzM1Zjk1NGMxODY0ZmNhYThlNWQ3NWU4OTVlNjdhZC5zZXRDb250ZW50KGh0bWxfOWM3YWIxMmQyNTdhNDVjMWJjNTRiYjMxZTZjNzU2YjMpOwogICAgICAgIAoKICAgICAgICBjaXJjbGVfbWFya2VyX2NkMjgxODk1ODVmMzQ5OGVhN2JmZjc0ZThkYzkyZTUyLmJpbmRQb3B1cChwb3B1cF8wMzM1Zjk1NGMxODY0ZmNhYThlNWQ3NWU4OTVlNjdhZCkKICAgICAgICA7CgogICAgICAgIAogICAgCiAgICAKICAgICAgICAgICAgdmFyIGNpcmNsZV9tYXJrZXJfNjFjYmZlM2JjNDg5NGUxMGE1NjhiYmIyNWI3YTIyODQgPSBMLmNpcmNsZU1hcmtlcigKICAgICAgICAgICAgICAgIFs0My43Nzg1MTc1LCAtNzkuMzQ2NTU1N10sCiAgICAgICAgICAgICAgICB7ImJ1YmJsaW5nTW91c2VFdmVudHMiOiB0cnVlLCAiY29sb3IiOiAicmVkIiwgImRhc2hBcnJheSI6IG51bGwsICJkYXNoT2Zmc2V0IjogbnVsbCwgImZpbGwiOiB0cnVlLCAiZmlsbENvbG9yIjogInJlZCIsICJmaWxsT3BhY2l0eSI6IDAuMiwgImZpbGxSdWxlIjogImV2ZW5vZGQiLCAibGluZUNhcCI6ICJyb3VuZCIsICJsaW5lSm9pbiI6ICJyb3VuZCIsICJvcGFjaXR5IjogMS4wLCAicmFkaXVzIjogNSwgInN0cm9rZSI6IHRydWUsICJ3ZWlnaHQiOiAzfQogICAgICAgICAgICApLmFkZFRvKG1hcF84YjkwNzc3M2MyZTc0NjM0ODE0YzNmZjJjZWMxZGY4Mik7CiAgICAgICAgCiAgICAKICAgICAgICB2YXIgcG9wdXBfMDY1YTdkOGMyNzFhNDJhOGEwYzMwN2QyNjJhYmRiOTAgPSBMLnBvcHVwKHsibWF4V2lkdGgiOiAiMTAwJSJ9KTsKCiAgICAgICAgCiAgICAgICAgICAgIHZhciBodG1sXzJmZDYyNjI1ZGVmMDQ3MDA4MzEwY2VhZTczOGY0NjVhID0gJChgPGRpdiBpZD0iaHRtbF8yZmQ2MjYyNWRlZjA0NzAwODMxMGNlYWU3MzhmNDY1YSIgc3R5bGU9IndpZHRoOiAxMDAuMCU7IGhlaWdodDogMTAwLjAlOyI+RmFpcnZpZXcsIEhlbnJ5IEZhcm0sIE9yaW9sZSwgTm9ydGggWW9yazwvZGl2PmApWzBdOwogICAgICAgICAgICBwb3B1cF8wNjVhN2Q4YzI3MWE0MmE4YTBjMzA3ZDI2MmFiZGI5MC5zZXRDb250ZW50KGh0bWxfMmZkNjI2MjVkZWYwNDcwMDgzMTBjZWFlNzM4ZjQ2NWEpOwogICAgICAgIAoKICAgICAgICBjaXJjbGVfbWFya2VyXzYxY2JmZTNiYzQ4OTRlMTBhNTY4YmJiMjViN2EyMjg0LmJpbmRQb3B1cChwb3B1cF8wNjVhN2Q4YzI3MWE0MmE4YTBjMzA3ZDI2MmFiZGI5MCkKICAgICAgICA7CgogICAgICAgIAogICAgCiAgICAKICAgICAgICAgICAgdmFyIGNpcmNsZV9tYXJrZXJfMjY3ODg1OWU0NjZhNDQzOGEzN2IzMzJlZTQ5ZjgwODkgPSBMLmNpcmNsZU1hcmtlcigKICAgICAgICAgICAgICAgIFs0My43Njc5ODAzLCAtNzkuNDg3MjYxOTAwMDAwMDFdLAogICAgICAgICAgICAgICAgeyJidWJibGluZ01vdXNlRXZlbnRzIjogdHJ1ZSwgImNvbG9yIjogInJlZCIsICJkYXNoQXJyYXkiOiBudWxsLCAiZGFzaE9mZnNldCI6IG51bGwsICJmaWxsIjogdHJ1ZSwgImZpbGxDb2xvciI6ICJyZWQiLCAiZmlsbE9wYWNpdHkiOiAwLjIsICJmaWxsUnVsZSI6ICJldmVub2RkIiwgImxpbmVDYXAiOiAicm91bmQiLCAibGluZUpvaW4iOiAicm91bmQiLCAib3BhY2l0eSI6IDEuMCwgInJhZGl1cyI6IDUsICJzdHJva2UiOiB0cnVlLCAid2VpZ2h0IjogM30KICAgICAgICAgICAgKS5hZGRUbyhtYXBfOGI5MDc3NzNjMmU3NDYzNDgxNGMzZmYyY2VjMWRmODIpOwogICAgICAgIAogICAgCiAgICAgICAgdmFyIHBvcHVwXzY4OTdiZTI3YjBmYjRiZTg4MmYxNDM1ZGM3YTkxNGM2ID0gTC5wb3B1cCh7Im1heFdpZHRoIjogIjEwMCUifSk7CgogICAgICAgIAogICAgICAgICAgICB2YXIgaHRtbF9mMjQxNzJlOTY0YzU0NmM5OTgyNTIyOGY0NTQwYjc5NSA9ICQoYDxkaXYgaWQ9Imh0bWxfZjI0MTcyZTk2NGM1NDZjOTk4MjUyMjhmNDU0MGI3OTUiIHN0eWxlPSJ3aWR0aDogMTAwLjAlOyBoZWlnaHQ6IDEwMC4wJTsiPk5vcnRod29vZCBQYXJrLCBZb3JrIFVuaXZlcnNpdHksIE5vcnRoIFlvcms8L2Rpdj5gKVswXTsKICAgICAgICAgICAgcG9wdXBfNjg5N2JlMjdiMGZiNGJlODgyZjE0MzVkYzdhOTE0YzYuc2V0Q29udGVudChodG1sX2YyNDE3MmU5NjRjNTQ2Yzk5ODI1MjI4ZjQ1NDBiNzk1KTsKICAgICAgICAKCiAgICAgICAgY2lyY2xlX21hcmtlcl8yNjc4ODU5ZTQ2NmE0NDM4YTM3YjMzMmVlNDlmODA4OS5iaW5kUG9wdXAocG9wdXBfNjg5N2JlMjdiMGZiNGJlODgyZjE0MzVkYzdhOTE0YzYpCiAgICAgICAgOwoKICAgICAgICAKICAgIAogICAgCiAgICAgICAgICAgIHZhciBjaXJjbGVfbWFya2VyX2VkN2U0ZmY0ZTRiMzRlYjA4NjJhMTI3NTQ5Nzg3ZmU4ID0gTC5jaXJjbGVNYXJrZXIoCiAgICAgICAgICAgICAgICBbNDMuNjg1MzQ3LCAtNzkuMzM4MTA2NV0sCiAgICAgICAgICAgICAgICB7ImJ1YmJsaW5nTW91c2VFdmVudHMiOiB0cnVlLCAiY29sb3IiOiAicmVkIiwgImRhc2hBcnJheSI6IG51bGwsICJkYXNoT2Zmc2V0IjogbnVsbCwgImZpbGwiOiB0cnVlLCAiZmlsbENvbG9yIjogInJlZCIsICJmaWxsT3BhY2l0eSI6IDAuMiwgImZpbGxSdWxlIjogImV2ZW5vZGQiLCAibGluZUNhcCI6ICJyb3VuZCIsICJsaW5lSm9pbiI6ICJyb3VuZCIsICJvcGFjaXR5IjogMS4wLCAicmFkaXVzIjogNSwgInN0cm9rZSI6IHRydWUsICJ3ZWlnaHQiOiAzfQogICAgICAgICAgICApLmFkZFRvKG1hcF84YjkwNzc3M2MyZTc0NjM0ODE0YzNmZjJjZWMxZGY4Mik7CiAgICAgICAgCiAgICAKICAgICAgICB2YXIgcG9wdXBfMzQyZTcyMDM5MTU0NDZjNGJiNmNiNTZiYTc4ZTEyZTIgPSBMLnBvcHVwKHsibWF4V2lkdGgiOiAiMTAwJSJ9KTsKCiAgICAgICAgCiAgICAgICAgICAgIHZhciBodG1sX2Q1NTFhMDgwNmVmYjQyZTFiYTkyZTFmMjc2MTI3MmI2ID0gJChgPGRpdiBpZD0iaHRtbF9kNTUxYTA4MDZlZmI0MmUxYmE5MmUxZjI3NjEyNzJiNiIgc3R5bGU9IndpZHRoOiAxMDAuMCU7IGhlaWdodDogMTAwLjAlOyI+RWFzdCBUb3JvbnRvLCBCcm9hZHZpZXcgTm9ydGggKE9sZCBFYXN0IFlvcmspLCBFYXN0IFlvcms8L2Rpdj5gKVswXTsKICAgICAgICAgICAgcG9wdXBfMzQyZTcyMDM5MTU0NDZjNGJiNmNiNTZiYTc4ZTEyZTIuc2V0Q29udGVudChodG1sX2Q1NTFhMDgwNmVmYjQyZTFiYTkyZTFmMjc2MTI3MmI2KTsKICAgICAgICAKCiAgICAgICAgY2lyY2xlX21hcmtlcl9lZDdlNGZmNGU0YjM0ZWIwODYyYTEyNzU0OTc4N2ZlOC5iaW5kUG9wdXAocG9wdXBfMzQyZTcyMDM5MTU0NDZjNGJiNmNiNTZiYTc4ZTEyZTIpCiAgICAgICAgOwoKICAgICAgICAKICAgIAogICAgCiAgICAgICAgICAgIHZhciBjaXJjbGVfbWFya2VyXzNhM2Y0ODY4YjA4ZTRlMTY4MzNlM2Q4ZTA1NWMyZTBiID0gTC5jaXJjbGVNYXJrZXIoCiAgICAgICAgICAgICAgICBbNDMuNjQwODE1NywgLTc5LjM4MTc1MjI5OTk5OTk5XSwKICAgICAgICAgICAgICAgIHsiYnViYmxpbmdNb3VzZUV2ZW50cyI6IHRydWUsICJjb2xvciI6ICJyZWQiLCAiZGFzaEFycmF5IjogbnVsbCwgImRhc2hPZmZzZXQiOiBudWxsLCAiZmlsbCI6IHRydWUsICJmaWxsQ29sb3IiOiAicmVkIiwgImZpbGxPcGFjaXR5IjogMC4yLCAiZmlsbFJ1bGUiOiAiZXZlbm9kZCIsICJsaW5lQ2FwIjogInJvdW5kIiwgImxpbmVKb2luIjogInJvdW5kIiwgIm9wYWNpdHkiOiAxLjAsICJyYWRpdXMiOiA1LCAic3Ryb2tlIjogdHJ1ZSwgIndlaWdodCI6IDN9CiAgICAgICAgICAgICkuYWRkVG8obWFwXzhiOTA3NzczYzJlNzQ2MzQ4MTRjM2ZmMmNlYzFkZjgyKTsKICAgICAgICAKICAgIAogICAgICAgIHZhciBwb3B1cF85MDNmNDA0ZDVmZDE0ZWViYTc4NTFjYTBiY2Y4ZWNmYSA9IEwucG9wdXAoeyJtYXhXaWR0aCI6ICIxMDAlIn0pOwoKICAgICAgICAKICAgICAgICAgICAgdmFyIGh0bWxfNmNjNjliNTEzOTg3NDYxNGE5MTAxMjk0Mjc1ZThmOGIgPSAkKGA8ZGl2IGlkPSJodG1sXzZjYzY5YjUxMzk4NzQ2MTRhOTEwMTI5NDI3NWU4ZjhiIiBzdHlsZT0id2lkdGg6IDEwMC4wJTsgaGVpZ2h0OiAxMDAuMCU7Ij5IYXJib3VyZnJvbnQgRWFzdCwgVW5pb24gU3RhdGlvbiwgVG9yb250byBJc2xhbmRzLCBEb3dudG93biBUb3JvbnRvPC9kaXY+YClbMF07CiAgICAgICAgICAgIHBvcHVwXzkwM2Y0MDRkNWZkMTRlZWJhNzg1MWNhMGJjZjhlY2ZhLnNldENvbnRlbnQoaHRtbF82Y2M2OWI1MTM5ODc0NjE0YTkxMDEyOTQyNzVlOGY4Yik7CiAgICAgICAgCgogICAgICAgIGNpcmNsZV9tYXJrZXJfM2EzZjQ4NjhiMDhlNGUxNjgzM2UzZDhlMDU1YzJlMGIuYmluZFBvcHVwKHBvcHVwXzkwM2Y0MDRkNWZkMTRlZWJhNzg1MWNhMGJjZjhlY2ZhKQogICAgICAgIDsKCiAgICAgICAgCiAgICAKICAgIAogICAgICAgICAgICB2YXIgY2lyY2xlX21hcmtlcl9hNDM5OWU2NTk5Yjg0OWJiOGQ0ZjYyM2RjOWU2YzA2MiA9IEwuY2lyY2xlTWFya2VyKAogICAgICAgICAgICAgICAgWzQzLjY0NzkyNjcwMDAwMDAwNiwgLTc5LjQxOTc0OTddLAogICAgICAgICAgICAgICAgeyJidWJibGluZ01vdXNlRXZlbnRzIjogdHJ1ZSwgImNvbG9yIjogInJlZCIsICJkYXNoQXJyYXkiOiBudWxsLCAiZGFzaE9mZnNldCI6IG51bGwsICJmaWxsIjogdHJ1ZSwgImZpbGxDb2xvciI6ICJyZWQiLCAiZmlsbE9wYWNpdHkiOiAwLjIsICJmaWxsUnVsZSI6ICJldmVub2RkIiwgImxpbmVDYXAiOiAicm91bmQiLCAibGluZUpvaW4iOiAicm91bmQiLCAib3BhY2l0eSI6IDEuMCwgInJhZGl1cyI6IDUsICJzdHJva2UiOiB0cnVlLCAid2VpZ2h0IjogM30KICAgICAgICAgICAgKS5hZGRUbyhtYXBfOGI5MDc3NzNjMmU3NDYzNDgxNGMzZmYyY2VjMWRmODIpOwogICAgICAgIAogICAgCiAgICAgICAgdmFyIHBvcHVwXzIzYTkwZWJkZjk3NzRjNmY5ZTM1NWIzNGRkNDFmYTI2ID0gTC5wb3B1cCh7Im1heFdpZHRoIjogIjEwMCUifSk7CgogICAgICAgIAogICAgICAgICAgICB2YXIgaHRtbF9kNDNhMjc3NmRmZmU0ZTVhYmFiZTFhMjFkY2M2YWFkZSA9ICQoYDxkaXYgaWQ9Imh0bWxfZDQzYTI3NzZkZmZlNGU1YWJhYmUxYTIxZGNjNmFhZGUiIHN0eWxlPSJ3aWR0aDogMTAwLjAlOyBoZWlnaHQ6IDEwMC4wJTsiPkxpdHRsZSBQb3J0dWdhbCwgVHJpbml0eSwgV2VzdCBUb3JvbnRvPC9kaXY+YClbMF07CiAgICAgICAgICAgIHBvcHVwXzIzYTkwZWJkZjk3NzRjNmY5ZTM1NWIzNGRkNDFmYTI2LnNldENvbnRlbnQoaHRtbF9kNDNhMjc3NmRmZmU0ZTVhYmFiZTFhMjFkY2M2YWFkZSk7CiAgICAgICAgCgogICAgICAgIGNpcmNsZV9tYXJrZXJfYTQzOTllNjU5OWI4NDliYjhkNGY2MjNkYzllNmMwNjIuYmluZFBvcHVwKHBvcHVwXzIzYTkwZWJkZjk3NzRjNmY5ZTM1NWIzNGRkNDFmYTI2KQogICAgICAgIDsKCiAgICAgICAgCiAgICAKICAgIAogICAgICAgICAgICB2YXIgY2lyY2xlX21hcmtlcl82MTg2OWRjMDJmOWE0MTA4YjA1ODE4MTQ1YTJjZTUzZiA9IEwuY2lyY2xlTWFya2VyKAogICAgICAgICAgICAgICAgWzQzLjcyNzkyOTIsIC03OS4yNjIwMjk0MDAwMDAwMl0sCiAgICAgICAgICAgICAgICB7ImJ1YmJsaW5nTW91c2VFdmVudHMiOiB0cnVlLCAiY29sb3IiOiAicmVkIiwgImRhc2hBcnJheSI6IG51bGwsICJkYXNoT2Zmc2V0IjogbnVsbCwgImZpbGwiOiB0cnVlLCAiZmlsbENvbG9yIjogInJlZCIsICJmaWxsT3BhY2l0eSI6IDAuMiwgImZpbGxSdWxlIjogImV2ZW5vZGQiLCAibGluZUNhcCI6ICJyb3VuZCIsICJsaW5lSm9pbiI6ICJyb3VuZCIsICJvcGFjaXR5IjogMS4wLCAicmFkaXVzIjogNSwgInN0cm9rZSI6IHRydWUsICJ3ZWlnaHQiOiAzfQogICAgICAgICAgICApLmFkZFRvKG1hcF84YjkwNzc3M2MyZTc0NjM0ODE0YzNmZjJjZWMxZGY4Mik7CiAgICAgICAgCiAgICAKICAgICAgICB2YXIgcG9wdXBfNTJmNzM1OTk3MTlhNDNkMzkzNWE1Njk3MjdhOWE3MWUgPSBMLnBvcHVwKHsibWF4V2lkdGgiOiAiMTAwJSJ9KTsKCiAgICAgICAgCiAgICAgICAgICAgIHZhciBodG1sXzg2OTUzMGE3NmM3ODQwOWViYjg2MTVmY2IwZWNlNzFhID0gJChgPGRpdiBpZD0iaHRtbF84Njk1MzBhNzZjNzg0MDllYmI4NjE1ZmNiMGVjZTcxYSIgc3R5bGU9IndpZHRoOiAxMDAuMCU7IGhlaWdodDogMTAwLjAlOyI+S2VubmVkeSBQYXJrLCBJb252aWV3LCBFYXN0IEJpcmNobW91bnQgUGFyaywgU2NhcmJvcm91Z2g8L2Rpdj5gKVswXTsKICAgICAgICAgICAgcG9wdXBfNTJmNzM1OTk3MTlhNDNkMzkzNWE1Njk3MjdhOWE3MWUuc2V0Q29udGVudChodG1sXzg2OTUzMGE3NmM3ODQwOWViYjg2MTVmY2IwZWNlNzFhKTsKICAgICAgICAKCiAgICAgICAgY2lyY2xlX21hcmtlcl82MTg2OWRjMDJmOWE0MTA4YjA1ODE4MTQ1YTJjZTUzZi5iaW5kUG9wdXAocG9wdXBfNTJmNzM1OTk3MTlhNDNkMzkzNWE1Njk3MjdhOWE3MWUpCiAgICAgICAgOwoKICAgICAgICAKICAgIAogICAgCiAgICAgICAgICAgIHZhciBjaXJjbGVfbWFya2VyX2ZjZWEyZjQ1MjZjNDQ3Mjk5MWY0YTM2NmI1MTIwODI4ID0gTC5jaXJjbGVNYXJrZXIoCiAgICAgICAgICAgICAgICBbNDMuNzg2OTQ3MywgLTc5LjM4NTk3NV0sCiAgICAgICAgICAgICAgICB7ImJ1YmJsaW5nTW91c2VFdmVudHMiOiB0cnVlLCAiY29sb3IiOiAicmVkIiwgImRhc2hBcnJheSI6IG51bGwsICJkYXNoT2Zmc2V0IjogbnVsbCwgImZpbGwiOiB0cnVlLCAiZmlsbENvbG9yIjogInJlZCIsICJmaWxsT3BhY2l0eSI6IDAuMiwgImZpbGxSdWxlIjogImV2ZW5vZGQiLCAibGluZUNhcCI6ICJyb3VuZCIsICJsaW5lSm9pbiI6ICJyb3VuZCIsICJvcGFjaXR5IjogMS4wLCAicmFkaXVzIjogNSwgInN0cm9rZSI6IHRydWUsICJ3ZWlnaHQiOiAzfQogICAgICAgICAgICApLmFkZFRvKG1hcF84YjkwNzc3M2MyZTc0NjM0ODE0YzNmZjJjZWMxZGY4Mik7CiAgICAgICAgCiAgICAKICAgICAgICB2YXIgcG9wdXBfMjVkMGZkYjllNWNiNDY1YzhmNDk5MzFjYWE5NmVmNTkgPSBMLnBvcHVwKHsibWF4V2lkdGgiOiAiMTAwJSJ9KTsKCiAgICAgICAgCiAgICAgICAgICAgIHZhciBodG1sXzZkNTJjODg3ZWNmMDQ2NjM4OTE0ZDJkYzIwZjY5ZDA4ID0gJChgPGRpdiBpZD0iaHRtbF82ZDUyYzg4N2VjZjA0NjYzODkxNGQyZGMyMGY2OWQwOCIgc3R5bGU9IndpZHRoOiAxMDAuMCU7IGhlaWdodDogMTAwLjAlOyI+QmF5dmlldyBWaWxsYWdlLCBOb3J0aCBZb3JrPC9kaXY+YClbMF07CiAgICAgICAgICAgIHBvcHVwXzI1ZDBmZGI5ZTVjYjQ2NWM4ZjQ5OTMxY2FhOTZlZjU5LnNldENvbnRlbnQoaHRtbF82ZDUyYzg4N2VjZjA0NjYzODkxNGQyZGMyMGY2OWQwOCk7CiAgICAgICAgCgogICAgICAgIGNpcmNsZV9tYXJrZXJfZmNlYTJmNDUyNmM0NDcyOTkxZjRhMzY2YjUxMjA4MjguYmluZFBvcHVwKHBvcHVwXzI1ZDBmZGI5ZTVjYjQ2NWM4ZjQ5OTMxY2FhOTZlZjU5KQogICAgICAgIDsKCiAgICAgICAgCiAgICAKICAgIAogICAgICAgICAgICB2YXIgY2lyY2xlX21hcmtlcl9lZmFmZDJlZGFkNTM0Y2MwYjgyYzI2ZWVjZTM4Njk2ZSA9IEwuY2lyY2xlTWFya2VyKAogICAgICAgICAgICAgICAgWzQzLjczNzQ3MzIwMDAwMDAwNCwgLTc5LjQ2NDc2MzI5OTk5OTk5XSwKICAgICAgICAgICAgICAgIHsiYnViYmxpbmdNb3VzZUV2ZW50cyI6IHRydWUsICJjb2xvciI6ICJyZWQiLCAiZGFzaEFycmF5IjogbnVsbCwgImRhc2hPZmZzZXQiOiBudWxsLCAiZmlsbCI6IHRydWUsICJmaWxsQ29sb3IiOiAicmVkIiwgImZpbGxPcGFjaXR5IjogMC4yLCAiZmlsbFJ1bGUiOiAiZXZlbm9kZCIsICJsaW5lQ2FwIjogInJvdW5kIiwgImxpbmVKb2luIjogInJvdW5kIiwgIm9wYWNpdHkiOiAxLjAsICJyYWRpdXMiOiA1LCAic3Ryb2tlIjogdHJ1ZSwgIndlaWdodCI6IDN9CiAgICAgICAgICAgICkuYWRkVG8obWFwXzhiOTA3NzczYzJlNzQ2MzQ4MTRjM2ZmMmNlYzFkZjgyKTsKICAgICAgICAKICAgIAogICAgICAgIHZhciBwb3B1cF84MGRmYTU0ZjFjN2Q0OWM5ODE4OTdmNmZhNjJiYzJkMiA9IEwucG9wdXAoeyJtYXhXaWR0aCI6ICIxMDAlIn0pOwoKICAgICAgICAKICAgICAgICAgICAgdmFyIGh0bWxfOTY1MWVmYmU0NjhjNDBjZTkxNDM2MjNjN2U4MjIyZGQgPSAkKGA8ZGl2IGlkPSJodG1sXzk2NTFlZmJlNDY4YzQwY2U5MTQzNjIzYzdlODIyMmRkIiBzdHlsZT0id2lkdGg6IDEwMC4wJTsgaGVpZ2h0OiAxMDAuMCU7Ij5Eb3duc3ZpZXcsIE5vcnRoIFlvcms8L2Rpdj5gKVswXTsKICAgICAgICAgICAgcG9wdXBfODBkZmE1NGYxYzdkNDljOTgxODk3ZjZmYTYyYmMyZDIuc2V0Q29udGVudChodG1sXzk2NTFlZmJlNDY4YzQwY2U5MTQzNjIzYzdlODIyMmRkKTsKICAgICAgICAKCiAgICAgICAgY2lyY2xlX21hcmtlcl9lZmFmZDJlZGFkNTM0Y2MwYjgyYzI2ZWVjZTM4Njk2ZS5iaW5kUG9wdXAocG9wdXBfODBkZmE1NGYxYzdkNDljOTgxODk3ZjZmYTYyYmMyZDIpCiAgICAgICAgOwoKICAgICAgICAKICAgIAogICAgCiAgICAgICAgICAgIHZhciBjaXJjbGVfbWFya2VyX2RjMjk2Mjg4YjI3ZDRkZmRiMzg4MzE3ZGQ4MGRiMGIyID0gTC5jaXJjbGVNYXJrZXIoCiAgICAgICAgICAgICAgICBbNDMuNjc5NTU3MSwgLTc5LjM1MjE4OF0sCiAgICAgICAgICAgICAgICB7ImJ1YmJsaW5nTW91c2VFdmVudHMiOiB0cnVlLCAiY29sb3IiOiAicmVkIiwgImRhc2hBcnJheSI6IG51bGwsICJkYXNoT2Zmc2V0IjogbnVsbCwgImZpbGwiOiB0cnVlLCAiZmlsbENvbG9yIjogInJlZCIsICJmaWxsT3BhY2l0eSI6IDAuMiwgImZpbGxSdWxlIjogImV2ZW5vZGQiLCAibGluZUNhcCI6ICJyb3VuZCIsICJsaW5lSm9pbiI6ICJyb3VuZCIsICJvcGFjaXR5IjogMS4wLCAicmFkaXVzIjogNSwgInN0cm9rZSI6IHRydWUsICJ3ZWlnaHQiOiAzfQogICAgICAgICAgICApLmFkZFRvKG1hcF84YjkwNzc3M2MyZTc0NjM0ODE0YzNmZjJjZWMxZGY4Mik7CiAgICAgICAgCiAgICAKICAgICAgICB2YXIgcG9wdXBfZTdiYzRiZDgyMTRkNGZkZjhlYzYwMDMxMjcyMTAwNWUgPSBMLnBvcHVwKHsibWF4V2lkdGgiOiAiMTAwJSJ9KTsKCiAgICAgICAgCiAgICAgICAgICAgIHZhciBodG1sXzcwNzA0MmYzODNiZjQwZDc4MDU1ZTZmMWViYjE4MzM5ID0gJChgPGRpdiBpZD0iaHRtbF83MDcwNDJmMzgzYmY0MGQ3ODA1NWU2ZjFlYmIxODMzOSIgc3R5bGU9IndpZHRoOiAxMDAuMCU7IGhlaWdodDogMTAwLjAlOyI+VGhlIERhbmZvcnRoIFdlc3QsIFJpdmVyZGFsZSwgRWFzdCBUb3JvbnRvPC9kaXY+YClbMF07CiAgICAgICAgICAgIHBvcHVwX2U3YmM0YmQ4MjE0ZDRmZGY4ZWM2MDAzMTI3MjEwMDVlLnNldENvbnRlbnQoaHRtbF83MDcwNDJmMzgzYmY0MGQ3ODA1NWU2ZjFlYmIxODMzOSk7CiAgICAgICAgCgogICAgICAgIGNpcmNsZV9tYXJrZXJfZGMyOTYyODhiMjdkNGRmZGIzODgzMTdkZDgwZGIwYjIuYmluZFBvcHVwKHBvcHVwX2U3YmM0YmQ4MjE0ZDRmZGY4ZWM2MDAzMTI3MjEwMDVlKQogICAgICAgIDsKCiAgICAgICAgCiAgICAKICAgIAogICAgICAgICAgICB2YXIgY2lyY2xlX21hcmtlcl9mYzM3M2IwYTY4ZjY0YTczOTllMTA3ZTNmMmI1MGQxMyA9IEwuY2lyY2xlTWFya2VyKAogICAgICAgICAgICAgICAgWzQzLjY0NzE3NjgsIC03OS4zODE1NzY0MDAwMDAwMV0sCiAgICAgICAgICAgICAgICB7ImJ1YmJsaW5nTW91c2VFdmVudHMiOiB0cnVlLCAiY29sb3IiOiAicmVkIiwgImRhc2hBcnJheSI6IG51bGwsICJkYXNoT2Zmc2V0IjogbnVsbCwgImZpbGwiOiB0cnVlLCAiZmlsbENvbG9yIjogInJlZCIsICJmaWxsT3BhY2l0eSI6IDAuMiwgImZpbGxSdWxlIjogImV2ZW5vZGQiLCAibGluZUNhcCI6ICJyb3VuZCIsICJsaW5lSm9pbiI6ICJyb3VuZCIsICJvcGFjaXR5IjogMS4wLCAicmFkaXVzIjogNSwgInN0cm9rZSI6IHRydWUsICJ3ZWlnaHQiOiAzfQogICAgICAgICAgICApLmFkZFRvKG1hcF84YjkwNzc3M2MyZTc0NjM0ODE0YzNmZjJjZWMxZGY4Mik7CiAgICAgICAgCiAgICAKICAgICAgICB2YXIgcG9wdXBfNTcwNDhjNGFkZTBkNGU3M2I5MmM1NGIxNDMyZDc2ZTggPSBMLnBvcHVwKHsibWF4V2lkdGgiOiAiMTAwJSJ9KTsKCiAgICAgICAgCiAgICAgICAgICAgIHZhciBodG1sX2YwZmM2NzkyNTJkODQ4MDViMmZjMDBiNjZhYjYzMGUzID0gJChgPGRpdiBpZD0iaHRtbF9mMGZjNjc5MjUyZDg0ODA1YjJmYzAwYjY2YWI2MzBlMyIgc3R5bGU9IndpZHRoOiAxMDAuMCU7IGhlaWdodDogMTAwLjAlOyI+VG9yb250byBEb21pbmlvbiBDZW50cmUsIERlc2lnbiBFeGNoYW5nZSwgRG93bnRvd24gVG9yb250bzwvZGl2PmApWzBdOwogICAgICAgICAgICBwb3B1cF81NzA0OGM0YWRlMGQ0ZTczYjkyYzU0YjE0MzJkNzZlOC5zZXRDb250ZW50KGh0bWxfZjBmYzY3OTI1MmQ4NDgwNWIyZmMwMGI2NmFiNjMwZTMpOwogICAgICAgIAoKICAgICAgICBjaXJjbGVfbWFya2VyX2ZjMzczYjBhNjhmNjRhNzM5OWUxMDdlM2YyYjUwZDEzLmJpbmRQb3B1cChwb3B1cF81NzA0OGM0YWRlMGQ0ZTczYjkyYzU0YjE0MzJkNzZlOCkKICAgICAgICA7CgogICAgICAgIAogICAgCiAgICAKICAgICAgICAgICAgdmFyIGNpcmNsZV9tYXJrZXJfYzUyN2JkNWIxNmE2NGFkZWIzMWM5MjMzNjZhYjM4NDUgPSBMLmNpcmNsZU1hcmtlcigKICAgICAgICAgICAgICAgIFs0My42MzY4NDcyLCAtNzkuNDI4MTkxNDAwMDAwMDJdLAogICAgICAgICAgICAgICAgeyJidWJibGluZ01vdXNlRXZlbnRzIjogdHJ1ZSwgImNvbG9yIjogInJlZCIsICJkYXNoQXJyYXkiOiBudWxsLCAiZGFzaE9mZnNldCI6IG51bGwsICJmaWxsIjogdHJ1ZSwgImZpbGxDb2xvciI6ICJyZWQiLCAiZmlsbE9wYWNpdHkiOiAwLjIsICJmaWxsUnVsZSI6ICJldmVub2RkIiwgImxpbmVDYXAiOiAicm91bmQiLCAibGluZUpvaW4iOiAicm91bmQiLCAib3BhY2l0eSI6IDEuMCwgInJhZGl1cyI6IDUsICJzdHJva2UiOiB0cnVlLCAid2VpZ2h0IjogM30KICAgICAgICAgICAgKS5hZGRUbyhtYXBfOGI5MDc3NzNjMmU3NDYzNDgxNGMzZmYyY2VjMWRmODIpOwogICAgICAgIAogICAgCiAgICAgICAgdmFyIHBvcHVwXzRiMGQwZTU3NWZjMDRmNzZhNDA5YjQ1MmNiNzMyOGU3ID0gTC5wb3B1cCh7Im1heFdpZHRoIjogIjEwMCUifSk7CgogICAgICAgIAogICAgICAgICAgICB2YXIgaHRtbF8yMWRmZmVjMDhmNjc0MmFlYWJlZTk5NTUxYTUxMTAwYiA9ICQoYDxkaXYgaWQ9Imh0bWxfMjFkZmZlYzA4ZjY3NDJhZWFiZWU5OTU1MWE1MTEwMGIiIHN0eWxlPSJ3aWR0aDogMTAwLjAlOyBoZWlnaHQ6IDEwMC4wJTsiPkJyb2NrdG9uLCBQYXJrZGFsZSBWaWxsYWdlLCBFeGhpYml0aW9uIFBsYWNlLCBXZXN0IFRvcm9udG88L2Rpdj5gKVswXTsKICAgICAgICAgICAgcG9wdXBfNGIwZDBlNTc1ZmMwNGY3NmE0MDliNDUyY2I3MzI4ZTcuc2V0Q29udGVudChodG1sXzIxZGZmZWMwOGY2NzQyYWVhYmVlOTk1NTFhNTExMDBiKTsKICAgICAgICAKCiAgICAgICAgY2lyY2xlX21hcmtlcl9jNTI3YmQ1YjE2YTY0YWRlYjMxYzkyMzM2NmFiMzg0NS5iaW5kUG9wdXAocG9wdXBfNGIwZDBlNTc1ZmMwNGY3NmE0MDliNDUyY2I3MzI4ZTcpCiAgICAgICAgOwoKICAgICAgICAKICAgIAogICAgCiAgICAgICAgICAgIHZhciBjaXJjbGVfbWFya2VyXzQ1Y2U4NGI2YzMxMjQ4NzdhMjFlOWZmMTEyYzI3NjgwID0gTC5jaXJjbGVNYXJrZXIoCiAgICAgICAgICAgICAgICBbNDMuNzExMTExNzAwMDAwMDA0LCAtNzkuMjg0NTc3Ml0sCiAgICAgICAgICAgICAgICB7ImJ1YmJsaW5nTW91c2VFdmVudHMiOiB0cnVlLCAiY29sb3IiOiAicmVkIiwgImRhc2hBcnJheSI6IG51bGwsICJkYXNoT2Zmc2V0IjogbnVsbCwgImZpbGwiOiB0cnVlLCAiZmlsbENvbG9yIjogInJlZCIsICJmaWxsT3BhY2l0eSI6IDAuMiwgImZpbGxSdWxlIjogImV2ZW5vZGQiLCAibGluZUNhcCI6ICJyb3VuZCIsICJsaW5lSm9pbiI6ICJyb3VuZCIsICJvcGFjaXR5IjogMS4wLCAicmFkaXVzIjogNSwgInN0cm9rZSI6IHRydWUsICJ3ZWlnaHQiOiAzfQogICAgICAgICAgICApLmFkZFRvKG1hcF84YjkwNzc3M2MyZTc0NjM0ODE0YzNmZjJjZWMxZGY4Mik7CiAgICAgICAgCiAgICAKICAgICAgICB2YXIgcG9wdXBfYWU5ZGZhZDFjZDFmNGU1NWJkMzBjOThlMGZlNTEwNzEgPSBMLnBvcHVwKHsibWF4V2lkdGgiOiAiMTAwJSJ9KTsKCiAgICAgICAgCiAgICAgICAgICAgIHZhciBodG1sXzEwZWQxNzM2ZjYxZjQ3N2Q4YTJlYmUzNjJmZGVkZjgzID0gJChgPGRpdiBpZD0iaHRtbF8xMGVkMTczNmY2MWY0NzdkOGEyZWJlMzYyZmRlZGY4MyIgc3R5bGU9IndpZHRoOiAxMDAuMCU7IGhlaWdodDogMTAwLjAlOyI+R29sZGVuIE1pbGUsIENsYWlybGVhLCBPYWtyaWRnZSwgU2NhcmJvcm91Z2g8L2Rpdj5gKVswXTsKICAgICAgICAgICAgcG9wdXBfYWU5ZGZhZDFjZDFmNGU1NWJkMzBjOThlMGZlNTEwNzEuc2V0Q29udGVudChodG1sXzEwZWQxNzM2ZjYxZjQ3N2Q4YTJlYmUzNjJmZGVkZjgzKTsKICAgICAgICAKCiAgICAgICAgY2lyY2xlX21hcmtlcl80NWNlODRiNmMzMTI0ODc3YTIxZTlmZjExMmMyNzY4MC5iaW5kUG9wdXAocG9wdXBfYWU5ZGZhZDFjZDFmNGU1NWJkMzBjOThlMGZlNTEwNzEpCiAgICAgICAgOwoKICAgICAgICAKICAgIAogICAgCiAgICAgICAgICAgIHZhciBjaXJjbGVfbWFya2VyX2UwMzE4OTQwM2U2NTQwNGQ4MzEzODUzMzRkMzg5NDhiID0gTC5jaXJjbGVNYXJrZXIoCiAgICAgICAgICAgICAgICBbNDMuNzU3NDkwMiwgLTc5LjM3NDcxNDA5OTk5OTk5XSwKICAgICAgICAgICAgICAgIHsiYnViYmxpbmdNb3VzZUV2ZW50cyI6IHRydWUsICJjb2xvciI6ICJyZWQiLCAiZGFzaEFycmF5IjogbnVsbCwgImRhc2hPZmZzZXQiOiBudWxsLCAiZmlsbCI6IHRydWUsICJmaWxsQ29sb3IiOiAicmVkIiwgImZpbGxPcGFjaXR5IjogMC4yLCAiZmlsbFJ1bGUiOiAiZXZlbm9kZCIsICJsaW5lQ2FwIjogInJvdW5kIiwgImxpbmVKb2luIjogInJvdW5kIiwgIm9wYWNpdHkiOiAxLjAsICJyYWRpdXMiOiA1LCAic3Ryb2tlIjogdHJ1ZSwgIndlaWdodCI6IDN9CiAgICAgICAgICAgICkuYWRkVG8obWFwXzhiOTA3NzczYzJlNzQ2MzQ4MTRjM2ZmMmNlYzFkZjgyKTsKICAgICAgICAKICAgIAogICAgICAgIHZhciBwb3B1cF9lMTFmYWE1OWVhNTE0NTI1ODQ3YjFhZmRiZGNmNzc2MCA9IEwucG9wdXAoeyJtYXhXaWR0aCI6ICIxMDAlIn0pOwoKICAgICAgICAKICAgICAgICAgICAgdmFyIGh0bWxfYzhjNWFiZDNkNzFiNDE0MTgwZjk4NzdkZGYyNWI1NDIgPSAkKGA8ZGl2IGlkPSJodG1sX2M4YzVhYmQzZDcxYjQxNDE4MGY5ODc3ZGRmMjViNTQyIiBzdHlsZT0id2lkdGg6IDEwMC4wJTsgaGVpZ2h0OiAxMDAuMCU7Ij5Zb3JrIE1pbGxzLCBTaWx2ZXIgSGlsbHMsIE5vcnRoIFlvcms8L2Rpdj5gKVswXTsKICAgICAgICAgICAgcG9wdXBfZTExZmFhNTllYTUxNDUyNTg0N2IxYWZkYmRjZjc3NjAuc2V0Q29udGVudChodG1sX2M4YzVhYmQzZDcxYjQxNDE4MGY5ODc3ZGRmMjViNTQyKTsKICAgICAgICAKCiAgICAgICAgY2lyY2xlX21hcmtlcl9lMDMxODk0MDNlNjU0MDRkODMxMzg1MzM0ZDM4OTQ4Yi5iaW5kUG9wdXAocG9wdXBfZTExZmFhNTllYTUxNDUyNTg0N2IxYWZkYmRjZjc3NjApCiAgICAgICAgOwoKICAgICAgICAKICAgIAogICAgCiAgICAgICAgICAgIHZhciBjaXJjbGVfbWFya2VyX2YzNjA2M2Y2NzcyZDRmNjg4ZDMxYjY5NmNjODUyODkxID0gTC5jaXJjbGVNYXJrZXIoCiAgICAgICAgICAgICAgICBbNDMuNzM5MDE0NiwgLTc5LjUwNjk0MzZdLAogICAgICAgICAgICAgICAgeyJidWJibGluZ01vdXNlRXZlbnRzIjogdHJ1ZSwgImNvbG9yIjogInJlZCIsICJkYXNoQXJyYXkiOiBudWxsLCAiZGFzaE9mZnNldCI6IG51bGwsICJmaWxsIjogdHJ1ZSwgImZpbGxDb2xvciI6ICJyZWQiLCAiZmlsbE9wYWNpdHkiOiAwLjIsICJmaWxsUnVsZSI6ICJldmVub2RkIiwgImxpbmVDYXAiOiAicm91bmQiLCAibGluZUpvaW4iOiAicm91bmQiLCAib3BhY2l0eSI6IDEuMCwgInJhZGl1cyI6IDUsICJzdHJva2UiOiB0cnVlLCAid2VpZ2h0IjogM30KICAgICAgICAgICAgKS5hZGRUbyhtYXBfOGI5MDc3NzNjMmU3NDYzNDgxNGMzZmYyY2VjMWRmODIpOwogICAgICAgIAogICAgCiAgICAgICAgdmFyIHBvcHVwXzYxMzllMjUxN2ZmZDQzY2I5N2Y2Y2ZmYTk3ZGNlZDlmID0gTC5wb3B1cCh7Im1heFdpZHRoIjogIjEwMCUifSk7CgogICAgICAgIAogICAgICAgICAgICB2YXIgaHRtbF9mZThlZGM4ZTBkMWY0NDVlOTE4NDBjODFlMjY1ZDlkOCA9ICQoYDxkaXYgaWQ9Imh0bWxfZmU4ZWRjOGUwZDFmNDQ1ZTkxODQwYzgxZTI2NWQ5ZDgiIHN0eWxlPSJ3aWR0aDogMTAwLjAlOyBoZWlnaHQ6IDEwMC4wJTsiPkRvd25zdmlldywgTm9ydGggWW9yazwvZGl2PmApWzBdOwogICAgICAgICAgICBwb3B1cF82MTM5ZTI1MTdmZmQ0M2NiOTdmNmNmZmE5N2RjZWQ5Zi5zZXRDb250ZW50KGh0bWxfZmU4ZWRjOGUwZDFmNDQ1ZTkxODQwYzgxZTI2NWQ5ZDgpOwogICAgICAgIAoKICAgICAgICBjaXJjbGVfbWFya2VyX2YzNjA2M2Y2NzcyZDRmNjg4ZDMxYjY5NmNjODUyODkxLmJpbmRQb3B1cChwb3B1cF82MTM5ZTI1MTdmZmQ0M2NiOTdmNmNmZmE5N2RjZWQ5ZikKICAgICAgICA7CgogICAgICAgIAogICAgCiAgICAKICAgICAgICAgICAgdmFyIGNpcmNsZV9tYXJrZXJfMjZjNzFiZDZkOWJmNGJjNWI4ODk1MWU5NTFhMTI0NzkgPSBMLmNpcmNsZU1hcmtlcigKICAgICAgICAgICAgICAgIFs0My42Njg5OTg1LCAtNzkuMzE1NTcxNTk5OTk5OThdLAogICAgICAgICAgICAgICAgeyJidWJibGluZ01vdXNlRXZlbnRzIjogdHJ1ZSwgImNvbG9yIjogInJlZCIsICJkYXNoQXJyYXkiOiBudWxsLCAiZGFzaE9mZnNldCI6IG51bGwsICJmaWxsIjogdHJ1ZSwgImZpbGxDb2xvciI6ICJyZWQiLCAiZmlsbE9wYWNpdHkiOiAwLjIsICJmaWxsUnVsZSI6ICJldmVub2RkIiwgImxpbmVDYXAiOiAicm91bmQiLCAibGluZUpvaW4iOiAicm91bmQiLCAib3BhY2l0eSI6IDEuMCwgInJhZGl1cyI6IDUsICJzdHJva2UiOiB0cnVlLCAid2VpZ2h0IjogM30KICAgICAgICAgICAgKS5hZGRUbyhtYXBfOGI5MDc3NzNjMmU3NDYzNDgxNGMzZmYyY2VjMWRmODIpOwogICAgICAgIAogICAgCiAgICAgICAgdmFyIHBvcHVwX2ZhMjk2MjY2MTA2NDRkZjNiOTRiNjIwMjY4NDc5YjFlID0gTC5wb3B1cCh7Im1heFdpZHRoIjogIjEwMCUifSk7CgogICAgICAgIAogICAgICAgICAgICB2YXIgaHRtbF9iNTc5YzdlMGU2Y2U0YjBjOTU5MzkyNjMwMDVhY2YyZCA9ICQoYDxkaXYgaWQ9Imh0bWxfYjU3OWM3ZTBlNmNlNGIwYzk1OTM5MjYzMDA1YWNmMmQiIHN0eWxlPSJ3aWR0aDogMTAwLjAlOyBoZWlnaHQ6IDEwMC4wJTsiPkluZGlhIEJhemFhciwgVGhlIEJlYWNoZXMgV2VzdCwgRWFzdCBUb3JvbnRvPC9kaXY+YClbMF07CiAgICAgICAgICAgIHBvcHVwX2ZhMjk2MjY2MTA2NDRkZjNiOTRiNjIwMjY4NDc5YjFlLnNldENvbnRlbnQoaHRtbF9iNTc5YzdlMGU2Y2U0YjBjOTU5MzkyNjMwMDVhY2YyZCk7CiAgICAgICAgCgogICAgICAgIGNpcmNsZV9tYXJrZXJfMjZjNzFiZDZkOWJmNGJjNWI4ODk1MWU5NTFhMTI0NzkuYmluZFBvcHVwKHBvcHVwX2ZhMjk2MjY2MTA2NDRkZjNiOTRiNjIwMjY4NDc5YjFlKQogICAgICAgIDsKCiAgICAgICAgCiAgICAKICAgIAogICAgICAgICAgICB2YXIgY2lyY2xlX21hcmtlcl81NDE4MmU2Y2IyYTE0MWNkOGQwZDExNDAzYzY2ODE5MCA9IEwuY2lyY2xlTWFya2VyKAogICAgICAgICAgICAgICAgWzQzLjY0ODE5ODUsIC03OS4zNzk4MTY5MDAwMDAwMV0sCiAgICAgICAgICAgICAgICB7ImJ1YmJsaW5nTW91c2VFdmVudHMiOiB0cnVlLCAiY29sb3IiOiAicmVkIiwgImRhc2hBcnJheSI6IG51bGwsICJkYXNoT2Zmc2V0IjogbnVsbCwgImZpbGwiOiB0cnVlLCAiZmlsbENvbG9yIjogInJlZCIsICJmaWxsT3BhY2l0eSI6IDAuMiwgImZpbGxSdWxlIjogImV2ZW5vZGQiLCAibGluZUNhcCI6ICJyb3VuZCIsICJsaW5lSm9pbiI6ICJyb3VuZCIsICJvcGFjaXR5IjogMS4wLCAicmFkaXVzIjogNSwgInN0cm9rZSI6IHRydWUsICJ3ZWlnaHQiOiAzfQogICAgICAgICAgICApLmFkZFRvKG1hcF84YjkwNzc3M2MyZTc0NjM0ODE0YzNmZjJjZWMxZGY4Mik7CiAgICAgICAgCiAgICAKICAgICAgICB2YXIgcG9wdXBfZWVkMzJmZWY1N2Y5NGUxMGFkYTBjZDg0MmRhZTQyMTEgPSBMLnBvcHVwKHsibWF4V2lkdGgiOiAiMTAwJSJ9KTsKCiAgICAgICAgCiAgICAgICAgICAgIHZhciBodG1sX2U3NWFmYzk4ZTc5ZDRlNWJhY2Y0ODY2NTBjZjUzMzY4ID0gJChgPGRpdiBpZD0iaHRtbF9lNzVhZmM5OGU3OWQ0ZTViYWNmNDg2NjUwY2Y1MzM2OCIgc3R5bGU9IndpZHRoOiAxMDAuMCU7IGhlaWdodDogMTAwLjAlOyI+Q29tbWVyY2UgQ291cnQsIFZpY3RvcmlhIEhvdGVsLCBEb3dudG93biBUb3JvbnRvPC9kaXY+YClbMF07CiAgICAgICAgICAgIHBvcHVwX2VlZDMyZmVmNTdmOTRlMTBhZGEwY2Q4NDJkYWU0MjExLnNldENvbnRlbnQoaHRtbF9lNzVhZmM5OGU3OWQ0ZTViYWNmNDg2NjUwY2Y1MzM2OCk7CiAgICAgICAgCgogICAgICAgIGNpcmNsZV9tYXJrZXJfNTQxODJlNmNiMmExNDFjZDhkMGQxMTQwM2M2NjgxOTAuYmluZFBvcHVwKHBvcHVwX2VlZDMyZmVmNTdmOTRlMTBhZGEwY2Q4NDJkYWU0MjExKQogICAgICAgIDsKCiAgICAgICAgCiAgICAKICAgIAogICAgICAgICAgICB2YXIgY2lyY2xlX21hcmtlcl8zZTZjM2VhOTY4NmE0MDAxYWQ0OGFkN2E1OGRkZDgxMCA9IEwuY2lyY2xlTWFya2VyKAogICAgICAgICAgICAgICAgWzQzLjcxMzc1NjIwMDAwMDAwNiwgLTc5LjQ5MDA3MzhdLAogICAgICAgICAgICAgICAgeyJidWJibGluZ01vdXNlRXZlbnRzIjogdHJ1ZSwgImNvbG9yIjogInJlZCIsICJkYXNoQXJyYXkiOiBudWxsLCAiZGFzaE9mZnNldCI6IG51bGwsICJmaWxsIjogdHJ1ZSwgImZpbGxDb2xvciI6ICJyZWQiLCAiZmlsbE9wYWNpdHkiOiAwLjIsICJmaWxsUnVsZSI6ICJldmVub2RkIiwgImxpbmVDYXAiOiAicm91bmQiLCAibGluZUpvaW4iOiAicm91bmQiLCAib3BhY2l0eSI6IDEuMCwgInJhZGl1cyI6IDUsICJzdHJva2UiOiB0cnVlLCAid2VpZ2h0IjogM30KICAgICAgICAgICAgKS5hZGRUbyhtYXBfOGI5MDc3NzNjMmU3NDYzNDgxNGMzZmYyY2VjMWRmODIpOwogICAgICAgIAogICAgCiAgICAgICAgdmFyIHBvcHVwX2QxNzBhZGQzNDhhYTQwYTFiNmU2MWUyOGZhZDBmNDE2ID0gTC5wb3B1cCh7Im1heFdpZHRoIjogIjEwMCUifSk7CgogICAgICAgIAogICAgICAgICAgICB2YXIgaHRtbF9hNDhhYzkyNDdjYWQ0NTIzYWNjYjdhNGM5MzRhYjhlMCA9ICQoYDxkaXYgaWQ9Imh0bWxfYTQ4YWM5MjQ3Y2FkNDUyM2FjY2I3YTRjOTM0YWI4ZTAiIHN0eWxlPSJ3aWR0aDogMTAwLjAlOyBoZWlnaHQ6IDEwMC4wJTsiPk5vcnRoIFBhcmssIE1hcGxlIExlYWYgUGFyaywgVXB3b29kIFBhcmssIE5vcnRoIFlvcms8L2Rpdj5gKVswXTsKICAgICAgICAgICAgcG9wdXBfZDE3MGFkZDM0OGFhNDBhMWI2ZTYxZTI4ZmFkMGY0MTYuc2V0Q29udGVudChodG1sX2E0OGFjOTI0N2NhZDQ1MjNhY2NiN2E0YzkzNGFiOGUwKTsKICAgICAgICAKCiAgICAgICAgY2lyY2xlX21hcmtlcl8zZTZjM2VhOTY4NmE0MDAxYWQ0OGFkN2E1OGRkZDgxMC5iaW5kUG9wdXAocG9wdXBfZDE3MGFkZDM0OGFhNDBhMWI2ZTYxZTI4ZmFkMGY0MTYpCiAgICAgICAgOwoKICAgICAgICAKICAgIAogICAgCiAgICAgICAgICAgIHZhciBjaXJjbGVfbWFya2VyXzk5MDA2ZDIwMzJmMzQ3YzdhZDRkOGIxZDAzZGNmMTk3ID0gTC5jaXJjbGVNYXJrZXIoCiAgICAgICAgICAgICAgICBbNDMuNzU2MzAzMywgLTc5LjU2NTk2MzI5OTk5OTk5XSwKICAgICAgICAgICAgICAgIHsiYnViYmxpbmdNb3VzZUV2ZW50cyI6IHRydWUsICJjb2xvciI6ICJyZWQiLCAiZGFzaEFycmF5IjogbnVsbCwgImRhc2hPZmZzZXQiOiBudWxsLCAiZmlsbCI6IHRydWUsICJmaWxsQ29sb3IiOiAicmVkIiwgImZpbGxPcGFjaXR5IjogMC4yLCAiZmlsbFJ1bGUiOiAiZXZlbm9kZCIsICJsaW5lQ2FwIjogInJvdW5kIiwgImxpbmVKb2luIjogInJvdW5kIiwgIm9wYWNpdHkiOiAxLjAsICJyYWRpdXMiOiA1LCAic3Ryb2tlIjogdHJ1ZSwgIndlaWdodCI6IDN9CiAgICAgICAgICAgICkuYWRkVG8obWFwXzhiOTA3NzczYzJlNzQ2MzQ4MTRjM2ZmMmNlYzFkZjgyKTsKICAgICAgICAKICAgIAogICAgICAgIHZhciBwb3B1cF9iNTNiZTBiMjgxODM0YTgxYTNjNDYyOTZlMTNjMTM3OSA9IEwucG9wdXAoeyJtYXhXaWR0aCI6ICIxMDAlIn0pOwoKICAgICAgICAKICAgICAgICAgICAgdmFyIGh0bWxfM2E4ZjlkNjdjOTA4NGViOGE1YWFlZWIwYmU0YWZkNWIgPSAkKGA8ZGl2IGlkPSJodG1sXzNhOGY5ZDY3YzkwODRlYjhhNWFhZWViMGJlNGFmZDViIiBzdHlsZT0id2lkdGg6IDEwMC4wJTsgaGVpZ2h0OiAxMDAuMCU7Ij5IdW1iZXIgU3VtbWl0LCBOb3J0aCBZb3JrPC9kaXY+YClbMF07CiAgICAgICAgICAgIHBvcHVwX2I1M2JlMGIyODE4MzRhODFhM2M0NjI5NmUxM2MxMzc5LnNldENvbnRlbnQoaHRtbF8zYThmOWQ2N2M5MDg0ZWI4YTVhYWVlYjBiZTRhZmQ1Yik7CiAgICAgICAgCgogICAgICAgIGNpcmNsZV9tYXJrZXJfOTkwMDZkMjAzMmYzNDdjN2FkNGQ4YjFkMDNkY2YxOTcuYmluZFBvcHVwKHBvcHVwX2I1M2JlMGIyODE4MzRhODFhM2M0NjI5NmUxM2MxMzc5KQogICAgICAgIDsKCiAgICAgICAgCiAgICAKICAgIAogICAgICAgICAgICB2YXIgY2lyY2xlX21hcmtlcl84OTA1NzE4NjgyNTE0MDMzOTU1NDlmMzg3MTUwMGQ2MyA9IEwuY2lyY2xlTWFya2VyKAogICAgICAgICAgICAgICAgWzQzLjcxNjMxNiwgLTc5LjIzOTQ3NjA5OTk5OTk5XSwKICAgICAgICAgICAgICAgIHsiYnViYmxpbmdNb3VzZUV2ZW50cyI6IHRydWUsICJjb2xvciI6ICJyZWQiLCAiZGFzaEFycmF5IjogbnVsbCwgImRhc2hPZmZzZXQiOiBudWxsLCAiZmlsbCI6IHRydWUsICJmaWxsQ29sb3IiOiAicmVkIiwgImZpbGxPcGFjaXR5IjogMC4yLCAiZmlsbFJ1bGUiOiAiZXZlbm9kZCIsICJsaW5lQ2FwIjogInJvdW5kIiwgImxpbmVKb2luIjogInJvdW5kIiwgIm9wYWNpdHkiOiAxLjAsICJyYWRpdXMiOiA1LCAic3Ryb2tlIjogdHJ1ZSwgIndlaWdodCI6IDN9CiAgICAgICAgICAgICkuYWRkVG8obWFwXzhiOTA3NzczYzJlNzQ2MzQ4MTRjM2ZmMmNlYzFkZjgyKTsKICAgICAgICAKICAgIAogICAgICAgIHZhciBwb3B1cF8yODI2ZTc2MjExYTM0NjlmYmQwYmMzN2NiNDVjYTI1ZSA9IEwucG9wdXAoeyJtYXhXaWR0aCI6ICIxMDAlIn0pOwoKICAgICAgICAKICAgICAgICAgICAgdmFyIGh0bWxfNjNlYWYxNDU3YTQxNGMyYjk5OWI4ZjYwNGQxZjZhYzEgPSAkKGA8ZGl2IGlkPSJodG1sXzYzZWFmMTQ1N2E0MTRjMmI5OTliOGY2MDRkMWY2YWMxIiBzdHlsZT0id2lkdGg6IDEwMC4wJTsgaGVpZ2h0OiAxMDAuMCU7Ij5DbGlmZnNpZGUsIENsaWZmY3Jlc3QsIFNjYXJib3JvdWdoIFZpbGxhZ2UgV2VzdCwgU2NhcmJvcm91Z2g8L2Rpdj5gKVswXTsKICAgICAgICAgICAgcG9wdXBfMjgyNmU3NjIxMWEzNDY5ZmJkMGJjMzdjYjQ1Y2EyNWUuc2V0Q29udGVudChodG1sXzYzZWFmMTQ1N2E0MTRjMmI5OTliOGY2MDRkMWY2YWMxKTsKICAgICAgICAKCiAgICAgICAgY2lyY2xlX21hcmtlcl84OTA1NzE4NjgyNTE0MDMzOTU1NDlmMzg3MTUwMGQ2My5iaW5kUG9wdXAocG9wdXBfMjgyNmU3NjIxMWEzNDY5ZmJkMGJjMzdjYjQ1Y2EyNWUpCiAgICAgICAgOwoKICAgICAgICAKICAgIAogICAgCiAgICAgICAgICAgIHZhciBjaXJjbGVfbWFya2VyX2Y2OThkNDk1NDU5ZTQxYzQ4NWMxYjYzNmE2OTM1NDM4ID0gTC5jaXJjbGVNYXJrZXIoCiAgICAgICAgICAgICAgICBbNDMuNzg5MDUzLCAtNzkuNDA4NDkyNzk5OTk5OTldLAogICAgICAgICAgICAgICAgeyJidWJibGluZ01vdXNlRXZlbnRzIjogdHJ1ZSwgImNvbG9yIjogInJlZCIsICJkYXNoQXJyYXkiOiBudWxsLCAiZGFzaE9mZnNldCI6IG51bGwsICJmaWxsIjogdHJ1ZSwgImZpbGxDb2xvciI6ICJyZWQiLCAiZmlsbE9wYWNpdHkiOiAwLjIsICJmaWxsUnVsZSI6ICJldmVub2RkIiwgImxpbmVDYXAiOiAicm91bmQiLCAibGluZUpvaW4iOiAicm91bmQiLCAib3BhY2l0eSI6IDEuMCwgInJhZGl1cyI6IDUsICJzdHJva2UiOiB0cnVlLCAid2VpZ2h0IjogM30KICAgICAgICAgICAgKS5hZGRUbyhtYXBfOGI5MDc3NzNjMmU3NDYzNDgxNGMzZmYyY2VjMWRmODIpOwogICAgICAgIAogICAgCiAgICAgICAgdmFyIHBvcHVwXzg3ZGNiOWEyMTVhYzRlYjlhNjI3MTJlM2E4Yzk1MWViID0gTC5wb3B1cCh7Im1heFdpZHRoIjogIjEwMCUifSk7CgogICAgICAgIAogICAgICAgICAgICB2YXIgaHRtbF9mNTZlOTBkOWQwODU0MjM5OWUxZTU1NmZlNjA4OWNlZiA9ICQoYDxkaXYgaWQ9Imh0bWxfZjU2ZTkwZDlkMDg1NDIzOTllMWU1NTZmZTYwODljZWYiIHN0eWxlPSJ3aWR0aDogMTAwLjAlOyBoZWlnaHQ6IDEwMC4wJTsiPldpbGxvd2RhbGUsIE5ld3RvbmJyb29rLCBOb3J0aCBZb3JrPC9kaXY+YClbMF07CiAgICAgICAgICAgIHBvcHVwXzg3ZGNiOWEyMTVhYzRlYjlhNjI3MTJlM2E4Yzk1MWViLnNldENvbnRlbnQoaHRtbF9mNTZlOTBkOWQwODU0MjM5OWUxZTU1NmZlNjA4OWNlZik7CiAgICAgICAgCgogICAgICAgIGNpcmNsZV9tYXJrZXJfZjY5OGQ0OTU0NTllNDFjNDg1YzFiNjM2YTY5MzU0MzguYmluZFBvcHVwKHBvcHVwXzg3ZGNiOWEyMTVhYzRlYjlhNjI3MTJlM2E4Yzk1MWViKQogICAgICAgIDsKCiAgICAgICAgCiAgICAKICAgIAogICAgICAgICAgICB2YXIgY2lyY2xlX21hcmtlcl9hY2U3ZGFlYWQ3Y2E0ZTBiYjJjZmQ4Y2MzYmI0NjUxNCA9IEwuY2lyY2xlTWFya2VyKAogICAgICAgICAgICAgICAgWzQzLjcyODQ5NjQsIC03OS40OTU2OTc0MDAwMDAwMV0sCiAgICAgICAgICAgICAgICB7ImJ1YmJsaW5nTW91c2VFdmVudHMiOiB0cnVlLCAiY29sb3IiOiAicmVkIiwgImRhc2hBcnJheSI6IG51bGwsICJkYXNoT2Zmc2V0IjogbnVsbCwgImZpbGwiOiB0cnVlLCAiZmlsbENvbG9yIjogInJlZCIsICJmaWxsT3BhY2l0eSI6IDAuMiwgImZpbGxSdWxlIjogImV2ZW5vZGQiLCAibGluZUNhcCI6ICJyb3VuZCIsICJsaW5lSm9pbiI6ICJyb3VuZCIsICJvcGFjaXR5IjogMS4wLCAicmFkaXVzIjogNSwgInN0cm9rZSI6IHRydWUsICJ3ZWlnaHQiOiAzfQogICAgICAgICAgICApLmFkZFRvKG1hcF84YjkwNzc3M2MyZTc0NjM0ODE0YzNmZjJjZWMxZGY4Mik7CiAgICAgICAgCiAgICAKICAgICAgICB2YXIgcG9wdXBfMTcxNzQ3ODdiZTY0NDk1MGJhMGZmMjk1ZDViMjU4NTkgPSBMLnBvcHVwKHsibWF4V2lkdGgiOiAiMTAwJSJ9KTsKCiAgICAgICAgCiAgICAgICAgICAgIHZhciBodG1sXzJiMjQzYzdmNmZjNzQ3MDg5ZWQzMjlhODVjODk1M2E1ID0gJChgPGRpdiBpZD0iaHRtbF8yYjI0M2M3ZjZmYzc0NzA4OWVkMzI5YTg1Yzg5NTNhNSIgc3R5bGU9IndpZHRoOiAxMDAuMCU7IGhlaWdodDogMTAwLjAlOyI+RG93bnN2aWV3LCBOb3J0aCBZb3JrPC9kaXY+YClbMF07CiAgICAgICAgICAgIHBvcHVwXzE3MTc0Nzg3YmU2NDQ5NTBiYTBmZjI5NWQ1YjI1ODU5LnNldENvbnRlbnQoaHRtbF8yYjI0M2M3ZjZmYzc0NzA4OWVkMzI5YTg1Yzg5NTNhNSk7CiAgICAgICAgCgogICAgICAgIGNpcmNsZV9tYXJrZXJfYWNlN2RhZWFkN2NhNGUwYmIyY2ZkOGNjM2JiNDY1MTQuYmluZFBvcHVwKHBvcHVwXzE3MTc0Nzg3YmU2NDQ5NTBiYTBmZjI5NWQ1YjI1ODU5KQogICAgICAgIDsKCiAgICAgICAgCiAgICAKICAgIAogICAgICAgICAgICB2YXIgY2lyY2xlX21hcmtlcl9lMDljM2E0Yjk4MGU0YzI4OTI2YzUyMjAxYzIxMWRmZSA9IEwuY2lyY2xlTWFya2VyKAogICAgICAgICAgICAgICAgWzQzLjY1OTUyNTUsIC03OS4zNDA5MjNdLAogICAgICAgICAgICAgICAgeyJidWJibGluZ01vdXNlRXZlbnRzIjogdHJ1ZSwgImNvbG9yIjogInJlZCIsICJkYXNoQXJyYXkiOiBudWxsLCAiZGFzaE9mZnNldCI6IG51bGwsICJmaWxsIjogdHJ1ZSwgImZpbGxDb2xvciI6ICJyZWQiLCAiZmlsbE9wYWNpdHkiOiAwLjIsICJmaWxsUnVsZSI6ICJldmVub2RkIiwgImxpbmVDYXAiOiAicm91bmQiLCAibGluZUpvaW4iOiAicm91bmQiLCAib3BhY2l0eSI6IDEuMCwgInJhZGl1cyI6IDUsICJzdHJva2UiOiB0cnVlLCAid2VpZ2h0IjogM30KICAgICAgICAgICAgKS5hZGRUbyhtYXBfOGI5MDc3NzNjMmU3NDYzNDgxNGMzZmYyY2VjMWRmODIpOwogICAgICAgIAogICAgCiAgICAgICAgdmFyIHBvcHVwXzgzYTY2MWQ3M2M5YTRmZDU5ZGU4ZGI3NDBmMDAyOTgwID0gTC5wb3B1cCh7Im1heFdpZHRoIjogIjEwMCUifSk7CgogICAgICAgIAogICAgICAgICAgICB2YXIgaHRtbF9mNDZhMzE4MDRjMjU0YTAxOTAxOGQ5YjZlYzBiMGNkZCA9ICQoYDxkaXYgaWQ9Imh0bWxfZjQ2YTMxODA0YzI1NGEwMTkwMThkOWI2ZWMwYjBjZGQiIHN0eWxlPSJ3aWR0aDogMTAwLjAlOyBoZWlnaHQ6IDEwMC4wJTsiPlN0dWRpbyBEaXN0cmljdCwgRWFzdCBUb3JvbnRvPC9kaXY+YClbMF07CiAgICAgICAgICAgIHBvcHVwXzgzYTY2MWQ3M2M5YTRmZDU5ZGU4ZGI3NDBmMDAyOTgwLnNldENvbnRlbnQoaHRtbF9mNDZhMzE4MDRjMjU0YTAxOTAxOGQ5YjZlYzBiMGNkZCk7CiAgICAgICAgCgogICAgICAgIGNpcmNsZV9tYXJrZXJfZTA5YzNhNGI5ODBlNGMyODkyNmM1MjIwMWMyMTFkZmUuYmluZFBvcHVwKHBvcHVwXzgzYTY2MWQ3M2M5YTRmZDU5ZGU4ZGI3NDBmMDAyOTgwKQogICAgICAgIDsKCiAgICAgICAgCiAgICAKICAgIAogICAgICAgICAgICB2YXIgY2lyY2xlX21hcmtlcl9jMTUzNDMyOWNmYjc0MzYxYWQzMDViYzc3MjUyNmNlMyA9IEwuY2lyY2xlTWFya2VyKAogICAgICAgICAgICAgICAgWzQzLjczMzI4MjUsIC03OS40MTk3NDk3XSwKICAgICAgICAgICAgICAgIHsiYnViYmxpbmdNb3VzZUV2ZW50cyI6IHRydWUsICJjb2xvciI6ICJyZWQiLCAiZGFzaEFycmF5IjogbnVsbCwgImRhc2hPZmZzZXQiOiBudWxsLCAiZmlsbCI6IHRydWUsICJmaWxsQ29sb3IiOiAicmVkIiwgImZpbGxPcGFjaXR5IjogMC4yLCAiZmlsbFJ1bGUiOiAiZXZlbm9kZCIsICJsaW5lQ2FwIjogInJvdW5kIiwgImxpbmVKb2luIjogInJvdW5kIiwgIm9wYWNpdHkiOiAxLjAsICJyYWRpdXMiOiA1LCAic3Ryb2tlIjogdHJ1ZSwgIndlaWdodCI6IDN9CiAgICAgICAgICAgICkuYWRkVG8obWFwXzhiOTA3NzczYzJlNzQ2MzQ4MTRjM2ZmMmNlYzFkZjgyKTsKICAgICAgICAKICAgIAogICAgICAgIHZhciBwb3B1cF8wN2I5NmYwMTdiNjU0YjE1OTIxZmMxZTIyOWYzOTRmZiA9IEwucG9wdXAoeyJtYXhXaWR0aCI6ICIxMDAlIn0pOwoKICAgICAgICAKICAgICAgICAgICAgdmFyIGh0bWxfODMwZTIwZTA1NjVlNDVmYzgyNWM0YmY3MmJlMDY5YTMgPSAkKGA8ZGl2IGlkPSJodG1sXzgzMGUyMGUwNTY1ZTQ1ZmM4MjVjNGJmNzJiZTA2OWEzIiBzdHlsZT0id2lkdGg6IDEwMC4wJTsgaGVpZ2h0OiAxMDAuMCU7Ij5CZWRmb3JkIFBhcmssIExhd3JlbmNlIE1hbm9yIEVhc3QsIE5vcnRoIFlvcms8L2Rpdj5gKVswXTsKICAgICAgICAgICAgcG9wdXBfMDdiOTZmMDE3YjY1NGIxNTkyMWZjMWUyMjlmMzk0ZmYuc2V0Q29udGVudChodG1sXzgzMGUyMGUwNTY1ZTQ1ZmM4MjVjNGJmNzJiZTA2OWEzKTsKICAgICAgICAKCiAgICAgICAgY2lyY2xlX21hcmtlcl9jMTUzNDMyOWNmYjc0MzYxYWQzMDViYzc3MjUyNmNlMy5iaW5kUG9wdXAocG9wdXBfMDdiOTZmMDE3YjY1NGIxNTkyMWZjMWUyMjlmMzk0ZmYpCiAgICAgICAgOwoKICAgICAgICAKICAgIAogICAgCiAgICAgICAgICAgIHZhciBjaXJjbGVfbWFya2VyXzQ0MjZmYzg2OGMzODRkMDJhODg0MTQzYjQwMDhjMzlmID0gTC5jaXJjbGVNYXJrZXIoCiAgICAgICAgICAgICAgICBbNDMuNjkxMTE1OCwgLTc5LjQ3NjAxMzI5OTk5OTk5XSwKICAgICAgICAgICAgICAgIHsiYnViYmxpbmdNb3VzZUV2ZW50cyI6IHRydWUsICJjb2xvciI6ICJyZWQiLCAiZGFzaEFycmF5IjogbnVsbCwgImRhc2hPZmZzZXQiOiBudWxsLCAiZmlsbCI6IHRydWUsICJmaWxsQ29sb3IiOiAicmVkIiwgImZpbGxPcGFjaXR5IjogMC4yLCAiZmlsbFJ1bGUiOiAiZXZlbm9kZCIsICJsaW5lQ2FwIjogInJvdW5kIiwgImxpbmVKb2luIjogInJvdW5kIiwgIm9wYWNpdHkiOiAxLjAsICJyYWRpdXMiOiA1LCAic3Ryb2tlIjogdHJ1ZSwgIndlaWdodCI6IDN9CiAgICAgICAgICAgICkuYWRkVG8obWFwXzhiOTA3NzczYzJlNzQ2MzQ4MTRjM2ZmMmNlYzFkZjgyKTsKICAgICAgICAKICAgIAogICAgICAgIHZhciBwb3B1cF8yNmM1MWIyYTU1OTQ0MThkYmU1Mzc1NTRkODI0NjQzZSA9IEwucG9wdXAoeyJtYXhXaWR0aCI6ICIxMDAlIn0pOwoKICAgICAgICAKICAgICAgICAgICAgdmFyIGh0bWxfOGI1MzJjMGNkODI3NDA0Mjk3ZGRjYWIwMWRmZmJmY2IgPSAkKGA8ZGl2IGlkPSJodG1sXzhiNTMyYzBjZDgyNzQwNDI5N2RkY2FiMDFkZmZiZmNiIiBzdHlsZT0id2lkdGg6IDEwMC4wJTsgaGVpZ2h0OiAxMDAuMCU7Ij5EZWwgUmF5LCBNb3VudCBEZW5uaXMsIEtlZWxzZGFsZSBhbmQgU2lsdmVydGhvcm4sIFlvcms8L2Rpdj5gKVswXTsKICAgICAgICAgICAgcG9wdXBfMjZjNTFiMmE1NTk0NDE4ZGJlNTM3NTU0ZDgyNDY0M2Uuc2V0Q29udGVudChodG1sXzhiNTMyYzBjZDgyNzQwNDI5N2RkY2FiMDFkZmZiZmNiKTsKICAgICAgICAKCiAgICAgICAgY2lyY2xlX21hcmtlcl80NDI2ZmM4NjhjMzg0ZDAyYTg4NDE0M2I0MDA4YzM5Zi5iaW5kUG9wdXAocG9wdXBfMjZjNTFiMmE1NTk0NDE4ZGJlNTM3NTU0ZDgyNDY0M2UpCiAgICAgICAgOwoKICAgICAgICAKICAgIAogICAgCiAgICAgICAgICAgIHZhciBjaXJjbGVfbWFya2VyXzY0YzViMjU2MzMzYjQ2ZDY5YzExY2ZlOTVjNmY5ZjlmID0gTC5jaXJjbGVNYXJrZXIoCiAgICAgICAgICAgICAgICBbNDMuNzI0NzY1OSwgLTc5LjUzMjI0MjQwMDAwMDAyXSwKICAgICAgICAgICAgICAgIHsiYnViYmxpbmdNb3VzZUV2ZW50cyI6IHRydWUsICJjb2xvciI6ICJyZWQiLCAiZGFzaEFycmF5IjogbnVsbCwgImRhc2hPZmZzZXQiOiBudWxsLCAiZmlsbCI6IHRydWUsICJmaWxsQ29sb3IiOiAicmVkIiwgImZpbGxPcGFjaXR5IjogMC4yLCAiZmlsbFJ1bGUiOiAiZXZlbm9kZCIsICJsaW5lQ2FwIjogInJvdW5kIiwgImxpbmVKb2luIjogInJvdW5kIiwgIm9wYWNpdHkiOiAxLjAsICJyYWRpdXMiOiA1LCAic3Ryb2tlIjogdHJ1ZSwgIndlaWdodCI6IDN9CiAgICAgICAgICAgICkuYWRkVG8obWFwXzhiOTA3NzczYzJlNzQ2MzQ4MTRjM2ZmMmNlYzFkZjgyKTsKICAgICAgICAKICAgIAogICAgICAgIHZhciBwb3B1cF9jYmUxMWEwYWNiODY0OGQyYWUyMWRkM2I2NGQ5Y2I4MSA9IEwucG9wdXAoeyJtYXhXaWR0aCI6ICIxMDAlIn0pOwoKICAgICAgICAKICAgICAgICAgICAgdmFyIGh0bWxfOWU1N2VhY2I3Yjg4NDQ2NGFhZjU5YWUxZDVmMTFmNjggPSAkKGA8ZGl2IGlkPSJodG1sXzllNTdlYWNiN2I4ODQ0NjRhYWY1OWFlMWQ1ZjExZjY4IiBzdHlsZT0id2lkdGg6IDEwMC4wJTsgaGVpZ2h0OiAxMDAuMCU7Ij5IdW1iZXJsZWEsIEVtZXJ5LCBOb3J0aCBZb3JrPC9kaXY+YClbMF07CiAgICAgICAgICAgIHBvcHVwX2NiZTExYTBhY2I4NjQ4ZDJhZTIxZGQzYjY0ZDljYjgxLnNldENvbnRlbnQoaHRtbF85ZTU3ZWFjYjdiODg0NDY0YWFmNTlhZTFkNWYxMWY2OCk7CiAgICAgICAgCgogICAgICAgIGNpcmNsZV9tYXJrZXJfNjRjNWIyNTYzMzNiNDZkNjljMTFjZmU5NWM2ZjlmOWYuYmluZFBvcHVwKHBvcHVwX2NiZTExYTBhY2I4NjQ4ZDJhZTIxZGQzYjY0ZDljYjgxKQogICAgICAgIDsKCiAgICAgICAgCiAgICAKICAgIAogICAgICAgICAgICB2YXIgY2lyY2xlX21hcmtlcl8wNjZiNDIzMmUwYjI0NTkxOTYyZTg4MTMwMjNjZmU1NiA9IEwuY2lyY2xlTWFya2VyKAogICAgICAgICAgICAgICAgWzQzLjY5MjY1NzAwMDAwMDAwNCwgLTc5LjI2NDg0ODFdLAogICAgICAgICAgICAgICAgeyJidWJibGluZ01vdXNlRXZlbnRzIjogdHJ1ZSwgImNvbG9yIjogInJlZCIsICJkYXNoQXJyYXkiOiBudWxsLCAiZGFzaE9mZnNldCI6IG51bGwsICJmaWxsIjogdHJ1ZSwgImZpbGxDb2xvciI6ICJyZWQiLCAiZmlsbE9wYWNpdHkiOiAwLjIsICJmaWxsUnVsZSI6ICJldmVub2RkIiwgImxpbmVDYXAiOiAicm91bmQiLCAibGluZUpvaW4iOiAicm91bmQiLCAib3BhY2l0eSI6IDEuMCwgInJhZGl1cyI6IDUsICJzdHJva2UiOiB0cnVlLCAid2VpZ2h0IjogM30KICAgICAgICAgICAgKS5hZGRUbyhtYXBfOGI5MDc3NzNjMmU3NDYzNDgxNGMzZmYyY2VjMWRmODIpOwogICAgICAgIAogICAgCiAgICAgICAgdmFyIHBvcHVwXzUwZDU2ZTZkNDhlNDQyMDE4YzVjOGE2ZjBlYTc4OTljID0gTC5wb3B1cCh7Im1heFdpZHRoIjogIjEwMCUifSk7CgogICAgICAgIAogICAgICAgICAgICB2YXIgaHRtbF9kNDM3NGQwY2M5OWQ0MjY0ODAxMmJhYzYxZTc0YjVlZSA9ICQoYDxkaXYgaWQ9Imh0bWxfZDQzNzRkMGNjOTlkNDI2NDgwMTJiYWM2MWU3NGI1ZWUiIHN0eWxlPSJ3aWR0aDogMTAwLjAlOyBoZWlnaHQ6IDEwMC4wJTsiPkJpcmNoIENsaWZmLCBDbGlmZnNpZGUgV2VzdCwgU2NhcmJvcm91Z2g8L2Rpdj5gKVswXTsKICAgICAgICAgICAgcG9wdXBfNTBkNTZlNmQ0OGU0NDIwMThjNWM4YTZmMGVhNzg5OWMuc2V0Q29udGVudChodG1sX2Q0Mzc0ZDBjYzk5ZDQyNjQ4MDEyYmFjNjFlNzRiNWVlKTsKICAgICAgICAKCiAgICAgICAgY2lyY2xlX21hcmtlcl8wNjZiNDIzMmUwYjI0NTkxOTYyZTg4MTMwMjNjZmU1Ni5iaW5kUG9wdXAocG9wdXBfNTBkNTZlNmQ0OGU0NDIwMThjNWM4YTZmMGVhNzg5OWMpCiAgICAgICAgOwoKICAgICAgICAKICAgIAogICAgCiAgICAgICAgICAgIHZhciBjaXJjbGVfbWFya2VyXzY4MGVlNjI1NGUxMTRhODk5YmYwMGM1ODY5YzQ0YTdlID0gTC5jaXJjbGVNYXJrZXIoCiAgICAgICAgICAgICAgICBbNDMuNzcwMTE5OSwgLTc5LjQwODQ5Mjc5OTk5OTk5XSwKICAgICAgICAgICAgICAgIHsiYnViYmxpbmdNb3VzZUV2ZW50cyI6IHRydWUsICJjb2xvciI6ICJyZWQiLCAiZGFzaEFycmF5IjogbnVsbCwgImRhc2hPZmZzZXQiOiBudWxsLCAiZmlsbCI6IHRydWUsICJmaWxsQ29sb3IiOiAicmVkIiwgImZpbGxPcGFjaXR5IjogMC4yLCAiZmlsbFJ1bGUiOiAiZXZlbm9kZCIsICJsaW5lQ2FwIjogInJvdW5kIiwgImxpbmVKb2luIjogInJvdW5kIiwgIm9wYWNpdHkiOiAxLjAsICJyYWRpdXMiOiA1LCAic3Ryb2tlIjogdHJ1ZSwgIndlaWdodCI6IDN9CiAgICAgICAgICAgICkuYWRkVG8obWFwXzhiOTA3NzczYzJlNzQ2MzQ4MTRjM2ZmMmNlYzFkZjgyKTsKICAgICAgICAKICAgIAogICAgICAgIHZhciBwb3B1cF81ZGY2NDc3M2RjNmE0NmU0OTk2YzUyNGY0NDdmY2Y3MyA9IEwucG9wdXAoeyJtYXhXaWR0aCI6ICIxMDAlIn0pOwoKICAgICAgICAKICAgICAgICAgICAgdmFyIGh0bWxfNDZiODY3ZjYxYTIwNDVlNmFlMzE4MDhmNDE2YjA2NWMgPSAkKGA8ZGl2IGlkPSJodG1sXzQ2Yjg2N2Y2MWEyMDQ1ZTZhZTMxODA4ZjQxNmIwNjVjIiBzdHlsZT0id2lkdGg6IDEwMC4wJTsgaGVpZ2h0OiAxMDAuMCU7Ij5XaWxsb3dkYWxlLCBXaWxsb3dkYWxlIEVhc3QsIE5vcnRoIFlvcms8L2Rpdj5gKVswXTsKICAgICAgICAgICAgcG9wdXBfNWRmNjQ3NzNkYzZhNDZlNDk5NmM1MjRmNDQ3ZmNmNzMuc2V0Q29udGVudChodG1sXzQ2Yjg2N2Y2MWEyMDQ1ZTZhZTMxODA4ZjQxNmIwNjVjKTsKICAgICAgICAKCiAgICAgICAgY2lyY2xlX21hcmtlcl82ODBlZTYyNTRlMTE0YTg5OWJmMDBjNTg2OWM0NGE3ZS5iaW5kUG9wdXAocG9wdXBfNWRmNjQ3NzNkYzZhNDZlNDk5NmM1MjRmNDQ3ZmNmNzMpCiAgICAgICAgOwoKICAgICAgICAKICAgIAogICAgCiAgICAgICAgICAgIHZhciBjaXJjbGVfbWFya2VyXzRkZGY2ZWQzM2MzYTQwNDRhNzE1NGE4NzkxOTM2NDkwID0gTC5jaXJjbGVNYXJrZXIoCiAgICAgICAgICAgICAgICBbNDMuNzYxNjMxMywgLTc5LjUyMDk5OTQwMDAwMDAxXSwKICAgICAgICAgICAgICAgIHsiYnViYmxpbmdNb3VzZUV2ZW50cyI6IHRydWUsICJjb2xvciI6ICJyZWQiLCAiZGFzaEFycmF5IjogbnVsbCwgImRhc2hPZmZzZXQiOiBudWxsLCAiZmlsbCI6IHRydWUsICJmaWxsQ29sb3IiOiAicmVkIiwgImZpbGxPcGFjaXR5IjogMC4yLCAiZmlsbFJ1bGUiOiAiZXZlbm9kZCIsICJsaW5lQ2FwIjogInJvdW5kIiwgImxpbmVKb2luIjogInJvdW5kIiwgIm9wYWNpdHkiOiAxLjAsICJyYWRpdXMiOiA1LCAic3Ryb2tlIjogdHJ1ZSwgIndlaWdodCI6IDN9CiAgICAgICAgICAgICkuYWRkVG8obWFwXzhiOTA3NzczYzJlNzQ2MzQ4MTRjM2ZmMmNlYzFkZjgyKTsKICAgICAgICAKICAgIAogICAgICAgIHZhciBwb3B1cF81OWMxNzlkYzVlZjc0ODczOGIyZTEyZjQzYjE0YmIyMyA9IEwucG9wdXAoeyJtYXhXaWR0aCI6ICIxMDAlIn0pOwoKICAgICAgICAKICAgICAgICAgICAgdmFyIGh0bWxfMGY1NzFkZTg1NTU2NGQ4YmE3Y2JjMzNhYzZlMzM3NTUgPSAkKGA8ZGl2IGlkPSJodG1sXzBmNTcxZGU4NTU1NjRkOGJhN2NiYzMzYWM2ZTMzNzU1IiBzdHlsZT0id2lkdGg6IDEwMC4wJTsgaGVpZ2h0OiAxMDAuMCU7Ij5Eb3duc3ZpZXcsIE5vcnRoIFlvcms8L2Rpdj5gKVswXTsKICAgICAgICAgICAgcG9wdXBfNTljMTc5ZGM1ZWY3NDg3MzhiMmUxMmY0M2IxNGJiMjMuc2V0Q29udGVudChodG1sXzBmNTcxZGU4NTU1NjRkOGJhN2NiYzMzYWM2ZTMzNzU1KTsKICAgICAgICAKCiAgICAgICAgY2lyY2xlX21hcmtlcl80ZGRmNmVkMzNjM2E0MDQ0YTcxNTRhODc5MTkzNjQ5MC5iaW5kUG9wdXAocG9wdXBfNTljMTc5ZGM1ZWY3NDg3MzhiMmUxMmY0M2IxNGJiMjMpCiAgICAgICAgOwoKICAgICAgICAKICAgIAogICAgCiAgICAgICAgICAgIHZhciBjaXJjbGVfbWFya2VyXzBlODY0MmU0NjczYTQ3NmRhMDY1YzY4M2I0YWI0MGZkID0gTC5jaXJjbGVNYXJrZXIoCiAgICAgICAgICAgICAgICBbNDMuNzI4MDIwNSwgLTc5LjM4ODc5MDFdLAogICAgICAgICAgICAgICAgeyJidWJibGluZ01vdXNlRXZlbnRzIjogdHJ1ZSwgImNvbG9yIjogInJlZCIsICJkYXNoQXJyYXkiOiBudWxsLCAiZGFzaE9mZnNldCI6IG51bGwsICJmaWxsIjogdHJ1ZSwgImZpbGxDb2xvciI6ICJyZWQiLCAiZmlsbE9wYWNpdHkiOiAwLjIsICJmaWxsUnVsZSI6ICJldmVub2RkIiwgImxpbmVDYXAiOiAicm91bmQiLCAibGluZUpvaW4iOiAicm91bmQiLCAib3BhY2l0eSI6IDEuMCwgInJhZGl1cyI6IDUsICJzdHJva2UiOiB0cnVlLCAid2VpZ2h0IjogM30KICAgICAgICAgICAgKS5hZGRUbyhtYXBfOGI5MDc3NzNjMmU3NDYzNDgxNGMzZmYyY2VjMWRmODIpOwogICAgICAgIAogICAgCiAgICAgICAgdmFyIHBvcHVwXzRhOTI1YTU0OGRiMTQ3MDhiNmZmYWM0NjcyNDhkYzFiID0gTC5wb3B1cCh7Im1heFdpZHRoIjogIjEwMCUifSk7CgogICAgICAgIAogICAgICAgICAgICB2YXIgaHRtbF9hZGE0N2NhMzVlNmY0NDEzYWU0ZjUxNDczNWUwMGVkNSA9ICQoYDxkaXYgaWQ9Imh0bWxfYWRhNDdjYTM1ZTZmNDQxM2FlNGY1MTQ3MzVlMDBlZDUiIHN0eWxlPSJ3aWR0aDogMTAwLjAlOyBoZWlnaHQ6IDEwMC4wJTsiPkxhd3JlbmNlIFBhcmssIENlbnRyYWwgVG9yb250bzwvZGl2PmApWzBdOwogICAgICAgICAgICBwb3B1cF80YTkyNWE1NDhkYjE0NzA4YjZmZmFjNDY3MjQ4ZGMxYi5zZXRDb250ZW50KGh0bWxfYWRhNDdjYTM1ZTZmNDQxM2FlNGY1MTQ3MzVlMDBlZDUpOwogICAgICAgIAoKICAgICAgICBjaXJjbGVfbWFya2VyXzBlODY0MmU0NjczYTQ3NmRhMDY1YzY4M2I0YWI0MGZkLmJpbmRQb3B1cChwb3B1cF80YTkyNWE1NDhkYjE0NzA4YjZmZmFjNDY3MjQ4ZGMxYikKICAgICAgICA7CgogICAgICAgIAogICAgCiAgICAKICAgICAgICAgICAgdmFyIGNpcmNsZV9tYXJrZXJfNzcwZWNmZTkzZTU4NDgwOGE4ZjQ2NGYwOTUyMjEwYTYgPSBMLmNpcmNsZU1hcmtlcigKICAgICAgICAgICAgICAgIFs0My43MTE2OTQ4LCAtNzkuNDE2OTM1NTk5OTk5OTldLAogICAgICAgICAgICAgICAgeyJidWJibGluZ01vdXNlRXZlbnRzIjogdHJ1ZSwgImNvbG9yIjogInJlZCIsICJkYXNoQXJyYXkiOiBudWxsLCAiZGFzaE9mZnNldCI6IG51bGwsICJmaWxsIjogdHJ1ZSwgImZpbGxDb2xvciI6ICJyZWQiLCAiZmlsbE9wYWNpdHkiOiAwLjIsICJmaWxsUnVsZSI6ICJldmVub2RkIiwgImxpbmVDYXAiOiAicm91bmQiLCAibGluZUpvaW4iOiAicm91bmQiLCAib3BhY2l0eSI6IDEuMCwgInJhZGl1cyI6IDUsICJzdHJva2UiOiB0cnVlLCAid2VpZ2h0IjogM30KICAgICAgICAgICAgKS5hZGRUbyhtYXBfOGI5MDc3NzNjMmU3NDYzNDgxNGMzZmYyY2VjMWRmODIpOwogICAgICAgIAogICAgCiAgICAgICAgdmFyIHBvcHVwXzBlMDljODRmOTY4MzRjMWJiYjE4NmE1NWFiYjM4Yzk3ID0gTC5wb3B1cCh7Im1heFdpZHRoIjogIjEwMCUifSk7CgogICAgICAgIAogICAgICAgICAgICB2YXIgaHRtbF82NzllOTY1MDcyMjE0YzcyOGJjYTRjZjFiYTA1MTRiOCA9ICQoYDxkaXYgaWQ9Imh0bWxfNjc5ZTk2NTA3MjIxNGM3MjhiY2E0Y2YxYmEwNTE0YjgiIHN0eWxlPSJ3aWR0aDogMTAwLjAlOyBoZWlnaHQ6IDEwMC4wJTsiPlJvc2VsYXduLCBDZW50cmFsIFRvcm9udG88L2Rpdj5gKVswXTsKICAgICAgICAgICAgcG9wdXBfMGUwOWM4NGY5NjgzNGMxYmJiMTg2YTU1YWJiMzhjOTcuc2V0Q29udGVudChodG1sXzY3OWU5NjUwNzIyMTRjNzI4YmNhNGNmMWJhMDUxNGI4KTsKICAgICAgICAKCiAgICAgICAgY2lyY2xlX21hcmtlcl83NzBlY2ZlOTNlNTg0ODA4YThmNDY0ZjA5NTIyMTBhNi5iaW5kUG9wdXAocG9wdXBfMGUwOWM4NGY5NjgzNGMxYmJiMTg2YTU1YWJiMzhjOTcpCiAgICAgICAgOwoKICAgICAgICAKICAgIAogICAgCiAgICAgICAgICAgIHZhciBjaXJjbGVfbWFya2VyX2JlYWYwMDc1NjY2MzRhMGJhMDJmODJiODUxZTM4MWI1ID0gTC5jaXJjbGVNYXJrZXIoCiAgICAgICAgICAgICAgICBbNDMuNjczMTg1Mjk5OTk5OTksIC03OS40ODcyNjE5MDAwMDAwMV0sCiAgICAgICAgICAgICAgICB7ImJ1YmJsaW5nTW91c2VFdmVudHMiOiB0cnVlLCAiY29sb3IiOiAicmVkIiwgImRhc2hBcnJheSI6IG51bGwsICJkYXNoT2Zmc2V0IjogbnVsbCwgImZpbGwiOiB0cnVlLCAiZmlsbENvbG9yIjogInJlZCIsICJmaWxsT3BhY2l0eSI6IDAuMiwgImZpbGxSdWxlIjogImV2ZW5vZGQiLCAibGluZUNhcCI6ICJyb3VuZCIsICJsaW5lSm9pbiI6ICJyb3VuZCIsICJvcGFjaXR5IjogMS4wLCAicmFkaXVzIjogNSwgInN0cm9rZSI6IHRydWUsICJ3ZWlnaHQiOiAzfQogICAgICAgICAgICApLmFkZFRvKG1hcF84YjkwNzc3M2MyZTc0NjM0ODE0YzNmZjJjZWMxZGY4Mik7CiAgICAgICAgCiAgICAKICAgICAgICB2YXIgcG9wdXBfYzZiNmE4MTUwMDI1NGEzMmE2OGY3MTI3MGIwZjQ2YzUgPSBMLnBvcHVwKHsibWF4V2lkdGgiOiAiMTAwJSJ9KTsKCiAgICAgICAgCiAgICAgICAgICAgIHZhciBodG1sX2Y1OTg3OTA4NzMwZjQ3NmM5Mjg5YzY0MWQ3NTQyMGU3ID0gJChgPGRpdiBpZD0iaHRtbF9mNTk4NzkwODczMGY0NzZjOTI4OWM2NDFkNzU0MjBlNyIgc3R5bGU9IndpZHRoOiAxMDAuMCU7IGhlaWdodDogMTAwLjAlOyI+UnVubnltZWRlLCBUaGUgSnVuY3Rpb24gTm9ydGgsIFlvcms8L2Rpdj5gKVswXTsKICAgICAgICAgICAgcG9wdXBfYzZiNmE4MTUwMDI1NGEzMmE2OGY3MTI3MGIwZjQ2YzUuc2V0Q29udGVudChodG1sX2Y1OTg3OTA4NzMwZjQ3NmM5Mjg5YzY0MWQ3NTQyMGU3KTsKICAgICAgICAKCiAgICAgICAgY2lyY2xlX21hcmtlcl9iZWFmMDA3NTY2NjM0YTBiYTAyZjgyYjg1MWUzODFiNS5iaW5kUG9wdXAocG9wdXBfYzZiNmE4MTUwMDI1NGEzMmE2OGY3MTI3MGIwZjQ2YzUpCiAgICAgICAgOwoKICAgICAgICAKICAgIAogICAgCiAgICAgICAgICAgIHZhciBjaXJjbGVfbWFya2VyXzExNTBiZjBmZmNkOTRjOTk5ZjlhYjcyN2ZjNmJmMWZlID0gTC5jaXJjbGVNYXJrZXIoCiAgICAgICAgICAgICAgICBbNDMuNzA2ODc2LCAtNzkuNTE4MTg4NDAwMDAwMDFdLAogICAgICAgICAgICAgICAgeyJidWJibGluZ01vdXNlRXZlbnRzIjogdHJ1ZSwgImNvbG9yIjogInJlZCIsICJkYXNoQXJyYXkiOiBudWxsLCAiZGFzaE9mZnNldCI6IG51bGwsICJmaWxsIjogdHJ1ZSwgImZpbGxDb2xvciI6ICJyZWQiLCAiZmlsbE9wYWNpdHkiOiAwLjIsICJmaWxsUnVsZSI6ICJldmVub2RkIiwgImxpbmVDYXAiOiAicm91bmQiLCAibGluZUpvaW4iOiAicm91bmQiLCAib3BhY2l0eSI6IDEuMCwgInJhZGl1cyI6IDUsICJzdHJva2UiOiB0cnVlLCAid2VpZ2h0IjogM30KICAgICAgICAgICAgKS5hZGRUbyhtYXBfOGI5MDc3NzNjMmU3NDYzNDgxNGMzZmYyY2VjMWRmODIpOwogICAgICAgIAogICAgCiAgICAgICAgdmFyIHBvcHVwXzE0MTc3YWM2YTgwYjQwMzE4ZTc2ZTExMzdjYTE2OGVlID0gTC5wb3B1cCh7Im1heFdpZHRoIjogIjEwMCUifSk7CgogICAgICAgIAogICAgICAgICAgICB2YXIgaHRtbF9hOGQ5MWFiMDMxNjY0MDYwODBmNDc2NzAzMGRhNDJlZiA9ICQoYDxkaXYgaWQ9Imh0bWxfYThkOTFhYjAzMTY2NDA2MDgwZjQ3NjcwMzBkYTQyZWYiIHN0eWxlPSJ3aWR0aDogMTAwLjAlOyBoZWlnaHQ6IDEwMC4wJTsiPldlc3RvbiwgWW9yazwvZGl2PmApWzBdOwogICAgICAgICAgICBwb3B1cF8xNDE3N2FjNmE4MGI0MDMxOGU3NmUxMTM3Y2ExNjhlZS5zZXRDb250ZW50KGh0bWxfYThkOTFhYjAzMTY2NDA2MDgwZjQ3NjcwMzBkYTQyZWYpOwogICAgICAgIAoKICAgICAgICBjaXJjbGVfbWFya2VyXzExNTBiZjBmZmNkOTRjOTk5ZjlhYjcyN2ZjNmJmMWZlLmJpbmRQb3B1cChwb3B1cF8xNDE3N2FjNmE4MGI0MDMxOGU3NmUxMTM3Y2ExNjhlZSkKICAgICAgICA7CgogICAgICAgIAogICAgCiAgICAKICAgICAgICAgICAgdmFyIGNpcmNsZV9tYXJrZXJfZTRmY2JmNGY2YmQ5NDQ5ODg3NmQ5MTBhOWJlZTk4ZTYgPSBMLmNpcmNsZU1hcmtlcigKICAgICAgICAgICAgICAgIFs0My43NTc0MDk2LCAtNzkuMjczMzA0MDAwMDAwMDFdLAogICAgICAgICAgICAgICAgeyJidWJibGluZ01vdXNlRXZlbnRzIjogdHJ1ZSwgImNvbG9yIjogInJlZCIsICJkYXNoQXJyYXkiOiBudWxsLCAiZGFzaE9mZnNldCI6IG51bGwsICJmaWxsIjogdHJ1ZSwgImZpbGxDb2xvciI6ICJyZWQiLCAiZmlsbE9wYWNpdHkiOiAwLjIsICJmaWxsUnVsZSI6ICJldmVub2RkIiwgImxpbmVDYXAiOiAicm91bmQiLCAibGluZUpvaW4iOiAicm91bmQiLCAib3BhY2l0eSI6IDEuMCwgInJhZGl1cyI6IDUsICJzdHJva2UiOiB0cnVlLCAid2VpZ2h0IjogM30KICAgICAgICAgICAgKS5hZGRUbyhtYXBfOGI5MDc3NzNjMmU3NDYzNDgxNGMzZmYyY2VjMWRmODIpOwogICAgICAgIAogICAgCiAgICAgICAgdmFyIHBvcHVwX2QzMGZiYmUxMzNkZDRkZTg4NDZhYTllZjZmNzAyNTEzID0gTC5wb3B1cCh7Im1heFdpZHRoIjogIjEwMCUifSk7CgogICAgICAgIAogICAgICAgICAgICB2YXIgaHRtbF85NGU3Njk3YTcxM2I0MTZmOTBiZDlkMTBiMzFjNGEwYyA9ICQoYDxkaXYgaWQ9Imh0bWxfOTRlNzY5N2E3MTNiNDE2ZjkwYmQ5ZDEwYjMxYzRhMGMiIHN0eWxlPSJ3aWR0aDogMTAwLjAlOyBoZWlnaHQ6IDEwMC4wJTsiPkRvcnNldCBQYXJrLCBXZXhmb3JkIEhlaWdodHMsIFNjYXJib3JvdWdoIFRvd24gQ2VudHJlLCBTY2FyYm9yb3VnaDwvZGl2PmApWzBdOwogICAgICAgICAgICBwb3B1cF9kMzBmYmJlMTMzZGQ0ZGU4ODQ2YWE5ZWY2ZjcwMjUxMy5zZXRDb250ZW50KGh0bWxfOTRlNzY5N2E3MTNiNDE2ZjkwYmQ5ZDEwYjMxYzRhMGMpOwogICAgICAgIAoKICAgICAgICBjaXJjbGVfbWFya2VyX2U0ZmNiZjRmNmJkOTQ0OTg4NzZkOTEwYTliZWU5OGU2LmJpbmRQb3B1cChwb3B1cF9kMzBmYmJlMTMzZGQ0ZGU4ODQ2YWE5ZWY2ZjcwMjUxMykKICAgICAgICA7CgogICAgICAgIAogICAgCiAgICAKICAgICAgICAgICAgdmFyIGNpcmNsZV9tYXJrZXJfOTgyZmViMDlmNWNkNDQzNjk2YWVkZDczNjY5M2MxZTEgPSBMLmNpcmNsZU1hcmtlcigKICAgICAgICAgICAgICAgIFs0My43NTI3NTgyOTk5OTk5OTYsIC03OS40MDAwNDkzXSwKICAgICAgICAgICAgICAgIHsiYnViYmxpbmdNb3VzZUV2ZW50cyI6IHRydWUsICJjb2xvciI6ICJyZWQiLCAiZGFzaEFycmF5IjogbnVsbCwgImRhc2hPZmZzZXQiOiBudWxsLCAiZmlsbCI6IHRydWUsICJmaWxsQ29sb3IiOiAicmVkIiwgImZpbGxPcGFjaXR5IjogMC4yLCAiZmlsbFJ1bGUiOiAiZXZlbm9kZCIsICJsaW5lQ2FwIjogInJvdW5kIiwgImxpbmVKb2luIjogInJvdW5kIiwgIm9wYWNpdHkiOiAxLjAsICJyYWRpdXMiOiA1LCAic3Ryb2tlIjogdHJ1ZSwgIndlaWdodCI6IDN9CiAgICAgICAgICAgICkuYWRkVG8obWFwXzhiOTA3NzczYzJlNzQ2MzQ4MTRjM2ZmMmNlYzFkZjgyKTsKICAgICAgICAKICAgIAogICAgICAgIHZhciBwb3B1cF83N2I4YjZkY2JkYjI0MTdiOTFjNTYwY2JlMDk4YTQyOSA9IEwucG9wdXAoeyJtYXhXaWR0aCI6ICIxMDAlIn0pOwoKICAgICAgICAKICAgICAgICAgICAgdmFyIGh0bWxfNDEyMDRkNDE5MDZkNDIyYjkxMzJmNjg1YTIyZTRlZTUgPSAkKGA8ZGl2IGlkPSJodG1sXzQxMjA0ZDQxOTA2ZDQyMmI5MTMyZjY4NWEyMmU0ZWU1IiBzdHlsZT0id2lkdGg6IDEwMC4wJTsgaGVpZ2h0OiAxMDAuMCU7Ij5Zb3JrIE1pbGxzIFdlc3QsIE5vcnRoIFlvcms8L2Rpdj5gKVswXTsKICAgICAgICAgICAgcG9wdXBfNzdiOGI2ZGNiZGIyNDE3YjkxYzU2MGNiZTA5OGE0Mjkuc2V0Q29udGVudChodG1sXzQxMjA0ZDQxOTA2ZDQyMmI5MTMyZjY4NWEyMmU0ZWU1KTsKICAgICAgICAKCiAgICAgICAgY2lyY2xlX21hcmtlcl85ODJmZWIwOWY1Y2Q0NDM2OTZhZWRkNzM2NjkzYzFlMS5iaW5kUG9wdXAocG9wdXBfNzdiOGI2ZGNiZGIyNDE3YjkxYzU2MGNiZTA5OGE0MjkpCiAgICAgICAgOwoKICAgICAgICAKICAgIAogICAgCiAgICAgICAgICAgIHZhciBjaXJjbGVfbWFya2VyX2M2Y2JmNDJiNGUzZTRkMTJiMDc5ODdhNTg5YWVhZjA0ID0gTC5jaXJjbGVNYXJrZXIoCiAgICAgICAgICAgICAgICBbNDMuNzEyNzUxMSwgLTc5LjM5MDE5NzVdLAogICAgICAgICAgICAgICAgeyJidWJibGluZ01vdXNlRXZlbnRzIjogdHJ1ZSwgImNvbG9yIjogInJlZCIsICJkYXNoQXJyYXkiOiBudWxsLCAiZGFzaE9mZnNldCI6IG51bGwsICJmaWxsIjogdHJ1ZSwgImZpbGxDb2xvciI6ICJyZWQiLCAiZmlsbE9wYWNpdHkiOiAwLjIsICJmaWxsUnVsZSI6ICJldmVub2RkIiwgImxpbmVDYXAiOiAicm91bmQiLCAibGluZUpvaW4iOiAicm91bmQiLCAib3BhY2l0eSI6IDEuMCwgInJhZGl1cyI6IDUsICJzdHJva2UiOiB0cnVlLCAid2VpZ2h0IjogM30KICAgICAgICAgICAgKS5hZGRUbyhtYXBfOGI5MDc3NzNjMmU3NDYzNDgxNGMzZmYyY2VjMWRmODIpOwogICAgICAgIAogICAgCiAgICAgICAgdmFyIHBvcHVwXzk2NTU0MGNiM2QzZTRhOWRiODkwYWI0NGU0MDMxOGYzID0gTC5wb3B1cCh7Im1heFdpZHRoIjogIjEwMCUifSk7CgogICAgICAgIAogICAgICAgICAgICB2YXIgaHRtbF8xNDE1Mjk0YmQ2MDU0OGQ0YmIwMTY0ZWNkN2U1MTQzMyA9ICQoYDxkaXYgaWQ9Imh0bWxfMTQxNTI5NGJkNjA1NDhkNGJiMDE2NGVjZDdlNTE0MzMiIHN0eWxlPSJ3aWR0aDogMTAwLjAlOyBoZWlnaHQ6IDEwMC4wJTsiPkRhdmlzdmlsbGUgTm9ydGgsIENlbnRyYWwgVG9yb250bzwvZGl2PmApWzBdOwogICAgICAgICAgICBwb3B1cF85NjU1NDBjYjNkM2U0YTlkYjg5MGFiNDRlNDAzMThmMy5zZXRDb250ZW50KGh0bWxfMTQxNTI5NGJkNjA1NDhkNGJiMDE2NGVjZDdlNTE0MzMpOwogICAgICAgIAoKICAgICAgICBjaXJjbGVfbWFya2VyX2M2Y2JmNDJiNGUzZTRkMTJiMDc5ODdhNTg5YWVhZjA0LmJpbmRQb3B1cChwb3B1cF85NjU1NDBjYjNkM2U0YTlkYjg5MGFiNDRlNDAzMThmMykKICAgICAgICA7CgogICAgICAgIAogICAgCiAgICAKICAgICAgICAgICAgdmFyIGNpcmNsZV9tYXJrZXJfMTE3NTg2YTNiYmQyNDRhNmI2MzM3ODQxZWI1MTlkODggPSBMLmNpcmNsZU1hcmtlcigKICAgICAgICAgICAgICAgIFs0My42OTY5NDc2LCAtNzkuNDExMzA3MjAwMDAwMDFdLAogICAgICAgICAgICAgICAgeyJidWJibGluZ01vdXNlRXZlbnRzIjogdHJ1ZSwgImNvbG9yIjogInJlZCIsICJkYXNoQXJyYXkiOiBudWxsLCAiZGFzaE9mZnNldCI6IG51bGwsICJmaWxsIjogdHJ1ZSwgImZpbGxDb2xvciI6ICJyZWQiLCAiZmlsbE9wYWNpdHkiOiAwLjIsICJmaWxsUnVsZSI6ICJldmVub2RkIiwgImxpbmVDYXAiOiAicm91bmQiLCAibGluZUpvaW4iOiAicm91bmQiLCAib3BhY2l0eSI6IDEuMCwgInJhZGl1cyI6IDUsICJzdHJva2UiOiB0cnVlLCAid2VpZ2h0IjogM30KICAgICAgICAgICAgKS5hZGRUbyhtYXBfOGI5MDc3NzNjMmU3NDYzNDgxNGMzZmYyY2VjMWRmODIpOwogICAgICAgIAogICAgCiAgICAgICAgdmFyIHBvcHVwX2EzZTk4NmQ0ZmYyNjRlMmJhODM0NTk1NTU2YzI2YmUyID0gTC5wb3B1cCh7Im1heFdpZHRoIjogIjEwMCUifSk7CgogICAgICAgIAogICAgICAgICAgICB2YXIgaHRtbF8zOThmY2FlMjk3YTI0YmQyOWIzZDBiYzJjZTYzYmQ5ZCA9ICQoYDxkaXYgaWQ9Imh0bWxfMzk4ZmNhZTI5N2EyNGJkMjliM2QwYmMyY2U2M2JkOWQiIHN0eWxlPSJ3aWR0aDogMTAwLjAlOyBoZWlnaHQ6IDEwMC4wJTsiPkZvcmVzdCBIaWxsIE5vcnRoICZhbXA7IFdlc3QsIEZvcmVzdCBIaWxsIFJvYWQgUGFyaywgQ2VudHJhbCBUb3JvbnRvPC9kaXY+YClbMF07CiAgICAgICAgICAgIHBvcHVwX2EzZTk4NmQ0ZmYyNjRlMmJhODM0NTk1NTU2YzI2YmUyLnNldENvbnRlbnQoaHRtbF8zOThmY2FlMjk3YTI0YmQyOWIzZDBiYzJjZTYzYmQ5ZCk7CiAgICAgICAgCgogICAgICAgIGNpcmNsZV9tYXJrZXJfMTE3NTg2YTNiYmQyNDRhNmI2MzM3ODQxZWI1MTlkODguYmluZFBvcHVwKHBvcHVwX2EzZTk4NmQ0ZmYyNjRlMmJhODM0NTk1NTU2YzI2YmUyKQogICAgICAgIDsKCiAgICAgICAgCiAgICAKICAgIAogICAgICAgICAgICB2YXIgY2lyY2xlX21hcmtlcl84MDlhZTkwMjY4OTM0MjE1OTE4NGM1ODA5ZWVjNGYyNSA9IEwuY2lyY2xlTWFya2VyKAogICAgICAgICAgICAgICAgWzQzLjY2MTYwODMsIC03OS40NjQ3NjMyOTk5OTk5OV0sCiAgICAgICAgICAgICAgICB7ImJ1YmJsaW5nTW91c2VFdmVudHMiOiB0cnVlLCAiY29sb3IiOiAicmVkIiwgImRhc2hBcnJheSI6IG51bGwsICJkYXNoT2Zmc2V0IjogbnVsbCwgImZpbGwiOiB0cnVlLCAiZmlsbENvbG9yIjogInJlZCIsICJmaWxsT3BhY2l0eSI6IDAuMiwgImZpbGxSdWxlIjogImV2ZW5vZGQiLCAibGluZUNhcCI6ICJyb3VuZCIsICJsaW5lSm9pbiI6ICJyb3VuZCIsICJvcGFjaXR5IjogMS4wLCAicmFkaXVzIjogNSwgInN0cm9rZSI6IHRydWUsICJ3ZWlnaHQiOiAzfQogICAgICAgICAgICApLmFkZFRvKG1hcF84YjkwNzc3M2MyZTc0NjM0ODE0YzNmZjJjZWMxZGY4Mik7CiAgICAgICAgCiAgICAKICAgICAgICB2YXIgcG9wdXBfODE2YzM5NDY3MjU1NDU1ZWE3ZTA3OGQ1NTdiZjljMmEgPSBMLnBvcHVwKHsibWF4V2lkdGgiOiAiMTAwJSJ9KTsKCiAgICAgICAgCiAgICAgICAgICAgIHZhciBodG1sX2IyMGNiZDg4MWEwNzRkY2M5ZmU5MzhkZGY1OWI0NTc2ID0gJChgPGRpdiBpZD0iaHRtbF9iMjBjYmQ4ODFhMDc0ZGNjOWZlOTM4ZGRmNTliNDU3NiIgc3R5bGU9IndpZHRoOiAxMDAuMCU7IGhlaWdodDogMTAwLjAlOyI+SGlnaCBQYXJrLCBUaGUgSnVuY3Rpb24gU291dGgsIFdlc3QgVG9yb250bzwvZGl2PmApWzBdOwogICAgICAgICAgICBwb3B1cF84MTZjMzk0NjcyNTU0NTVlYTdlMDc4ZDU1N2JmOWMyYS5zZXRDb250ZW50KGh0bWxfYjIwY2JkODgxYTA3NGRjYzlmZTkzOGRkZjU5YjQ1NzYpOwogICAgICAgIAoKICAgICAgICBjaXJjbGVfbWFya2VyXzgwOWFlOTAyNjg5MzQyMTU5MTg0YzU4MDllZWM0ZjI1LmJpbmRQb3B1cChwb3B1cF84MTZjMzk0NjcyNTU0NTVlYTdlMDc4ZDU1N2JmOWMyYSkKICAgICAgICA7CgogICAgICAgIAogICAgCiAgICAKICAgICAgICAgICAgdmFyIGNpcmNsZV9tYXJrZXJfZjQ4NWE1NTQyZjkxNGQ4MzhmMjRmM2RkYmZjNTI3OTcgPSBMLmNpcmNsZU1hcmtlcigKICAgICAgICAgICAgICAgIFs0My42OTYzMTksIC03OS41MzIyNDI0MDAwMDAwMl0sCiAgICAgICAgICAgICAgICB7ImJ1YmJsaW5nTW91c2VFdmVudHMiOiB0cnVlLCAiY29sb3IiOiAicmVkIiwgImRhc2hBcnJheSI6IG51bGwsICJkYXNoT2Zmc2V0IjogbnVsbCwgImZpbGwiOiB0cnVlLCAiZmlsbENvbG9yIjogInJlZCIsICJmaWxsT3BhY2l0eSI6IDAuMiwgImZpbGxSdWxlIjogImV2ZW5vZGQiLCAibGluZUNhcCI6ICJyb3VuZCIsICJsaW5lSm9pbiI6ICJyb3VuZCIsICJvcGFjaXR5IjogMS4wLCAicmFkaXVzIjogNSwgInN0cm9rZSI6IHRydWUsICJ3ZWlnaHQiOiAzfQogICAgICAgICAgICApLmFkZFRvKG1hcF84YjkwNzc3M2MyZTc0NjM0ODE0YzNmZjJjZWMxZGY4Mik7CiAgICAgICAgCiAgICAKICAgICAgICB2YXIgcG9wdXBfMjI2NGE4ZmZhYmRkNDdjNzk4YzZhYmE3NmQxMWYwODAgPSBMLnBvcHVwKHsibWF4V2lkdGgiOiAiMTAwJSJ9KTsKCiAgICAgICAgCiAgICAgICAgICAgIHZhciBodG1sXzI0OWZkMTk5NDQ1YzQ1MDZiNzQ4OWNiMmY0YzA1NTNhID0gJChgPGRpdiBpZD0iaHRtbF8yNDlmZDE5OTQ0NWM0NTA2Yjc0ODljYjJmNGMwNTUzYSIgc3R5bGU9IndpZHRoOiAxMDAuMCU7IGhlaWdodDogMTAwLjAlOyI+V2VzdG1vdW50LCBFdG9iaWNva2U8L2Rpdj5gKVswXTsKICAgICAgICAgICAgcG9wdXBfMjI2NGE4ZmZhYmRkNDdjNzk4YzZhYmE3NmQxMWYwODAuc2V0Q29udGVudChodG1sXzI0OWZkMTk5NDQ1YzQ1MDZiNzQ4OWNiMmY0YzA1NTNhKTsKICAgICAgICAKCiAgICAgICAgY2lyY2xlX21hcmtlcl9mNDg1YTU1NDJmOTE0ZDgzOGYyNGYzZGRiZmM1Mjc5Ny5iaW5kUG9wdXAocG9wdXBfMjI2NGE4ZmZhYmRkNDdjNzk4YzZhYmE3NmQxMWYwODApCiAgICAgICAgOwoKICAgICAgICAKICAgIAogICAgCiAgICAgICAgICAgIHZhciBjaXJjbGVfbWFya2VyXzQzMmMxYzEwMGZiYzQ3ZTg4Njg4MzBmY2I4MTg0MmIxID0gTC5jaXJjbGVNYXJrZXIoCiAgICAgICAgICAgICAgICBbNDMuNzUwMDcxNTAwMDAwMDA0LCAtNzkuMjk1ODQ5MV0sCiAgICAgICAgICAgICAgICB7ImJ1YmJsaW5nTW91c2VFdmVudHMiOiB0cnVlLCAiY29sb3IiOiAicmVkIiwgImRhc2hBcnJheSI6IG51bGwsICJkYXNoT2Zmc2V0IjogbnVsbCwgImZpbGwiOiB0cnVlLCAiZmlsbENvbG9yIjogInJlZCIsICJmaWxsT3BhY2l0eSI6IDAuMiwgImZpbGxSdWxlIjogImV2ZW5vZGQiLCAibGluZUNhcCI6ICJyb3VuZCIsICJsaW5lSm9pbiI6ICJyb3VuZCIsICJvcGFjaXR5IjogMS4wLCAicmFkaXVzIjogNSwgInN0cm9rZSI6IHRydWUsICJ3ZWlnaHQiOiAzfQogICAgICAgICAgICApLmFkZFRvKG1hcF84YjkwNzc3M2MyZTc0NjM0ODE0YzNmZjJjZWMxZGY4Mik7CiAgICAgICAgCiAgICAKICAgICAgICB2YXIgcG9wdXBfMzNjODlhYjBmYTdlNDQ2MTkyOGUzYjVhNWRjZWUxNWQgPSBMLnBvcHVwKHsibWF4V2lkdGgiOiAiMTAwJSJ9KTsKCiAgICAgICAgCiAgICAgICAgICAgIHZhciBodG1sXzE1YjJhZTUzYTI1OTQ3NTQ5NDc2OTE2MjYzZGUwMDVlID0gJChgPGRpdiBpZD0iaHRtbF8xNWIyYWU1M2EyNTk0NzU0OTQ3NjkxNjI2M2RlMDA1ZSIgc3R5bGU9IndpZHRoOiAxMDAuMCU7IGhlaWdodDogMTAwLjAlOyI+V2V4Zm9yZCwgTWFyeXZhbGUsIFNjYXJib3JvdWdoPC9kaXY+YClbMF07CiAgICAgICAgICAgIHBvcHVwXzMzYzg5YWIwZmE3ZTQ0NjE5MjhlM2I1YTVkY2VlMTVkLnNldENvbnRlbnQoaHRtbF8xNWIyYWU1M2EyNTk0NzU0OTQ3NjkxNjI2M2RlMDA1ZSk7CiAgICAgICAgCgogICAgICAgIGNpcmNsZV9tYXJrZXJfNDMyYzFjMTAwZmJjNDdlODg2ODgzMGZjYjgxODQyYjEuYmluZFBvcHVwKHBvcHVwXzMzYzg5YWIwZmE3ZTQ0NjE5MjhlM2I1YTVkY2VlMTVkKQogICAgICAgIDsKCiAgICAgICAgCiAgICAKICAgIAogICAgICAgICAgICB2YXIgY2lyY2xlX21hcmtlcl85NWZhNzg1ZTY0NTA0MzYxYTNmZjQ2OTdjNzhlOWIyYSA9IEwuY2lyY2xlTWFya2VyKAogICAgICAgICAgICAgICAgWzQzLjc4MjczNjQsIC03OS40NDIyNTkzXSwKICAgICAgICAgICAgICAgIHsiYnViYmxpbmdNb3VzZUV2ZW50cyI6IHRydWUsICJjb2xvciI6ICJyZWQiLCAiZGFzaEFycmF5IjogbnVsbCwgImRhc2hPZmZzZXQiOiBudWxsLCAiZmlsbCI6IHRydWUsICJmaWxsQ29sb3IiOiAicmVkIiwgImZpbGxPcGFjaXR5IjogMC4yLCAiZmlsbFJ1bGUiOiAiZXZlbm9kZCIsICJsaW5lQ2FwIjogInJvdW5kIiwgImxpbmVKb2luIjogInJvdW5kIiwgIm9wYWNpdHkiOiAxLjAsICJyYWRpdXMiOiA1LCAic3Ryb2tlIjogdHJ1ZSwgIndlaWdodCI6IDN9CiAgICAgICAgICAgICkuYWRkVG8obWFwXzhiOTA3NzczYzJlNzQ2MzQ4MTRjM2ZmMmNlYzFkZjgyKTsKICAgICAgICAKICAgIAogICAgICAgIHZhciBwb3B1cF8zZmJmN2NjMTZkMWM0ODZhOTYxMmEzOWFhYTc0NTNkNiA9IEwucG9wdXAoeyJtYXhXaWR0aCI6ICIxMDAlIn0pOwoKICAgICAgICAKICAgICAgICAgICAgdmFyIGh0bWxfNjMzMjE1ZGI0MjM4NDkxYjg5ODY3ZjY4NGVmNzM3OTUgPSAkKGA8ZGl2IGlkPSJodG1sXzYzMzIxNWRiNDIzODQ5MWI4OTg2N2Y2ODRlZjczNzk1IiBzdHlsZT0id2lkdGg6IDEwMC4wJTsgaGVpZ2h0OiAxMDAuMCU7Ij5XaWxsb3dkYWxlLCBXaWxsb3dkYWxlIFdlc3QsIE5vcnRoIFlvcms8L2Rpdj5gKVswXTsKICAgICAgICAgICAgcG9wdXBfM2ZiZjdjYzE2ZDFjNDg2YTk2MTJhMzlhYWE3NDUzZDYuc2V0Q29udGVudChodG1sXzYzMzIxNWRiNDIzODQ5MWI4OTg2N2Y2ODRlZjczNzk1KTsKICAgICAgICAKCiAgICAgICAgY2lyY2xlX21hcmtlcl85NWZhNzg1ZTY0NTA0MzYxYTNmZjQ2OTdjNzhlOWIyYS5iaW5kUG9wdXAocG9wdXBfM2ZiZjdjYzE2ZDFjNDg2YTk2MTJhMzlhYWE3NDUzZDYpCiAgICAgICAgOwoKICAgICAgICAKICAgIAogICAgCiAgICAgICAgICAgIHZhciBjaXJjbGVfbWFya2VyX2FjNTBlYzdhOTM0NDRmNjliZTM0MDA4NDgzYmM1NzRiID0gTC5jaXJjbGVNYXJrZXIoCiAgICAgICAgICAgICAgICBbNDMuNzE1MzgzNCwgLTc5LjQwNTY3ODQwMDAwMDAxXSwKICAgICAgICAgICAgICAgIHsiYnViYmxpbmdNb3VzZUV2ZW50cyI6IHRydWUsICJjb2xvciI6ICJyZWQiLCAiZGFzaEFycmF5IjogbnVsbCwgImRhc2hPZmZzZXQiOiBudWxsLCAiZmlsbCI6IHRydWUsICJmaWxsQ29sb3IiOiAicmVkIiwgImZpbGxPcGFjaXR5IjogMC4yLCAiZmlsbFJ1bGUiOiAiZXZlbm9kZCIsICJsaW5lQ2FwIjogInJvdW5kIiwgImxpbmVKb2luIjogInJvdW5kIiwgIm9wYWNpdHkiOiAxLjAsICJyYWRpdXMiOiA1LCAic3Ryb2tlIjogdHJ1ZSwgIndlaWdodCI6IDN9CiAgICAgICAgICAgICkuYWRkVG8obWFwXzhiOTA3NzczYzJlNzQ2MzQ4MTRjM2ZmMmNlYzFkZjgyKTsKICAgICAgICAKICAgIAogICAgICAgIHZhciBwb3B1cF85ODYwNmEwMTk2YzQ0ZDZmYWVhNTE0ODkzYmE2MDU1MiA9IEwucG9wdXAoeyJtYXhXaWR0aCI6ICIxMDAlIn0pOwoKICAgICAgICAKICAgICAgICAgICAgdmFyIGh0bWxfZGY2NWFkOWMwYTE2NDhmNTlmZjI0ZTdhYjc1MDU0ZGIgPSAkKGA8ZGl2IGlkPSJodG1sX2RmNjVhZDljMGExNjQ4ZjU5ZmYyNGU3YWI3NTA1NGRiIiBzdHlsZT0id2lkdGg6IDEwMC4wJTsgaGVpZ2h0OiAxMDAuMCU7Ij5Ob3J0aCBUb3JvbnRvIFdlc3QsIExhd3JlbmNlIFBhcmssIENlbnRyYWwgVG9yb250bzwvZGl2PmApWzBdOwogICAgICAgICAgICBwb3B1cF85ODYwNmEwMTk2YzQ0ZDZmYWVhNTE0ODkzYmE2MDU1Mi5zZXRDb250ZW50KGh0bWxfZGY2NWFkOWMwYTE2NDhmNTlmZjI0ZTdhYjc1MDU0ZGIpOwogICAgICAgIAoKICAgICAgICBjaXJjbGVfbWFya2VyX2FjNTBlYzdhOTM0NDRmNjliZTM0MDA4NDgzYmM1NzRiLmJpbmRQb3B1cChwb3B1cF85ODYwNmEwMTk2YzQ0ZDZmYWVhNTE0ODkzYmE2MDU1MikKICAgICAgICA7CgogICAgICAgIAogICAgCiAgICAKICAgICAgICAgICAgdmFyIGNpcmNsZV9tYXJrZXJfY2VjODIzOWZkYjk3NDY0ODlkYjA0ZjMwYjVkMWM0ODUgPSBMLmNpcmNsZU1hcmtlcigKICAgICAgICAgICAgICAgIFs0My42NzI3MDk3LCAtNzkuNDA1Njc4NDAwMDAwMDFdLAogICAgICAgICAgICAgICAgeyJidWJibGluZ01vdXNlRXZlbnRzIjogdHJ1ZSwgImNvbG9yIjogInJlZCIsICJkYXNoQXJyYXkiOiBudWxsLCAiZGFzaE9mZnNldCI6IG51bGwsICJmaWxsIjogdHJ1ZSwgImZpbGxDb2xvciI6ICJyZWQiLCAiZmlsbE9wYWNpdHkiOiAwLjIsICJmaWxsUnVsZSI6ICJldmVub2RkIiwgImxpbmVDYXAiOiAicm91bmQiLCAibGluZUpvaW4iOiAicm91bmQiLCAib3BhY2l0eSI6IDEuMCwgInJhZGl1cyI6IDUsICJzdHJva2UiOiB0cnVlLCAid2VpZ2h0IjogM30KICAgICAgICAgICAgKS5hZGRUbyhtYXBfOGI5MDc3NzNjMmU3NDYzNDgxNGMzZmYyY2VjMWRmODIpOwogICAgICAgIAogICAgCiAgICAgICAgdmFyIHBvcHVwXzYyZGM0OGIxOGM4NjQzYmM4ODM1OGYyNDIxNTQ3NTVlID0gTC5wb3B1cCh7Im1heFdpZHRoIjogIjEwMCUifSk7CgogICAgICAgIAogICAgICAgICAgICB2YXIgaHRtbF85NDQ2NWNhMzhlZWI0MmE4YjVkMGM2YjY1YWM1MjMzZSA9ICQoYDxkaXYgaWQ9Imh0bWxfOTQ0NjVjYTM4ZWViNDJhOGI1ZDBjNmI2NWFjNTIzM2UiIHN0eWxlPSJ3aWR0aDogMTAwLjAlOyBoZWlnaHQ6IDEwMC4wJTsiPlRoZSBBbm5leCwgTm9ydGggTWlkdG93biwgWW9ya3ZpbGxlLCBDZW50cmFsIFRvcm9udG88L2Rpdj5gKVswXTsKICAgICAgICAgICAgcG9wdXBfNjJkYzQ4YjE4Yzg2NDNiYzg4MzU4ZjI0MjE1NDc1NWUuc2V0Q29udGVudChodG1sXzk0NDY1Y2EzOGVlYjQyYThiNWQwYzZiNjVhYzUyMzNlKTsKICAgICAgICAKCiAgICAgICAgY2lyY2xlX21hcmtlcl9jZWM4MjM5ZmRiOTc0NjQ4OWRiMDRmMzBiNWQxYzQ4NS5iaW5kUG9wdXAocG9wdXBfNjJkYzQ4YjE4Yzg2NDNiYzg4MzU4ZjI0MjE1NDc1NWUpCiAgICAgICAgOwoKICAgICAgICAKICAgIAogICAgCiAgICAgICAgICAgIHZhciBjaXJjbGVfbWFya2VyXzIxMTY4Nzc2Y2M0MjRhYzFiZTA4ZmE2YjAwOTIyNGMyID0gTC5jaXJjbGVNYXJrZXIoCiAgICAgICAgICAgICAgICBbNDMuNjQ4OTU5NywgLTc5LjQ1NjMyNV0sCiAgICAgICAgICAgICAgICB7ImJ1YmJsaW5nTW91c2VFdmVudHMiOiB0cnVlLCAiY29sb3IiOiAicmVkIiwgImRhc2hBcnJheSI6IG51bGwsICJkYXNoT2Zmc2V0IjogbnVsbCwgImZpbGwiOiB0cnVlLCAiZmlsbENvbG9yIjogInJlZCIsICJmaWxsT3BhY2l0eSI6IDAuMiwgImZpbGxSdWxlIjogImV2ZW5vZGQiLCAibGluZUNhcCI6ICJyb3VuZCIsICJsaW5lSm9pbiI6ICJyb3VuZCIsICJvcGFjaXR5IjogMS4wLCAicmFkaXVzIjogNSwgInN0cm9rZSI6IHRydWUsICJ3ZWlnaHQiOiAzfQogICAgICAgICAgICApLmFkZFRvKG1hcF84YjkwNzc3M2MyZTc0NjM0ODE0YzNmZjJjZWMxZGY4Mik7CiAgICAgICAgCiAgICAKICAgICAgICB2YXIgcG9wdXBfNjBmODQyYjQ1NTNiNDI3OTljNTg0ZDZjZTQ5ZGVjYzAgPSBMLnBvcHVwKHsibWF4V2lkdGgiOiAiMTAwJSJ9KTsKCiAgICAgICAgCiAgICAgICAgICAgIHZhciBodG1sXzA1MWFkY2JiYWU1NzQxNjU5MzNkM2IyNDkwM2I5OGU2ID0gJChgPGRpdiBpZD0iaHRtbF8wNTFhZGNiYmFlNTc0MTY1OTMzZDNiMjQ5MDNiOThlNiIgc3R5bGU9IndpZHRoOiAxMDAuMCU7IGhlaWdodDogMTAwLjAlOyI+UGFya2RhbGUsIFJvbmNlc3ZhbGxlcywgV2VzdCBUb3JvbnRvPC9kaXY+YClbMF07CiAgICAgICAgICAgIHBvcHVwXzYwZjg0MmI0NTUzYjQyNzk5YzU4NGQ2Y2U0OWRlY2MwLnNldENvbnRlbnQoaHRtbF8wNTFhZGNiYmFlNTc0MTY1OTMzZDNiMjQ5MDNiOThlNik7CiAgICAgICAgCgogICAgICAgIGNpcmNsZV9tYXJrZXJfMjExNjg3NzZjYzQyNGFjMWJlMDhmYTZiMDA5MjI0YzIuYmluZFBvcHVwKHBvcHVwXzYwZjg0MmI0NTUzYjQyNzk5YzU4NGQ2Y2U0OWRlY2MwKQogICAgICAgIDsKCiAgICAgICAgCiAgICAKICAgIAogICAgICAgICAgICB2YXIgY2lyY2xlX21hcmtlcl85YzM4OTFmMDdjYjY0MjhkODA5OGFjM2MwNzljZTM0MiA9IEwuY2lyY2xlTWFya2VyKAogICAgICAgICAgICAgICAgWzQzLjYzNjk2NTYsIC03OS42MTU4MTg5OTk5OTk5OV0sCiAgICAgICAgICAgICAgICB7ImJ1YmJsaW5nTW91c2VFdmVudHMiOiB0cnVlLCAiY29sb3IiOiAicmVkIiwgImRhc2hBcnJheSI6IG51bGwsICJkYXNoT2Zmc2V0IjogbnVsbCwgImZpbGwiOiB0cnVlLCAiZmlsbENvbG9yIjogInJlZCIsICJmaWxsT3BhY2l0eSI6IDAuMiwgImZpbGxSdWxlIjogImV2ZW5vZGQiLCAibGluZUNhcCI6ICJyb3VuZCIsICJsaW5lSm9pbiI6ICJyb3VuZCIsICJvcGFjaXR5IjogMS4wLCAicmFkaXVzIjogNSwgInN0cm9rZSI6IHRydWUsICJ3ZWlnaHQiOiAzfQogICAgICAgICAgICApLmFkZFRvKG1hcF84YjkwNzc3M2MyZTc0NjM0ODE0YzNmZjJjZWMxZGY4Mik7CiAgICAgICAgCiAgICAKICAgICAgICB2YXIgcG9wdXBfOGFkODAyZTc0YTAzNDIxY2IwYmIxMzdkZTg4YzkwMjYgPSBMLnBvcHVwKHsibWF4V2lkdGgiOiAiMTAwJSJ9KTsKCiAgICAgICAgCiAgICAgICAgICAgIHZhciBodG1sXzcyZDYzODJlNjJlODQzNWM5NTkwMjIxNzMwMTU0Y2U1ID0gJChgPGRpdiBpZD0iaHRtbF83MmQ2MzgyZTYyZTg0MzVjOTU5MDIyMTczMDE1NGNlNSIgc3R5bGU9IndpZHRoOiAxMDAuMCU7IGhlaWdodDogMTAwLjAlOyI+Q2FuYWRhIFBvc3QgR2F0ZXdheSBQcm9jZXNzaW5nIENlbnRyZSwgTWlzc2lzc2F1Z2E8L2Rpdj5gKVswXTsKICAgICAgICAgICAgcG9wdXBfOGFkODAyZTc0YTAzNDIxY2IwYmIxMzdkZTg4YzkwMjYuc2V0Q29udGVudChodG1sXzcyZDYzODJlNjJlODQzNWM5NTkwMjIxNzMwMTU0Y2U1KTsKICAgICAgICAKCiAgICAgICAgY2lyY2xlX21hcmtlcl85YzM4OTFmMDdjYjY0MjhkODA5OGFjM2MwNzljZTM0Mi5iaW5kUG9wdXAocG9wdXBfOGFkODAyZTc0YTAzNDIxY2IwYmIxMzdkZTg4YzkwMjYpCiAgICAgICAgOwoKICAgICAgICAKICAgIAogICAgCiAgICAgICAgICAgIHZhciBjaXJjbGVfbWFya2VyXzU5NjExNjFkMDMyZjQ1MjNiODUxNmIzOTVmMDZiNzc4ID0gTC5jaXJjbGVNYXJrZXIoCiAgICAgICAgICAgICAgICBbNDMuNjg4OTA1NCwgLTc5LjU1NDcyNDQwMDAwMDAxXSwKICAgICAgICAgICAgICAgIHsiYnViYmxpbmdNb3VzZUV2ZW50cyI6IHRydWUsICJjb2xvciI6ICJyZWQiLCAiZGFzaEFycmF5IjogbnVsbCwgImRhc2hPZmZzZXQiOiBudWxsLCAiZmlsbCI6IHRydWUsICJmaWxsQ29sb3IiOiAicmVkIiwgImZpbGxPcGFjaXR5IjogMC4yLCAiZmlsbFJ1bGUiOiAiZXZlbm9kZCIsICJsaW5lQ2FwIjogInJvdW5kIiwgImxpbmVKb2luIjogInJvdW5kIiwgIm9wYWNpdHkiOiAxLjAsICJyYWRpdXMiOiA1LCAic3Ryb2tlIjogdHJ1ZSwgIndlaWdodCI6IDN9CiAgICAgICAgICAgICkuYWRkVG8obWFwXzhiOTA3NzczYzJlNzQ2MzQ4MTRjM2ZmMmNlYzFkZjgyKTsKICAgICAgICAKICAgIAogICAgICAgIHZhciBwb3B1cF81MTg2N2JlOGVmMDY0Y2Y1OTRlNTA0N2RjNWQzZTFiNCA9IEwucG9wdXAoeyJtYXhXaWR0aCI6ICIxMDAlIn0pOwoKICAgICAgICAKICAgICAgICAgICAgdmFyIGh0bWxfNjc3NDIxOGRkNmJkNDFiYTliMGEwNjA0ODI5NTJjNmYgPSAkKGA8ZGl2IGlkPSJodG1sXzY3NzQyMThkZDZiZDQxYmE5YjBhMDYwNDgyOTUyYzZmIiBzdHlsZT0id2lkdGg6IDEwMC4wJTsgaGVpZ2h0OiAxMDAuMCU7Ij5LaW5nc3ZpZXcgVmlsbGFnZSwgU3QuIFBoaWxsaXBzLCBNYXJ0aW4gR3JvdmUgR2FyZGVucywgUmljaHZpZXcgR2FyZGVucywgRXRvYmljb2tlPC9kaXY+YClbMF07CiAgICAgICAgICAgIHBvcHVwXzUxODY3YmU4ZWYwNjRjZjU5NGU1MDQ3ZGM1ZDNlMWI0LnNldENvbnRlbnQoaHRtbF82Nzc0MjE4ZGQ2YmQ0MWJhOWIwYTA2MDQ4Mjk1MmM2Zik7CiAgICAgICAgCgogICAgICAgIGNpcmNsZV9tYXJrZXJfNTk2MTE2MWQwMzJmNDUyM2I4NTE2YjM5NWYwNmI3NzguYmluZFBvcHVwKHBvcHVwXzUxODY3YmU4ZWYwNjRjZjU5NGU1MDQ3ZGM1ZDNlMWI0KQogICAgICAgIDsKCiAgICAgICAgCiAgICAKICAgIAogICAgICAgICAgICB2YXIgY2lyY2xlX21hcmtlcl80NzQyMzlkMTQ1MzE0ZDg4YmRjZWIxOGNlMDVhNDczMCA9IEwuY2lyY2xlTWFya2VyKAogICAgICAgICAgICAgICAgWzQzLjc5NDIwMDMsIC03OS4yNjIwMjk0MDAwMDAwMl0sCiAgICAgICAgICAgICAgICB7ImJ1YmJsaW5nTW91c2VFdmVudHMiOiB0cnVlLCAiY29sb3IiOiAicmVkIiwgImRhc2hBcnJheSI6IG51bGwsICJkYXNoT2Zmc2V0IjogbnVsbCwgImZpbGwiOiB0cnVlLCAiZmlsbENvbG9yIjogInJlZCIsICJmaWxsT3BhY2l0eSI6IDAuMiwgImZpbGxSdWxlIjogImV2ZW5vZGQiLCAibGluZUNhcCI6ICJyb3VuZCIsICJsaW5lSm9pbiI6ICJyb3VuZCIsICJvcGFjaXR5IjogMS4wLCAicmFkaXVzIjogNSwgInN0cm9rZSI6IHRydWUsICJ3ZWlnaHQiOiAzfQogICAgICAgICAgICApLmFkZFRvKG1hcF84YjkwNzc3M2MyZTc0NjM0ODE0YzNmZjJjZWMxZGY4Mik7CiAgICAgICAgCiAgICAKICAgICAgICB2YXIgcG9wdXBfY2M0NTE5ZjJmYTlmNDc0YmE3N2FjNTkyZjFhY2ZkNTAgPSBMLnBvcHVwKHsibWF4V2lkdGgiOiAiMTAwJSJ9KTsKCiAgICAgICAgCiAgICAgICAgICAgIHZhciBodG1sXzY1YjAxY2FiMDljYzRhOTFiMzZkNTQ5YWY4N2NlYjA2ID0gJChgPGRpdiBpZD0iaHRtbF82NWIwMWNhYjA5Y2M0YTkxYjM2ZDU0OWFmODdjZWIwNiIgc3R5bGU9IndpZHRoOiAxMDAuMCU7IGhlaWdodDogMTAwLjAlOyI+QWdpbmNvdXJ0LCBTY2FyYm9yb3VnaDwvZGl2PmApWzBdOwogICAgICAgICAgICBwb3B1cF9jYzQ1MTlmMmZhOWY0NzRiYTc3YWM1OTJmMWFjZmQ1MC5zZXRDb250ZW50KGh0bWxfNjViMDFjYWIwOWNjNGE5MWIzNmQ1NDlhZjg3Y2ViMDYpOwogICAgICAgIAoKICAgICAgICBjaXJjbGVfbWFya2VyXzQ3NDIzOWQxNDUzMTRkODhiZGNlYjE4Y2UwNWE0NzMwLmJpbmRQb3B1cChwb3B1cF9jYzQ1MTlmMmZhOWY0NzRiYTc3YWM1OTJmMWFjZmQ1MCkKICAgICAgICA7CgogICAgICAgIAogICAgCiAgICAKICAgICAgICAgICAgdmFyIGNpcmNsZV9tYXJrZXJfNzM5ZjNjNTVkODEyNGIwY2IyNWQ0MTM5NjQ4NTNhYmQgPSBMLmNpcmNsZU1hcmtlcigKICAgICAgICAgICAgICAgIFs0My43MDQzMjQ0LCAtNzkuMzg4NzkwMV0sCiAgICAgICAgICAgICAgICB7ImJ1YmJsaW5nTW91c2VFdmVudHMiOiB0cnVlLCAiY29sb3IiOiAicmVkIiwgImRhc2hBcnJheSI6IG51bGwsICJkYXNoT2Zmc2V0IjogbnVsbCwgImZpbGwiOiB0cnVlLCAiZmlsbENvbG9yIjogInJlZCIsICJmaWxsT3BhY2l0eSI6IDAuMiwgImZpbGxSdWxlIjogImV2ZW5vZGQiLCAibGluZUNhcCI6ICJyb3VuZCIsICJsaW5lSm9pbiI6ICJyb3VuZCIsICJvcGFjaXR5IjogMS4wLCAicmFkaXVzIjogNSwgInN0cm9rZSI6IHRydWUsICJ3ZWlnaHQiOiAzfQogICAgICAgICAgICApLmFkZFRvKG1hcF84YjkwNzc3M2MyZTc0NjM0ODE0YzNmZjJjZWMxZGY4Mik7CiAgICAgICAgCiAgICAKICAgICAgICB2YXIgcG9wdXBfOTcwYzVmMDFkZDU3NDNiNDg3ZjU0NmEwMGZiMTU3ZTggPSBMLnBvcHVwKHsibWF4V2lkdGgiOiAiMTAwJSJ9KTsKCiAgICAgICAgCiAgICAgICAgICAgIHZhciBodG1sX2VkYjlmN2E3NmI5MzQzM2U5NzNlZjk5NGNkODVhNWFkID0gJChgPGRpdiBpZD0iaHRtbF9lZGI5ZjdhNzZiOTM0MzNlOTczZWY5OTRjZDg1YTVhZCIgc3R5bGU9IndpZHRoOiAxMDAuMCU7IGhlaWdodDogMTAwLjAlOyI+RGF2aXN2aWxsZSwgQ2VudHJhbCBUb3JvbnRvPC9kaXY+YClbMF07CiAgICAgICAgICAgIHBvcHVwXzk3MGM1ZjAxZGQ1NzQzYjQ4N2Y1NDZhMDBmYjE1N2U4LnNldENvbnRlbnQoaHRtbF9lZGI5ZjdhNzZiOTM0MzNlOTczZWY5OTRjZDg1YTVhZCk7CiAgICAgICAgCgogICAgICAgIGNpcmNsZV9tYXJrZXJfNzM5ZjNjNTVkODEyNGIwY2IyNWQ0MTM5NjQ4NTNhYmQuYmluZFBvcHVwKHBvcHVwXzk3MGM1ZjAxZGQ1NzQzYjQ4N2Y1NDZhMDBmYjE1N2U4KQogICAgICAgIDsKCiAgICAgICAgCiAgICAKICAgIAogICAgICAgICAgICB2YXIgY2lyY2xlX21hcmtlcl84NGU1NDg3MjE4Nzg0MzU5YmM1OWNhNmM2NzhhNjAyMCA9IEwuY2lyY2xlTWFya2VyKAogICAgICAgICAgICAgICAgWzQzLjY2MjY5NTYsIC03OS40MDAwNDkzXSwKICAgICAgICAgICAgICAgIHsiYnViYmxpbmdNb3VzZUV2ZW50cyI6IHRydWUsICJjb2xvciI6ICJyZWQiLCAiZGFzaEFycmF5IjogbnVsbCwgImRhc2hPZmZzZXQiOiBudWxsLCAiZmlsbCI6IHRydWUsICJmaWxsQ29sb3IiOiAicmVkIiwgImZpbGxPcGFjaXR5IjogMC4yLCAiZmlsbFJ1bGUiOiAiZXZlbm9kZCIsICJsaW5lQ2FwIjogInJvdW5kIiwgImxpbmVKb2luIjogInJvdW5kIiwgIm9wYWNpdHkiOiAxLjAsICJyYWRpdXMiOiA1LCAic3Ryb2tlIjogdHJ1ZSwgIndlaWdodCI6IDN9CiAgICAgICAgICAgICkuYWRkVG8obWFwXzhiOTA3NzczYzJlNzQ2MzQ4MTRjM2ZmMmNlYzFkZjgyKTsKICAgICAgICAKICAgIAogICAgICAgIHZhciBwb3B1cF9kMGU0MGM5OGEyNTA0OTU5ODliOTRkMDliNjlhNmE3NiA9IEwucG9wdXAoeyJtYXhXaWR0aCI6ICIxMDAlIn0pOwoKICAgICAgICAKICAgICAgICAgICAgdmFyIGh0bWxfZDdkZjI4MGVjOTk1NDg3MWE0Mzg0ZGNkNTA1ZmFmYWYgPSAkKGA8ZGl2IGlkPSJodG1sX2Q3ZGYyODBlYzk5NTQ4NzFhNDM4NGRjZDUwNWZhZmFmIiBzdHlsZT0id2lkdGg6IDEwMC4wJTsgaGVpZ2h0OiAxMDAuMCU7Ij5Vbml2ZXJzaXR5IG9mIFRvcm9udG8sIEhhcmJvcmQsIERvd250b3duIFRvcm9udG88L2Rpdj5gKVswXTsKICAgICAgICAgICAgcG9wdXBfZDBlNDBjOThhMjUwNDk1OTg5Yjk0ZDA5YjY5YTZhNzYuc2V0Q29udGVudChodG1sX2Q3ZGYyODBlYzk5NTQ4NzFhNDM4NGRjZDUwNWZhZmFmKTsKICAgICAgICAKCiAgICAgICAgY2lyY2xlX21hcmtlcl84NGU1NDg3MjE4Nzg0MzU5YmM1OWNhNmM2NzhhNjAyMC5iaW5kUG9wdXAocG9wdXBfZDBlNDBjOThhMjUwNDk1OTg5Yjk0ZDA5YjY5YTZhNzYpCiAgICAgICAgOwoKICAgICAgICAKICAgIAogICAgCiAgICAgICAgICAgIHZhciBjaXJjbGVfbWFya2VyXzdmNWQ0NDYxNWZmNzRmNWFhNDhhNDY4YzQ3ZWUwNzUxID0gTC5jaXJjbGVNYXJrZXIoCiAgICAgICAgICAgICAgICBbNDMuNjUxNTcwNiwgLTc5LjQ4NDQ0OTldLAogICAgICAgICAgICAgICAgeyJidWJibGluZ01vdXNlRXZlbnRzIjogdHJ1ZSwgImNvbG9yIjogInJlZCIsICJkYXNoQXJyYXkiOiBudWxsLCAiZGFzaE9mZnNldCI6IG51bGwsICJmaWxsIjogdHJ1ZSwgImZpbGxDb2xvciI6ICJyZWQiLCAiZmlsbE9wYWNpdHkiOiAwLjIsICJmaWxsUnVsZSI6ICJldmVub2RkIiwgImxpbmVDYXAiOiAicm91bmQiLCAibGluZUpvaW4iOiAicm91bmQiLCAib3BhY2l0eSI6IDEuMCwgInJhZGl1cyI6IDUsICJzdHJva2UiOiB0cnVlLCAid2VpZ2h0IjogM30KICAgICAgICAgICAgKS5hZGRUbyhtYXBfOGI5MDc3NzNjMmU3NDYzNDgxNGMzZmYyY2VjMWRmODIpOwogICAgICAgIAogICAgCiAgICAgICAgdmFyIHBvcHVwXzBhNTgwYzNmMTM2MTRkOWY4MDk2MDBkMDc0NjU0MDYxID0gTC5wb3B1cCh7Im1heFdpZHRoIjogIjEwMCUifSk7CgogICAgICAgIAogICAgICAgICAgICB2YXIgaHRtbF8zNmE5NWM3YTQ0YTQ0YzUyYWNmZTM1ZDRmMTFjZWUyMiA9ICQoYDxkaXYgaWQ9Imh0bWxfMzZhOTVjN2E0NGE0NGM1MmFjZmUzNWQ0ZjExY2VlMjIiIHN0eWxlPSJ3aWR0aDogMTAwLjAlOyBoZWlnaHQ6IDEwMC4wJTsiPlJ1bm55bWVkZSwgU3dhbnNlYSwgV2VzdCBUb3JvbnRvPC9kaXY+YClbMF07CiAgICAgICAgICAgIHBvcHVwXzBhNTgwYzNmMTM2MTRkOWY4MDk2MDBkMDc0NjU0MDYxLnNldENvbnRlbnQoaHRtbF8zNmE5NWM3YTQ0YTQ0YzUyYWNmZTM1ZDRmMTFjZWUyMik7CiAgICAgICAgCgogICAgICAgIGNpcmNsZV9tYXJrZXJfN2Y1ZDQ0NjE1ZmY3NGY1YWE0OGE0NjhjNDdlZTA3NTEuYmluZFBvcHVwKHBvcHVwXzBhNTgwYzNmMTM2MTRkOWY4MDk2MDBkMDc0NjU0MDYxKQogICAgICAgIDsKCiAgICAgICAgCiAgICAKICAgIAogICAgICAgICAgICB2YXIgY2lyY2xlX21hcmtlcl9iYmJkZTlmNzI4MTY0NTAxOGIxNWEyMjc4ZDcxZDRhNCA9IEwuY2lyY2xlTWFya2VyKAogICAgICAgICAgICAgICAgWzQzLjc4MTYzNzUsIC03OS4zMDQzMDIxXSwKICAgICAgICAgICAgICAgIHsiYnViYmxpbmdNb3VzZUV2ZW50cyI6IHRydWUsICJjb2xvciI6ICJyZWQiLCAiZGFzaEFycmF5IjogbnVsbCwgImRhc2hPZmZzZXQiOiBudWxsLCAiZmlsbCI6IHRydWUsICJmaWxsQ29sb3IiOiAicmVkIiwgImZpbGxPcGFjaXR5IjogMC4yLCAiZmlsbFJ1bGUiOiAiZXZlbm9kZCIsICJsaW5lQ2FwIjogInJvdW5kIiwgImxpbmVKb2luIjogInJvdW5kIiwgIm9wYWNpdHkiOiAxLjAsICJyYWRpdXMiOiA1LCAic3Ryb2tlIjogdHJ1ZSwgIndlaWdodCI6IDN9CiAgICAgICAgICAgICkuYWRkVG8obWFwXzhiOTA3NzczYzJlNzQ2MzQ4MTRjM2ZmMmNlYzFkZjgyKTsKICAgICAgICAKICAgIAogICAgICAgIHZhciBwb3B1cF9mMTRhMTU3YTg1MTM0ZDEzODQ1MGJhY2M1ZGMwZWExOCA9IEwucG9wdXAoeyJtYXhXaWR0aCI6ICIxMDAlIn0pOwoKICAgICAgICAKICAgICAgICAgICAgdmFyIGh0bWxfNjU0MjBlNTdlNWQyNDQzZGE0ZDY0MTczM2UyM2ZiNTkgPSAkKGA8ZGl2IGlkPSJodG1sXzY1NDIwZTU3ZTVkMjQ0M2RhNGQ2NDE3MzNlMjNmYjU5IiBzdHlsZT0id2lkdGg6IDEwMC4wJTsgaGVpZ2h0OiAxMDAuMCU7Ij5DbGFya3MgQ29ybmVycywgVGFtIE8mIzM5O1NoYW50ZXIsIFN1bGxpdmFuLCBTY2FyYm9yb3VnaDwvZGl2PmApWzBdOwogICAgICAgICAgICBwb3B1cF9mMTRhMTU3YTg1MTM0ZDEzODQ1MGJhY2M1ZGMwZWExOC5zZXRDb250ZW50KGh0bWxfNjU0MjBlNTdlNWQyNDQzZGE0ZDY0MTczM2UyM2ZiNTkpOwogICAgICAgIAoKICAgICAgICBjaXJjbGVfbWFya2VyX2JiYmRlOWY3MjgxNjQ1MDE4YjE1YTIyNzhkNzFkNGE0LmJpbmRQb3B1cChwb3B1cF9mMTRhMTU3YTg1MTM0ZDEzODQ1MGJhY2M1ZGMwZWExOCkKICAgICAgICA7CgogICAgICAgIAogICAgCiAgICAKICAgICAgICAgICAgdmFyIGNpcmNsZV9tYXJrZXJfODEzZTc3NTFiMWYyNDQ5MDgyN2MwODYwYjFlZWE5ZGIgPSBMLmNpcmNsZU1hcmtlcigKICAgICAgICAgICAgICAgIFs0My42ODk1NzQzLCAtNzkuMzgzMTU5OTAwMDAwMDFdLAogICAgICAgICAgICAgICAgeyJidWJibGluZ01vdXNlRXZlbnRzIjogdHJ1ZSwgImNvbG9yIjogInJlZCIsICJkYXNoQXJyYXkiOiBudWxsLCAiZGFzaE9mZnNldCI6IG51bGwsICJmaWxsIjogdHJ1ZSwgImZpbGxDb2xvciI6ICJyZWQiLCAiZmlsbE9wYWNpdHkiOiAwLjIsICJmaWxsUnVsZSI6ICJldmVub2RkIiwgImxpbmVDYXAiOiAicm91bmQiLCAibGluZUpvaW4iOiAicm91bmQiLCAib3BhY2l0eSI6IDEuMCwgInJhZGl1cyI6IDUsICJzdHJva2UiOiB0cnVlLCAid2VpZ2h0IjogM30KICAgICAgICAgICAgKS5hZGRUbyhtYXBfOGI5MDc3NzNjMmU3NDYzNDgxNGMzZmYyY2VjMWRmODIpOwogICAgICAgIAogICAgCiAgICAgICAgdmFyIHBvcHVwXzA3M2Y3YWRkYTg3ZjQwZjNhMzAxMWRjNjQ0MGJlNGFmID0gTC5wb3B1cCh7Im1heFdpZHRoIjogIjEwMCUifSk7CgogICAgICAgIAogICAgICAgICAgICB2YXIgaHRtbF9lOTExM2M4MzM1ZGY0ODc1OTJiN2E0NTkzNDRlMjk1NiA9ICQoYDxkaXYgaWQ9Imh0bWxfZTkxMTNjODMzNWRmNDg3NTkyYjdhNDU5MzQ0ZTI5NTYiIHN0eWxlPSJ3aWR0aDogMTAwLjAlOyBoZWlnaHQ6IDEwMC4wJTsiPk1vb3JlIFBhcmssIFN1bW1lcmhpbGwgRWFzdCwgQ2VudHJhbCBUb3JvbnRvPC9kaXY+YClbMF07CiAgICAgICAgICAgIHBvcHVwXzA3M2Y3YWRkYTg3ZjQwZjNhMzAxMWRjNjQ0MGJlNGFmLnNldENvbnRlbnQoaHRtbF9lOTExM2M4MzM1ZGY0ODc1OTJiN2E0NTkzNDRlMjk1Nik7CiAgICAgICAgCgogICAgICAgIGNpcmNsZV9tYXJrZXJfODEzZTc3NTFiMWYyNDQ5MDgyN2MwODYwYjFlZWE5ZGIuYmluZFBvcHVwKHBvcHVwXzA3M2Y3YWRkYTg3ZjQwZjNhMzAxMWRjNjQ0MGJlNGFmKQogICAgICAgIDsKCiAgICAgICAgCiAgICAKICAgIAogICAgICAgICAgICB2YXIgY2lyY2xlX21hcmtlcl9lYzI0YTI3MTI5MWE0YmNkYTVhYzY1YTYzYzQ5NDVlZSA9IEwuY2lyY2xlTWFya2VyKAogICAgICAgICAgICAgICAgWzQzLjY1MzIwNTcsIC03OS40MDAwNDkzXSwKICAgICAgICAgICAgICAgIHsiYnViYmxpbmdNb3VzZUV2ZW50cyI6IHRydWUsICJjb2xvciI6ICJyZWQiLCAiZGFzaEFycmF5IjogbnVsbCwgImRhc2hPZmZzZXQiOiBudWxsLCAiZmlsbCI6IHRydWUsICJmaWxsQ29sb3IiOiAicmVkIiwgImZpbGxPcGFjaXR5IjogMC4yLCAiZmlsbFJ1bGUiOiAiZXZlbm9kZCIsICJsaW5lQ2FwIjogInJvdW5kIiwgImxpbmVKb2luIjogInJvdW5kIiwgIm9wYWNpdHkiOiAxLjAsICJyYWRpdXMiOiA1LCAic3Ryb2tlIjogdHJ1ZSwgIndlaWdodCI6IDN9CiAgICAgICAgICAgICkuYWRkVG8obWFwXzhiOTA3NzczYzJlNzQ2MzQ4MTRjM2ZmMmNlYzFkZjgyKTsKICAgICAgICAKICAgIAogICAgICAgIHZhciBwb3B1cF9mYmY0ZTI2ZTYxOWE0MGMwYjBmNzQ4YTZjYThkNWJkNyA9IEwucG9wdXAoeyJtYXhXaWR0aCI6ICIxMDAlIn0pOwoKICAgICAgICAKICAgICAgICAgICAgdmFyIGh0bWxfZTVmZTNiODM2ZTU3NDIxODgxZTkxYjE3MmY0M2YyZWUgPSAkKGA8ZGl2IGlkPSJodG1sX2U1ZmUzYjgzNmU1NzQyMTg4MWU5MWIxNzJmNDNmMmVlIiBzdHlsZT0id2lkdGg6IDEwMC4wJTsgaGVpZ2h0OiAxMDAuMCU7Ij5LZW5zaW5ndG9uIE1hcmtldCwgQ2hpbmF0b3duLCBHcmFuZ2UgUGFyaywgRG93bnRvd24gVG9yb250bzwvZGl2PmApWzBdOwogICAgICAgICAgICBwb3B1cF9mYmY0ZTI2ZTYxOWE0MGMwYjBmNzQ4YTZjYThkNWJkNy5zZXRDb250ZW50KGh0bWxfZTVmZTNiODM2ZTU3NDIxODgxZTkxYjE3MmY0M2YyZWUpOwogICAgICAgIAoKICAgICAgICBjaXJjbGVfbWFya2VyX2VjMjRhMjcxMjkxYTRiY2RhNWFjNjVhNjNjNDk0NWVlLmJpbmRQb3B1cChwb3B1cF9mYmY0ZTI2ZTYxOWE0MGMwYjBmNzQ4YTZjYThkNWJkNykKICAgICAgICA7CgogICAgICAgIAogICAgCiAgICAKICAgICAgICAgICAgdmFyIGNpcmNsZV9tYXJrZXJfMzI2NjAyYWM1OThhNDA3MDk0YzEwNzNmMzY5NzhkMGMgPSBMLmNpcmNsZU1hcmtlcigKICAgICAgICAgICAgICAgIFs0My44MTUyNTIyLCAtNzkuMjg0NTc3Ml0sCiAgICAgICAgICAgICAgICB7ImJ1YmJsaW5nTW91c2VFdmVudHMiOiB0cnVlLCAiY29sb3IiOiAicmVkIiwgImRhc2hBcnJheSI6IG51bGwsICJkYXNoT2Zmc2V0IjogbnVsbCwgImZpbGwiOiB0cnVlLCAiZmlsbENvbG9yIjogInJlZCIsICJmaWxsT3BhY2l0eSI6IDAuMiwgImZpbGxSdWxlIjogImV2ZW5vZGQiLCAibGluZUNhcCI6ICJyb3VuZCIsICJsaW5lSm9pbiI6ICJyb3VuZCIsICJvcGFjaXR5IjogMS4wLCAicmFkaXVzIjogNSwgInN0cm9rZSI6IHRydWUsICJ3ZWlnaHQiOiAzfQogICAgICAgICAgICApLmFkZFRvKG1hcF84YjkwNzc3M2MyZTc0NjM0ODE0YzNmZjJjZWMxZGY4Mik7CiAgICAgICAgCiAgICAKICAgICAgICB2YXIgcG9wdXBfYjVlZTM0YjZmZDZkNDIyYWI0MmU4ODcyNjMxZDc2NWMgPSBMLnBvcHVwKHsibWF4V2lkdGgiOiAiMTAwJSJ9KTsKCiAgICAgICAgCiAgICAgICAgICAgIHZhciBodG1sXzIwNDI4MjcwM2RkZTQwZmViN2ExNTczZDZjODRiODdhID0gJChgPGRpdiBpZD0iaHRtbF8yMDQyODI3MDNkZGU0MGZlYjdhMTU3M2Q2Yzg0Yjg3YSIgc3R5bGU9IndpZHRoOiAxMDAuMCU7IGhlaWdodDogMTAwLjAlOyI+TWlsbGlrZW4sIEFnaW5jb3VydCBOb3J0aCwgU3RlZWxlcyBFYXN0LCBMJiMzOTtBbW9yZWF1eCBFYXN0LCBTY2FyYm9yb3VnaDwvZGl2PmApWzBdOwogICAgICAgICAgICBwb3B1cF9iNWVlMzRiNmZkNmQ0MjJhYjQyZTg4NzI2MzFkNzY1Yy5zZXRDb250ZW50KGh0bWxfMjA0MjgyNzAzZGRlNDBmZWI3YTE1NzNkNmM4NGI4N2EpOwogICAgICAgIAoKICAgICAgICBjaXJjbGVfbWFya2VyXzMyNjYwMmFjNTk4YTQwNzA5NGMxMDczZjM2OTc4ZDBjLmJpbmRQb3B1cChwb3B1cF9iNWVlMzRiNmZkNmQ0MjJhYjQyZTg4NzI2MzFkNzY1YykKICAgICAgICA7CgogICAgICAgIAogICAgCiAgICAKICAgICAgICAgICAgdmFyIGNpcmNsZV9tYXJrZXJfMmUwM2E4NTFmMGUzNDJiM2JiNTM5YjFiMzUxMmRjOTcgPSBMLmNpcmNsZU1hcmtlcigKICAgICAgICAgICAgICAgIFs0My42ODY0MTIyOTk5OTk5OSwgLTc5LjQwMDA0OTNdLAogICAgICAgICAgICAgICAgeyJidWJibGluZ01vdXNlRXZlbnRzIjogdHJ1ZSwgImNvbG9yIjogInJlZCIsICJkYXNoQXJyYXkiOiBudWxsLCAiZGFzaE9mZnNldCI6IG51bGwsICJmaWxsIjogdHJ1ZSwgImZpbGxDb2xvciI6ICJyZWQiLCAiZmlsbE9wYWNpdHkiOiAwLjIsICJmaWxsUnVsZSI6ICJldmVub2RkIiwgImxpbmVDYXAiOiAicm91bmQiLCAibGluZUpvaW4iOiAicm91bmQiLCAib3BhY2l0eSI6IDEuMCwgInJhZGl1cyI6IDUsICJzdHJva2UiOiB0cnVlLCAid2VpZ2h0IjogM30KICAgICAgICAgICAgKS5hZGRUbyhtYXBfOGI5MDc3NzNjMmU3NDYzNDgxNGMzZmYyY2VjMWRmODIpOwogICAgICAgIAogICAgCiAgICAgICAgdmFyIHBvcHVwXzYxNWU3NzA3YmY3YzQwYjE5NDIxMjYwN2FiMGJkNDMzID0gTC5wb3B1cCh7Im1heFdpZHRoIjogIjEwMCUifSk7CgogICAgICAgIAogICAgICAgICAgICB2YXIgaHRtbF82MDNjZGM4OGY5ZWM0MDk0OGU3N2IyMTQxZWJjZDc5ZCA9ICQoYDxkaXYgaWQ9Imh0bWxfNjAzY2RjODhmOWVjNDA5NDhlNzdiMjE0MWViY2Q3OWQiIHN0eWxlPSJ3aWR0aDogMTAwLjAlOyBoZWlnaHQ6IDEwMC4wJTsiPlN1bW1lcmhpbGwgV2VzdCwgUmF0aG5lbGx5LCBTb3V0aCBIaWxsLCBGb3Jlc3QgSGlsbCBTRSwgRGVlciBQYXJrLCBDZW50cmFsIFRvcm9udG88L2Rpdj5gKVswXTsKICAgICAgICAgICAgcG9wdXBfNjE1ZTc3MDdiZjdjNDBiMTk0MjEyNjA3YWIwYmQ0MzMuc2V0Q29udGVudChodG1sXzYwM2NkYzg4ZjllYzQwOTQ4ZTc3YjIxNDFlYmNkNzlkKTsKICAgICAgICAKCiAgICAgICAgY2lyY2xlX21hcmtlcl8yZTAzYTg1MWYwZTM0MmIzYmI1MzliMWIzNTEyZGM5Ny5iaW5kUG9wdXAocG9wdXBfNjE1ZTc3MDdiZjdjNDBiMTk0MjEyNjA3YWIwYmQ0MzMpCiAgICAgICAgOwoKICAgICAgICAKICAgIAogICAgCiAgICAgICAgICAgIHZhciBjaXJjbGVfbWFya2VyX2RkYzM2NzM4ZDliYjQ1NzY5NTA2OTAxNzEwN2I0ZWMwID0gTC5jaXJjbGVNYXJrZXIoCiAgICAgICAgICAgICAgICBbNDMuNjI4OTQ2NywgLTc5LjM5NDQxOTldLAogICAgICAgICAgICAgICAgeyJidWJibGluZ01vdXNlRXZlbnRzIjogdHJ1ZSwgImNvbG9yIjogInJlZCIsICJkYXNoQXJyYXkiOiBudWxsLCAiZGFzaE9mZnNldCI6IG51bGwsICJmaWxsIjogdHJ1ZSwgImZpbGxDb2xvciI6ICJyZWQiLCAiZmlsbE9wYWNpdHkiOiAwLjIsICJmaWxsUnVsZSI6ICJldmVub2RkIiwgImxpbmVDYXAiOiAicm91bmQiLCAibGluZUpvaW4iOiAicm91bmQiLCAib3BhY2l0eSI6IDEuMCwgInJhZGl1cyI6IDUsICJzdHJva2UiOiB0cnVlLCAid2VpZ2h0IjogM30KICAgICAgICAgICAgKS5hZGRUbyhtYXBfOGI5MDc3NzNjMmU3NDYzNDgxNGMzZmYyY2VjMWRmODIpOwogICAgICAgIAogICAgCiAgICAgICAgdmFyIHBvcHVwX2Y5MDg2NjgxYTMwOTQ1Mjc4MTUxMDdlZmU2ZGIxNTIzID0gTC5wb3B1cCh7Im1heFdpZHRoIjogIjEwMCUifSk7CgogICAgICAgIAogICAgICAgICAgICB2YXIgaHRtbF8yNDJlNWJhYWI4Yzk0YzA3YmI5ZTQ4Y2I4ZGZjZjZiNyA9ICQoYDxkaXYgaWQ9Imh0bWxfMjQyZTViYWFiOGM5NGMwN2JiOWU0OGNiOGRmY2Y2YjciIHN0eWxlPSJ3aWR0aDogMTAwLjAlOyBoZWlnaHQ6IDEwMC4wJTsiPkNOIFRvd2VyLCBLaW5nIGFuZCBTcGFkaW5hLCBSYWlsd2F5IExhbmRzLCBIYXJib3VyZnJvbnQgV2VzdCwgQmF0aHVyc3QgUXVheSwgU291dGggTmlhZ2FyYSwgSXNsYW5kIGFpcnBvcnQsIERvd250b3duIFRvcm9udG88L2Rpdj5gKVswXTsKICAgICAgICAgICAgcG9wdXBfZjkwODY2ODFhMzA5NDUyNzgxNTEwN2VmZTZkYjE1MjMuc2V0Q29udGVudChodG1sXzI0MmU1YmFhYjhjOTRjMDdiYjllNDhjYjhkZmNmNmI3KTsKICAgICAgICAKCiAgICAgICAgY2lyY2xlX21hcmtlcl9kZGMzNjczOGQ5YmI0NTc2OTUwNjkwMTcxMDdiNGVjMC5iaW5kUG9wdXAocG9wdXBfZjkwODY2ODFhMzA5NDUyNzgxNTEwN2VmZTZkYjE1MjMpCiAgICAgICAgOwoKICAgICAgICAKICAgIAogICAgCiAgICAgICAgICAgIHZhciBjaXJjbGVfbWFya2VyXzBiOTlkNWI2NjgyYTQ0OTk4ZDUzZTU2ZTVjYTJiZDBjID0gTC5jaXJjbGVNYXJrZXIoCiAgICAgICAgICAgICAgICBbNDMuNjA1NjQ2NiwgLTc5LjUwMTMyMDcwMDAwMDAxXSwKICAgICAgICAgICAgICAgIHsiYnViYmxpbmdNb3VzZUV2ZW50cyI6IHRydWUsICJjb2xvciI6ICJyZWQiLCAiZGFzaEFycmF5IjogbnVsbCwgImRhc2hPZmZzZXQiOiBudWxsLCAiZmlsbCI6IHRydWUsICJmaWxsQ29sb3IiOiAicmVkIiwgImZpbGxPcGFjaXR5IjogMC4yLCAiZmlsbFJ1bGUiOiAiZXZlbm9kZCIsICJsaW5lQ2FwIjogInJvdW5kIiwgImxpbmVKb2luIjogInJvdW5kIiwgIm9wYWNpdHkiOiAxLjAsICJyYWRpdXMiOiA1LCAic3Ryb2tlIjogdHJ1ZSwgIndlaWdodCI6IDN9CiAgICAgICAgICAgICkuYWRkVG8obWFwXzhiOTA3NzczYzJlNzQ2MzQ4MTRjM2ZmMmNlYzFkZjgyKTsKICAgICAgICAKICAgIAogICAgICAgIHZhciBwb3B1cF9mZDliYjBkYzYyYWE0ZDU2YWNjMjU2MTg1YzEwOTExZCA9IEwucG9wdXAoeyJtYXhXaWR0aCI6ICIxMDAlIn0pOwoKICAgICAgICAKICAgICAgICAgICAgdmFyIGh0bWxfODRjMjZhMGVjZTNjNDlmNGE0OGJjOWZlZTM3M2IyMTcgPSAkKGA8ZGl2IGlkPSJodG1sXzg0YzI2YTBlY2UzYzQ5ZjRhNDhiYzlmZWUzNzNiMjE3IiBzdHlsZT0id2lkdGg6IDEwMC4wJTsgaGVpZ2h0OiAxMDAuMCU7Ij5OZXcgVG9yb250bywgTWltaWNvIFNvdXRoLCBIdW1iZXIgQmF5IFNob3JlcywgRXRvYmljb2tlPC9kaXY+YClbMF07CiAgICAgICAgICAgIHBvcHVwX2ZkOWJiMGRjNjJhYTRkNTZhY2MyNTYxODVjMTA5MTFkLnNldENvbnRlbnQoaHRtbF84NGMyNmEwZWNlM2M0OWY0YTQ4YmM5ZmVlMzczYjIxNyk7CiAgICAgICAgCgogICAgICAgIGNpcmNsZV9tYXJrZXJfMGI5OWQ1YjY2ODJhNDQ5OThkNTNlNTZlNWNhMmJkMGMuYmluZFBvcHVwKHBvcHVwX2ZkOWJiMGRjNjJhYTRkNTZhY2MyNTYxODVjMTA5MTFkKQogICAgICAgIDsKCiAgICAgICAgCiAgICAKICAgIAogICAgICAgICAgICB2YXIgY2lyY2xlX21hcmtlcl83NThlNDNiNmI4Mjg0YTIzOWViYzdkODAzZGE3OGNmOSA9IEwuY2lyY2xlTWFya2VyKAogICAgICAgICAgICAgICAgWzQzLjczOTQxNjM5OTk5OTk5NiwgLTc5LjU4ODQzNjldLAogICAgICAgICAgICAgICAgeyJidWJibGluZ01vdXNlRXZlbnRzIjogdHJ1ZSwgImNvbG9yIjogInJlZCIsICJkYXNoQXJyYXkiOiBudWxsLCAiZGFzaE9mZnNldCI6IG51bGwsICJmaWxsIjogdHJ1ZSwgImZpbGxDb2xvciI6ICJyZWQiLCAiZmlsbE9wYWNpdHkiOiAwLjIsICJmaWxsUnVsZSI6ICJldmVub2RkIiwgImxpbmVDYXAiOiAicm91bmQiLCAibGluZUpvaW4iOiAicm91bmQiLCAib3BhY2l0eSI6IDEuMCwgInJhZGl1cyI6IDUsICJzdHJva2UiOiB0cnVlLCAid2VpZ2h0IjogM30KICAgICAgICAgICAgKS5hZGRUbyhtYXBfOGI5MDc3NzNjMmU3NDYzNDgxNGMzZmYyY2VjMWRmODIpOwogICAgICAgIAogICAgCiAgICAgICAgdmFyIHBvcHVwXzM5MDQ2ODZjOTgyMDRkYWI4Y2IyMTQ0NzdhYzQwYjgyID0gTC5wb3B1cCh7Im1heFdpZHRoIjogIjEwMCUifSk7CgogICAgICAgIAogICAgICAgICAgICB2YXIgaHRtbF9iMzZkZDVhMmI1YTg0NDZjYTc3NWViYWY2NTNiNzlhMiA9ICQoYDxkaXYgaWQ9Imh0bWxfYjM2ZGQ1YTJiNWE4NDQ2Y2E3NzVlYmFmNjUzYjc5YTIiIHN0eWxlPSJ3aWR0aDogMTAwLjAlOyBoZWlnaHQ6IDEwMC4wJTsiPlNvdXRoIFN0ZWVsZXMsIFNpbHZlcnN0b25lLCBIdW1iZXJnYXRlLCBKYW1lc3Rvd24sIE1vdW50IE9saXZlLCBCZWF1bW9uZCBIZWlnaHRzLCBUaGlzdGxldG93biwgQWxiaW9uIEdhcmRlbnMsIEV0b2JpY29rZTwvZGl2PmApWzBdOwogICAgICAgICAgICBwb3B1cF8zOTA0Njg2Yzk4MjA0ZGFiOGNiMjE0NDc3YWM0MGI4Mi5zZXRDb250ZW50KGh0bWxfYjM2ZGQ1YTJiNWE4NDQ2Y2E3NzVlYmFmNjUzYjc5YTIpOwogICAgICAgIAoKICAgICAgICBjaXJjbGVfbWFya2VyXzc1OGU0M2I2YjgyODRhMjM5ZWJjN2Q4MDNkYTc4Y2Y5LmJpbmRQb3B1cChwb3B1cF8zOTA0Njg2Yzk4MjA0ZGFiOGNiMjE0NDc3YWM0MGI4MikKICAgICAgICA7CgogICAgICAgIAogICAgCiAgICAKICAgICAgICAgICAgdmFyIGNpcmNsZV9tYXJrZXJfODJiMzE1ZDM3NjY4NDhhNzhlOTU1NjY1OTUxZTQwZmMgPSBMLmNpcmNsZU1hcmtlcigKICAgICAgICAgICAgICAgIFs0My43OTk1MjUyMDAwMDAwMDUsIC03OS4zMTgzODg3XSwKICAgICAgICAgICAgICAgIHsiYnViYmxpbmdNb3VzZUV2ZW50cyI6IHRydWUsICJjb2xvciI6ICJyZWQiLCAiZGFzaEFycmF5IjogbnVsbCwgImRhc2hPZmZzZXQiOiBudWxsLCAiZmlsbCI6IHRydWUsICJmaWxsQ29sb3IiOiAicmVkIiwgImZpbGxPcGFjaXR5IjogMC4yLCAiZmlsbFJ1bGUiOiAiZXZlbm9kZCIsICJsaW5lQ2FwIjogInJvdW5kIiwgImxpbmVKb2luIjogInJvdW5kIiwgIm9wYWNpdHkiOiAxLjAsICJyYWRpdXMiOiA1LCAic3Ryb2tlIjogdHJ1ZSwgIndlaWdodCI6IDN9CiAgICAgICAgICAgICkuYWRkVG8obWFwXzhiOTA3NzczYzJlNzQ2MzQ4MTRjM2ZmMmNlYzFkZjgyKTsKICAgICAgICAKICAgIAogICAgICAgIHZhciBwb3B1cF84N2NmYmI5NDczYWI0YzIwOTk3ZTFkYTI2OTUzNTE2YiA9IEwucG9wdXAoeyJtYXhXaWR0aCI6ICIxMDAlIn0pOwoKICAgICAgICAKICAgICAgICAgICAgdmFyIGh0bWxfZjkzNzk2MzQ0ZmE4NDdhNTgzYjFhNDBjYjVhZWFjMTggPSAkKGA8ZGl2IGlkPSJodG1sX2Y5Mzc5NjM0NGZhODQ3YTU4M2IxYTQwY2I1YWVhYzE4IiBzdHlsZT0id2lkdGg6IDEwMC4wJTsgaGVpZ2h0OiAxMDAuMCU7Ij5TdGVlbGVzIFdlc3QsIEwmIzM5O0Ftb3JlYXV4IFdlc3QsIFNjYXJib3JvdWdoPC9kaXY+YClbMF07CiAgICAgICAgICAgIHBvcHVwXzg3Y2ZiYjk0NzNhYjRjMjA5OTdlMWRhMjY5NTM1MTZiLnNldENvbnRlbnQoaHRtbF9mOTM3OTYzNDRmYTg0N2E1ODNiMWE0MGNiNWFlYWMxOCk7CiAgICAgICAgCgogICAgICAgIGNpcmNsZV9tYXJrZXJfODJiMzE1ZDM3NjY4NDhhNzhlOTU1NjY1OTUxZTQwZmMuYmluZFBvcHVwKHBvcHVwXzg3Y2ZiYjk0NzNhYjRjMjA5OTdlMWRhMjY5NTM1MTZiKQogICAgICAgIDsKCiAgICAgICAgCiAgICAKICAgIAogICAgICAgICAgICB2YXIgY2lyY2xlX21hcmtlcl85YzdjZmYyMTIwMjM0NmM1OGU2ZmI0ZTJjMmUzZTZjNSA9IEwuY2lyY2xlTWFya2VyKAogICAgICAgICAgICAgICAgWzQzLjY3OTU2MjYsIC03OS4zNzc1Mjk0MDAwMDAwMV0sCiAgICAgICAgICAgICAgICB7ImJ1YmJsaW5nTW91c2VFdmVudHMiOiB0cnVlLCAiY29sb3IiOiAicmVkIiwgImRhc2hBcnJheSI6IG51bGwsICJkYXNoT2Zmc2V0IjogbnVsbCwgImZpbGwiOiB0cnVlLCAiZmlsbENvbG9yIjogInJlZCIsICJmaWxsT3BhY2l0eSI6IDAuMiwgImZpbGxSdWxlIjogImV2ZW5vZGQiLCAibGluZUNhcCI6ICJyb3VuZCIsICJsaW5lSm9pbiI6ICJyb3VuZCIsICJvcGFjaXR5IjogMS4wLCAicmFkaXVzIjogNSwgInN0cm9rZSI6IHRydWUsICJ3ZWlnaHQiOiAzfQogICAgICAgICAgICApLmFkZFRvKG1hcF84YjkwNzc3M2MyZTc0NjM0ODE0YzNmZjJjZWMxZGY4Mik7CiAgICAgICAgCiAgICAKICAgICAgICB2YXIgcG9wdXBfM2E2ZDZjMzBiNmNjNDY0MzlmZDY1M2MzNmE2ZjZjOWEgPSBMLnBvcHVwKHsibWF4V2lkdGgiOiAiMTAwJSJ9KTsKCiAgICAgICAgCiAgICAgICAgICAgIHZhciBodG1sX2QzNGM0OGZhOTM2MzRlMDFhZTQwMWI0NDE2ZTE0MmQxID0gJChgPGRpdiBpZD0iaHRtbF9kMzRjNDhmYTkzNjM0ZTAxYWU0MDFiNDQxNmUxNDJkMSIgc3R5bGU9IndpZHRoOiAxMDAuMCU7IGhlaWdodDogMTAwLjAlOyI+Um9zZWRhbGUsIERvd250b3duIFRvcm9udG88L2Rpdj5gKVswXTsKICAgICAgICAgICAgcG9wdXBfM2E2ZDZjMzBiNmNjNDY0MzlmZDY1M2MzNmE2ZjZjOWEuc2V0Q29udGVudChodG1sX2QzNGM0OGZhOTM2MzRlMDFhZTQwMWI0NDE2ZTE0MmQxKTsKICAgICAgICAKCiAgICAgICAgY2lyY2xlX21hcmtlcl85YzdjZmYyMTIwMjM0NmM1OGU2ZmI0ZTJjMmUzZTZjNS5iaW5kUG9wdXAocG9wdXBfM2E2ZDZjMzBiNmNjNDY0MzlmZDY1M2MzNmE2ZjZjOWEpCiAgICAgICAgOwoKICAgICAgICAKICAgIAogICAgCiAgICAgICAgICAgIHZhciBjaXJjbGVfbWFya2VyXzNiOTlkNGY2ZTcwNTQwMTI5YzE5MWQ4N2U1NWMyOGMyID0gTC5jaXJjbGVNYXJrZXIoCiAgICAgICAgICAgICAgICBbNDMuNjQ2NDM1MiwgLTc5LjM3NDg0NTk5OTk5OTk5XSwKICAgICAgICAgICAgICAgIHsiYnViYmxpbmdNb3VzZUV2ZW50cyI6IHRydWUsICJjb2xvciI6ICJyZWQiLCAiZGFzaEFycmF5IjogbnVsbCwgImRhc2hPZmZzZXQiOiBudWxsLCAiZmlsbCI6IHRydWUsICJmaWxsQ29sb3IiOiAicmVkIiwgImZpbGxPcGFjaXR5IjogMC4yLCAiZmlsbFJ1bGUiOiAiZXZlbm9kZCIsICJsaW5lQ2FwIjogInJvdW5kIiwgImxpbmVKb2luIjogInJvdW5kIiwgIm9wYWNpdHkiOiAxLjAsICJyYWRpdXMiOiA1LCAic3Ryb2tlIjogdHJ1ZSwgIndlaWdodCI6IDN9CiAgICAgICAgICAgICkuYWRkVG8obWFwXzhiOTA3NzczYzJlNzQ2MzQ4MTRjM2ZmMmNlYzFkZjgyKTsKICAgICAgICAKICAgIAogICAgICAgIHZhciBwb3B1cF8wZGM1NmM5ZTZmNGE0OTUxOGZlNjQ2NTU4NzY3YjEzNCA9IEwucG9wdXAoeyJtYXhXaWR0aCI6ICIxMDAlIn0pOwoKICAgICAgICAKICAgICAgICAgICAgdmFyIGh0bWxfNDVjYjA0ZGVkNGY2NDg4Mjg3MDkyMGE0OTVkNzNhOTQgPSAkKGA8ZGl2IGlkPSJodG1sXzQ1Y2IwNGRlZDRmNjQ4ODI4NzA5MjBhNDk1ZDczYTk0IiBzdHlsZT0id2lkdGg6IDEwMC4wJTsgaGVpZ2h0OiAxMDAuMCU7Ij5TdG4gQSBQTyBCb3hlcywgRG93bnRvd24gVG9yb250bzwvZGl2PmApWzBdOwogICAgICAgICAgICBwb3B1cF8wZGM1NmM5ZTZmNGE0OTUxOGZlNjQ2NTU4NzY3YjEzNC5zZXRDb250ZW50KGh0bWxfNDVjYjA0ZGVkNGY2NDg4Mjg3MDkyMGE0OTVkNzNhOTQpOwogICAgICAgIAoKICAgICAgICBjaXJjbGVfbWFya2VyXzNiOTlkNGY2ZTcwNTQwMTI5YzE5MWQ4N2U1NWMyOGMyLmJpbmRQb3B1cChwb3B1cF8wZGM1NmM5ZTZmNGE0OTUxOGZlNjQ2NTU4NzY3YjEzNCkKICAgICAgICA7CgogICAgICAgIAogICAgCiAgICAKICAgICAgICAgICAgdmFyIGNpcmNsZV9tYXJrZXJfYjdmYWI0NDZhZDY2NDI5MGJhZjk0YjIyYmViOGIxZjIgPSBMLmNpcmNsZU1hcmtlcigKICAgICAgICAgICAgICAgIFs0My42MDI0MTM3MDAwMDAwMSwgLTc5LjU0MzQ4NDA5OTk5OTk5XSwKICAgICAgICAgICAgICAgIHsiYnViYmxpbmdNb3VzZUV2ZW50cyI6IHRydWUsICJjb2xvciI6ICJyZWQiLCAiZGFzaEFycmF5IjogbnVsbCwgImRhc2hPZmZzZXQiOiBudWxsLCAiZmlsbCI6IHRydWUsICJmaWxsQ29sb3IiOiAicmVkIiwgImZpbGxPcGFjaXR5IjogMC4yLCAiZmlsbFJ1bGUiOiAiZXZlbm9kZCIsICJsaW5lQ2FwIjogInJvdW5kIiwgImxpbmVKb2luIjogInJvdW5kIiwgIm9wYWNpdHkiOiAxLjAsICJyYWRpdXMiOiA1LCAic3Ryb2tlIjogdHJ1ZSwgIndlaWdodCI6IDN9CiAgICAgICAgICAgICkuYWRkVG8obWFwXzhiOTA3NzczYzJlNzQ2MzQ4MTRjM2ZmMmNlYzFkZjgyKTsKICAgICAgICAKICAgIAogICAgICAgIHZhciBwb3B1cF9kNzEyN2Q0YzQzZjE0MjZiYmE2Y2U0YzkwZGMzYjA1MSA9IEwucG9wdXAoeyJtYXhXaWR0aCI6ICIxMDAlIn0pOwoKICAgICAgICAKICAgICAgICAgICAgdmFyIGh0bWxfZmY3OGMxNDk2NzlkNDg5M2FjMWFjNDU4NDQyNWMzOGIgPSAkKGA8ZGl2IGlkPSJodG1sX2ZmNzhjMTQ5Njc5ZDQ4OTNhYzFhYzQ1ODQ0MjVjMzhiIiBzdHlsZT0id2lkdGg6IDEwMC4wJTsgaGVpZ2h0OiAxMDAuMCU7Ij5BbGRlcndvb2QsIExvbmcgQnJhbmNoLCBFdG9iaWNva2U8L2Rpdj5gKVswXTsKICAgICAgICAgICAgcG9wdXBfZDcxMjdkNGM0M2YxNDI2YmJhNmNlNGM5MGRjM2IwNTEuc2V0Q29udGVudChodG1sX2ZmNzhjMTQ5Njc5ZDQ4OTNhYzFhYzQ1ODQ0MjVjMzhiKTsKICAgICAgICAKCiAgICAgICAgY2lyY2xlX21hcmtlcl9iN2ZhYjQ0NmFkNjY0MjkwYmFmOTRiMjJiZWI4YjFmMi5iaW5kUG9wdXAocG9wdXBfZDcxMjdkNGM0M2YxNDI2YmJhNmNlNGM5MGRjM2IwNTEpCiAgICAgICAgOwoKICAgICAgICAKICAgIAogICAgCiAgICAgICAgICAgIHZhciBjaXJjbGVfbWFya2VyX2M1MWY3NDM3OTczYTRjNzM5Njk5ZWQ2NmY4MjdhYWQxID0gTC5jaXJjbGVNYXJrZXIoCiAgICAgICAgICAgICAgICBbNDMuNzA2NzQ4Mjk5OTk5OTk0LCAtNzkuNTk0MDU0NF0sCiAgICAgICAgICAgICAgICB7ImJ1YmJsaW5nTW91c2VFdmVudHMiOiB0cnVlLCAiY29sb3IiOiAicmVkIiwgImRhc2hBcnJheSI6IG51bGwsICJkYXNoT2Zmc2V0IjogbnVsbCwgImZpbGwiOiB0cnVlLCAiZmlsbENvbG9yIjogInJlZCIsICJmaWxsT3BhY2l0eSI6IDAuMiwgImZpbGxSdWxlIjogImV2ZW5vZGQiLCAibGluZUNhcCI6ICJyb3VuZCIsICJsaW5lSm9pbiI6ICJyb3VuZCIsICJvcGFjaXR5IjogMS4wLCAicmFkaXVzIjogNSwgInN0cm9rZSI6IHRydWUsICJ3ZWlnaHQiOiAzfQogICAgICAgICAgICApLmFkZFRvKG1hcF84YjkwNzc3M2MyZTc0NjM0ODE0YzNmZjJjZWMxZGY4Mik7CiAgICAgICAgCiAgICAKICAgICAgICB2YXIgcG9wdXBfZWVjZWY1YzBkNjNjNGY2Y2EwM2VhZjdlNjQ2M2QwMWQgPSBMLnBvcHVwKHsibWF4V2lkdGgiOiAiMTAwJSJ9KTsKCiAgICAgICAgCiAgICAgICAgICAgIHZhciBodG1sX2ZlYzllN2JiNmRhYjQxOTNiMTRlOTBlYzY5NzIxMzdlID0gJChgPGRpdiBpZD0iaHRtbF9mZWM5ZTdiYjZkYWI0MTkzYjE0ZTkwZWM2OTcyMTM3ZSIgc3R5bGU9IndpZHRoOiAxMDAuMCU7IGhlaWdodDogMTAwLjAlOyI+Tm9ydGh3ZXN0LCBXZXN0IEh1bWJlciAtIENsYWlydmlsbGUsIEV0b2JpY29rZTwvZGl2PmApWzBdOwogICAgICAgICAgICBwb3B1cF9lZWNlZjVjMGQ2M2M0ZjZjYTAzZWFmN2U2NDYzZDAxZC5zZXRDb250ZW50KGh0bWxfZmVjOWU3YmI2ZGFiNDE5M2IxNGU5MGVjNjk3MjEzN2UpOwogICAgICAgIAoKICAgICAgICBjaXJjbGVfbWFya2VyX2M1MWY3NDM3OTczYTRjNzM5Njk5ZWQ2NmY4MjdhYWQxLmJpbmRQb3B1cChwb3B1cF9lZWNlZjVjMGQ2M2M0ZjZjYTAzZWFmN2U2NDYzZDAxZCkKICAgICAgICA7CgogICAgICAgIAogICAgCiAgICAKICAgICAgICAgICAgdmFyIGNpcmNsZV9tYXJrZXJfMDEyNmJlNjY3ZDY2NDEzNWE4Y2ZiMzY0ODExNjMzYzggPSBMLmNpcmNsZU1hcmtlcigKICAgICAgICAgICAgICAgIFs0My44MzYxMjQ3MDAwMDAwMDYsIC03OS4yMDU2MzYwOTk5OTk5OV0sCiAgICAgICAgICAgICAgICB7ImJ1YmJsaW5nTW91c2VFdmVudHMiOiB0cnVlLCAiY29sb3IiOiAicmVkIiwgImRhc2hBcnJheSI6IG51bGwsICJkYXNoT2Zmc2V0IjogbnVsbCwgImZpbGwiOiB0cnVlLCAiZmlsbENvbG9yIjogInJlZCIsICJmaWxsT3BhY2l0eSI6IDAuMiwgImZpbGxSdWxlIjogImV2ZW5vZGQiLCAibGluZUNhcCI6ICJyb3VuZCIsICJsaW5lSm9pbiI6ICJyb3VuZCIsICJvcGFjaXR5IjogMS4wLCAicmFkaXVzIjogNSwgInN0cm9rZSI6IHRydWUsICJ3ZWlnaHQiOiAzfQogICAgICAgICAgICApLmFkZFRvKG1hcF84YjkwNzc3M2MyZTc0NjM0ODE0YzNmZjJjZWMxZGY4Mik7CiAgICAgICAgCiAgICAKICAgICAgICB2YXIgcG9wdXBfYTZkMjAxNDNiYjA2NGFhZTgwYWM0NjY2MzA3OGI1MzMgPSBMLnBvcHVwKHsibWF4V2lkdGgiOiAiMTAwJSJ9KTsKCiAgICAgICAgCiAgICAgICAgICAgIHZhciBodG1sXzhmYzUwNTU4OWZmNDQ5OGE5ODJiYWVlNzAwMDkzNDhhID0gJChgPGRpdiBpZD0iaHRtbF84ZmM1MDU1ODlmZjQ0OThhOTgyYmFlZTcwMDA5MzQ4YSIgc3R5bGU9IndpZHRoOiAxMDAuMCU7IGhlaWdodDogMTAwLjAlOyI+VXBwZXIgUm91Z2UsIFNjYXJib3JvdWdoPC9kaXY+YClbMF07CiAgICAgICAgICAgIHBvcHVwX2E2ZDIwMTQzYmIwNjRhYWU4MGFjNDY2NjMwNzhiNTMzLnNldENvbnRlbnQoaHRtbF84ZmM1MDU1ODlmZjQ0OThhOTgyYmFlZTcwMDA5MzQ4YSk7CiAgICAgICAgCgogICAgICAgIGNpcmNsZV9tYXJrZXJfMDEyNmJlNjY3ZDY2NDEzNWE4Y2ZiMzY0ODExNjMzYzguYmluZFBvcHVwKHBvcHVwX2E2ZDIwMTQzYmIwNjRhYWU4MGFjNDY2NjMwNzhiNTMzKQogICAgICAgIDsKCiAgICAgICAgCiAgICAKICAgIAogICAgICAgICAgICB2YXIgY2lyY2xlX21hcmtlcl8yYmI0ODdkZGM1ZmE0YWZlYWY3MmY1YzQ2NjBlZTYyYiA9IEwuY2lyY2xlTWFya2VyKAogICAgICAgICAgICAgICAgWzQzLjY2Nzk2NywgLTc5LjM2NzY3NTNdLAogICAgICAgICAgICAgICAgeyJidWJibGluZ01vdXNlRXZlbnRzIjogdHJ1ZSwgImNvbG9yIjogInJlZCIsICJkYXNoQXJyYXkiOiBudWxsLCAiZGFzaE9mZnNldCI6IG51bGwsICJmaWxsIjogdHJ1ZSwgImZpbGxDb2xvciI6ICJyZWQiLCAiZmlsbE9wYWNpdHkiOiAwLjIsICJmaWxsUnVsZSI6ICJldmVub2RkIiwgImxpbmVDYXAiOiAicm91bmQiLCAibGluZUpvaW4iOiAicm91bmQiLCAib3BhY2l0eSI6IDEuMCwgInJhZGl1cyI6IDUsICJzdHJva2UiOiB0cnVlLCAid2VpZ2h0IjogM30KICAgICAgICAgICAgKS5hZGRUbyhtYXBfOGI5MDc3NzNjMmU3NDYzNDgxNGMzZmYyY2VjMWRmODIpOwogICAgICAgIAogICAgCiAgICAgICAgdmFyIHBvcHVwX2MwYTJiYTYwNDMxNzRkNWRhNjA2NjQ5NmViMTkzZTcxID0gTC5wb3B1cCh7Im1heFdpZHRoIjogIjEwMCUifSk7CgogICAgICAgIAogICAgICAgICAgICB2YXIgaHRtbF85MTNkM2E4ZWE5MWE0Y2ExYWNhMmIxYTRmMDkwYWU2MSA9ICQoYDxkaXYgaWQ9Imh0bWxfOTEzZDNhOGVhOTFhNGNhMWFjYTJiMWE0ZjA5MGFlNjEiIHN0eWxlPSJ3aWR0aDogMTAwLjAlOyBoZWlnaHQ6IDEwMC4wJTsiPlN0LiBKYW1lcyBUb3duLCBDYWJiYWdldG93biwgRG93bnRvd24gVG9yb250bzwvZGl2PmApWzBdOwogICAgICAgICAgICBwb3B1cF9jMGEyYmE2MDQzMTc0ZDVkYTYwNjY0OTZlYjE5M2U3MS5zZXRDb250ZW50KGh0bWxfOTEzZDNhOGVhOTFhNGNhMWFjYTJiMWE0ZjA5MGFlNjEpOwogICAgICAgIAoKICAgICAgICBjaXJjbGVfbWFya2VyXzJiYjQ4N2RkYzVmYTRhZmVhZjcyZjVjNDY2MGVlNjJiLmJpbmRQb3B1cChwb3B1cF9jMGEyYmE2MDQzMTc0ZDVkYTYwNjY0OTZlYjE5M2U3MSkKICAgICAgICA7CgogICAgICAgIAogICAgCiAgICAKICAgICAgICAgICAgdmFyIGNpcmNsZV9tYXJrZXJfMzU0ZjNmNTEzYTM1NDE3Mzg1NDU5Y2VmMDE3ODJhYTggPSBMLmNpcmNsZU1hcmtlcigKICAgICAgICAgICAgICAgIFs0My42NDg0MjkyLCAtNzkuMzgyMjgwMl0sCiAgICAgICAgICAgICAgICB7ImJ1YmJsaW5nTW91c2VFdmVudHMiOiB0cnVlLCAiY29sb3IiOiAicmVkIiwgImRhc2hBcnJheSI6IG51bGwsICJkYXNoT2Zmc2V0IjogbnVsbCwgImZpbGwiOiB0cnVlLCAiZmlsbENvbG9yIjogInJlZCIsICJmaWxsT3BhY2l0eSI6IDAuMiwgImZpbGxSdWxlIjogImV2ZW5vZGQiLCAibGluZUNhcCI6ICJyb3VuZCIsICJsaW5lSm9pbiI6ICJyb3VuZCIsICJvcGFjaXR5IjogMS4wLCAicmFkaXVzIjogNSwgInN0cm9rZSI6IHRydWUsICJ3ZWlnaHQiOiAzfQogICAgICAgICAgICApLmFkZFRvKG1hcF84YjkwNzc3M2MyZTc0NjM0ODE0YzNmZjJjZWMxZGY4Mik7CiAgICAgICAgCiAgICAKICAgICAgICB2YXIgcG9wdXBfYjdjZjY1YjFlYjVmNGI3YTlhNjdmMzI4YzViYjcwYjkgPSBMLnBvcHVwKHsibWF4V2lkdGgiOiAiMTAwJSJ9KTsKCiAgICAgICAgCiAgICAgICAgICAgIHZhciBodG1sXzhmNTM4N2I4OGU2NzRmNWRhM2NhMTY1NTE1ZDU5YzBjID0gJChgPGRpdiBpZD0iaHRtbF84ZjUzODdiODhlNjc0ZjVkYTNjYTE2NTUxNWQ1OWMwYyIgc3R5bGU9IndpZHRoOiAxMDAuMCU7IGhlaWdodDogMTAwLjAlOyI+Rmlyc3QgQ2FuYWRpYW4gUGxhY2UsIFVuZGVyZ3JvdW5kIGNpdHksIERvd250b3duIFRvcm9udG88L2Rpdj5gKVswXTsKICAgICAgICAgICAgcG9wdXBfYjdjZjY1YjFlYjVmNGI3YTlhNjdmMzI4YzViYjcwYjkuc2V0Q29udGVudChodG1sXzhmNTM4N2I4OGU2NzRmNWRhM2NhMTY1NTE1ZDU5YzBjKTsKICAgICAgICAKCiAgICAgICAgY2lyY2xlX21hcmtlcl8zNTRmM2Y1MTNhMzU0MTczODU0NTljZWYwMTc4MmFhOC5iaW5kUG9wdXAocG9wdXBfYjdjZjY1YjFlYjVmNGI3YTlhNjdmMzI4YzViYjcwYjkpCiAgICAgICAgOwoKICAgICAgICAKICAgIAogICAgCiAgICAgICAgICAgIHZhciBjaXJjbGVfbWFya2VyX2ZiN2QyNzRlMTU3MzQxMzY5OGVjYTAzMGVkN2RjNWE4ID0gTC5jaXJjbGVNYXJrZXIoCiAgICAgICAgICAgICAgICBbNDMuNjUzNjUzNjAwMDAwMDA1LCAtNzkuNTA2OTQzNl0sCiAgICAgICAgICAgICAgICB7ImJ1YmJsaW5nTW91c2VFdmVudHMiOiB0cnVlLCAiY29sb3IiOiAicmVkIiwgImRhc2hBcnJheSI6IG51bGwsICJkYXNoT2Zmc2V0IjogbnVsbCwgImZpbGwiOiB0cnVlLCAiZmlsbENvbG9yIjogInJlZCIsICJmaWxsT3BhY2l0eSI6IDAuMiwgImZpbGxSdWxlIjogImV2ZW5vZGQiLCAibGluZUNhcCI6ICJyb3VuZCIsICJsaW5lSm9pbiI6ICJyb3VuZCIsICJvcGFjaXR5IjogMS4wLCAicmFkaXVzIjogNSwgInN0cm9rZSI6IHRydWUsICJ3ZWlnaHQiOiAzfQogICAgICAgICAgICApLmFkZFRvKG1hcF84YjkwNzc3M2MyZTc0NjM0ODE0YzNmZjJjZWMxZGY4Mik7CiAgICAgICAgCiAgICAKICAgICAgICB2YXIgcG9wdXBfZmM0MWE1NmMzMjA3NDNjZWJjNjdjMWNlNmJiYTYxNzAgPSBMLnBvcHVwKHsibWF4V2lkdGgiOiAiMTAwJSJ9KTsKCiAgICAgICAgCiAgICAgICAgICAgIHZhciBodG1sXzBlY2I2YTNlZDYwZjQwY2JiNjFlNjRjOGIxMTMwNDJkID0gJChgPGRpdiBpZD0iaHRtbF8wZWNiNmEzZWQ2MGY0MGNiYjYxZTY0YzhiMTEzMDQyZCIgc3R5bGU9IndpZHRoOiAxMDAuMCU7IGhlaWdodDogMTAwLjAlOyI+VGhlIEtpbmdzd2F5LCBNb250Z29tZXJ5IFJvYWQsIE9sZCBNaWxsIE5vcnRoLCBFdG9iaWNva2U8L2Rpdj5gKVswXTsKICAgICAgICAgICAgcG9wdXBfZmM0MWE1NmMzMjA3NDNjZWJjNjdjMWNlNmJiYTYxNzAuc2V0Q29udGVudChodG1sXzBlY2I2YTNlZDYwZjQwY2JiNjFlNjRjOGIxMTMwNDJkKTsKICAgICAgICAKCiAgICAgICAgY2lyY2xlX21hcmtlcl9mYjdkMjc0ZTE1NzM0MTM2OThlY2EwMzBlZDdkYzVhOC5iaW5kUG9wdXAocG9wdXBfZmM0MWE1NmMzMjA3NDNjZWJjNjdjMWNlNmJiYTYxNzApCiAgICAgICAgOwoKICAgICAgICAKICAgIAogICAgCiAgICAgICAgICAgIHZhciBjaXJjbGVfbWFya2VyXzBjNDkxYjA4OGJkMDQ3NzU4NGNiN2Q0NGU3OGU4OTkxID0gTC5jaXJjbGVNYXJrZXIoCiAgICAgICAgICAgICAgICBbNDMuNjY1ODU5OSwgLTc5LjM4MzE1OTkwMDAwMDAxXSwKICAgICAgICAgICAgICAgIHsiYnViYmxpbmdNb3VzZUV2ZW50cyI6IHRydWUsICJjb2xvciI6ICJyZWQiLCAiZGFzaEFycmF5IjogbnVsbCwgImRhc2hPZmZzZXQiOiBudWxsLCAiZmlsbCI6IHRydWUsICJmaWxsQ29sb3IiOiAicmVkIiwgImZpbGxPcGFjaXR5IjogMC4yLCAiZmlsbFJ1bGUiOiAiZXZlbm9kZCIsICJsaW5lQ2FwIjogInJvdW5kIiwgImxpbmVKb2luIjogInJvdW5kIiwgIm9wYWNpdHkiOiAxLjAsICJyYWRpdXMiOiA1LCAic3Ryb2tlIjogdHJ1ZSwgIndlaWdodCI6IDN9CiAgICAgICAgICAgICkuYWRkVG8obWFwXzhiOTA3NzczYzJlNzQ2MzQ4MTRjM2ZmMmNlYzFkZjgyKTsKICAgICAgICAKICAgIAogICAgICAgIHZhciBwb3B1cF81YjMyODhhOGQ4NDE0MjYwYWM2MDEyMTdiOWIwZTZjZCA9IEwucG9wdXAoeyJtYXhXaWR0aCI6ICIxMDAlIn0pOwoKICAgICAgICAKICAgICAgICAgICAgdmFyIGh0bWxfYzA5YzZhYjk1NmEyNDA0NDllZTFjMTU3M2Y4Mzc3ZGUgPSAkKGA8ZGl2IGlkPSJodG1sX2MwOWM2YWI5NTZhMjQwNDQ5ZWUxYzE1NzNmODM3N2RlIiBzdHlsZT0id2lkdGg6IDEwMC4wJTsgaGVpZ2h0OiAxMDAuMCU7Ij5DaHVyY2ggYW5kIFdlbGxlc2xleSwgRG93bnRvd24gVG9yb250bzwvZGl2PmApWzBdOwogICAgICAgICAgICBwb3B1cF81YjMyODhhOGQ4NDE0MjYwYWM2MDEyMTdiOWIwZTZjZC5zZXRDb250ZW50KGh0bWxfYzA5YzZhYjk1NmEyNDA0NDllZTFjMTU3M2Y4Mzc3ZGUpOwogICAgICAgIAoKICAgICAgICBjaXJjbGVfbWFya2VyXzBjNDkxYjA4OGJkMDQ3NzU4NGNiN2Q0NGU3OGU4OTkxLmJpbmRQb3B1cChwb3B1cF81YjMyODhhOGQ4NDE0MjYwYWM2MDEyMTdiOWIwZTZjZCkKICAgICAgICA7CgogICAgICAgIAogICAgCiAgICAKICAgICAgICAgICAgdmFyIGNpcmNsZV9tYXJrZXJfOTA2ZDU5ZGE4MWE4NGYyMTgyMzhjMDJhMDgyMmVhMGMgPSBMLmNpcmNsZU1hcmtlcigKICAgICAgICAgICAgICAgIFs0My42NjI3NDM5LCAtNzkuMzIxNTU4XSwKICAgICAgICAgICAgICAgIHsiYnViYmxpbmdNb3VzZUV2ZW50cyI6IHRydWUsICJjb2xvciI6ICJyZWQiLCAiZGFzaEFycmF5IjogbnVsbCwgImRhc2hPZmZzZXQiOiBudWxsLCAiZmlsbCI6IHRydWUsICJmaWxsQ29sb3IiOiAicmVkIiwgImZpbGxPcGFjaXR5IjogMC4yLCAiZmlsbFJ1bGUiOiAiZXZlbm9kZCIsICJsaW5lQ2FwIjogInJvdW5kIiwgImxpbmVKb2luIjogInJvdW5kIiwgIm9wYWNpdHkiOiAxLjAsICJyYWRpdXMiOiA1LCAic3Ryb2tlIjogdHJ1ZSwgIndlaWdodCI6IDN9CiAgICAgICAgICAgICkuYWRkVG8obWFwXzhiOTA3NzczYzJlNzQ2MzQ4MTRjM2ZmMmNlYzFkZjgyKTsKICAgICAgICAKICAgIAogICAgICAgIHZhciBwb3B1cF81MmZhZmNjY2U3ZTQ0YzFiYTZhOTA1MmM3YTNiZjJkYiA9IEwucG9wdXAoeyJtYXhXaWR0aCI6ICIxMDAlIn0pOwoKICAgICAgICAKICAgICAgICAgICAgdmFyIGh0bWxfZTlmYTFjY2M5ZDdlNDUwYTgyZTY2ZjFhMmRiMjJiMjcgPSAkKGA8ZGl2IGlkPSJodG1sX2U5ZmExY2NjOWQ3ZTQ1MGE4MmU2NmYxYTJkYjIyYjI3IiBzdHlsZT0id2lkdGg6IDEwMC4wJTsgaGVpZ2h0OiAxMDAuMCU7Ij5CdXNpbmVzcyByZXBseSBtYWlsIFByb2Nlc3NpbmcgQ2VudHJlLCBTb3V0aCBDZW50cmFsIExldHRlciBQcm9jZXNzaW5nIFBsYW50IFRvcm9udG8sIEVhc3QgVG9yb250bzwvZGl2PmApWzBdOwogICAgICAgICAgICBwb3B1cF81MmZhZmNjY2U3ZTQ0YzFiYTZhOTA1MmM3YTNiZjJkYi5zZXRDb250ZW50KGh0bWxfZTlmYTFjY2M5ZDdlNDUwYTgyZTY2ZjFhMmRiMjJiMjcpOwogICAgICAgIAoKICAgICAgICBjaXJjbGVfbWFya2VyXzkwNmQ1OWRhODFhODRmMjE4MjM4YzAyYTA4MjJlYTBjLmJpbmRQb3B1cChwb3B1cF81MmZhZmNjY2U3ZTQ0YzFiYTZhOTA1MmM3YTNiZjJkYikKICAgICAgICA7CgogICAgICAgIAogICAgCiAgICAKICAgICAgICAgICAgdmFyIGNpcmNsZV9tYXJrZXJfYTYxN2FjNTlhZDQ1NDQxN2JmOWJkNTFhMmM2OGI2YzkgPSBMLmNpcmNsZU1hcmtlcigKICAgICAgICAgICAgICAgIFs0My42MzYyNTc5LCAtNzkuNDk4NTA5MDk5OTk5OTldLAogICAgICAgICAgICAgICAgeyJidWJibGluZ01vdXNlRXZlbnRzIjogdHJ1ZSwgImNvbG9yIjogInJlZCIsICJkYXNoQXJyYXkiOiBudWxsLCAiZGFzaE9mZnNldCI6IG51bGwsICJmaWxsIjogdHJ1ZSwgImZpbGxDb2xvciI6ICJyZWQiLCAiZmlsbE9wYWNpdHkiOiAwLjIsICJmaWxsUnVsZSI6ICJldmVub2RkIiwgImxpbmVDYXAiOiAicm91bmQiLCAibGluZUpvaW4iOiAicm91bmQiLCAib3BhY2l0eSI6IDEuMCwgInJhZGl1cyI6IDUsICJzdHJva2UiOiB0cnVlLCAid2VpZ2h0IjogM30KICAgICAgICAgICAgKS5hZGRUbyhtYXBfOGI5MDc3NzNjMmU3NDYzNDgxNGMzZmYyY2VjMWRmODIpOwogICAgICAgIAogICAgCiAgICAgICAgdmFyIHBvcHVwXzIwNDIxYWMwMWY2NjQ0ZjViMjg1MTVkYjNiNzdlMDczID0gTC5wb3B1cCh7Im1heFdpZHRoIjogIjEwMCUifSk7CgogICAgICAgIAogICAgICAgICAgICB2YXIgaHRtbF8xZmE4MTNiZmM5ZTc0ZTdlOGU1NDk4MjIyZjcyMDA5YSA9ICQoYDxkaXYgaWQ9Imh0bWxfMWZhODEzYmZjOWU3NGU3ZThlNTQ5ODIyMmY3MjAwOWEiIHN0eWxlPSJ3aWR0aDogMTAwLjAlOyBoZWlnaHQ6IDEwMC4wJTsiPk9sZCBNaWxsIFNvdXRoLCBLaW5nJiMzOTtzIE1pbGwgUGFyaywgU3VubnlsZWEsIEh1bWJlciBCYXksIE1pbWljbyBORSwgVGhlIFF1ZWVuc3dheSBFYXN0LCBSb3lhbCBZb3JrIFNvdXRoIEVhc3QsIEtpbmdzd2F5IFBhcmsgU291dGggRWFzdCwgRXRvYmljb2tlPC9kaXY+YClbMF07CiAgICAgICAgICAgIHBvcHVwXzIwNDIxYWMwMWY2NjQ0ZjViMjg1MTVkYjNiNzdlMDczLnNldENvbnRlbnQoaHRtbF8xZmE4MTNiZmM5ZTc0ZTdlOGU1NDk4MjIyZjcyMDA5YSk7CiAgICAgICAgCgogICAgICAgIGNpcmNsZV9tYXJrZXJfYTYxN2FjNTlhZDQ1NDQxN2JmOWJkNTFhMmM2OGI2YzkuYmluZFBvcHVwKHBvcHVwXzIwNDIxYWMwMWY2NjQ0ZjViMjg1MTVkYjNiNzdlMDczKQogICAgICAgIDsKCiAgICAgICAgCiAgICAKICAgIAogICAgICAgICAgICB2YXIgY2lyY2xlX21hcmtlcl80MWI0NGM5NzBlOGU0MzU5YjJlNTE1YTE4MmU2Njc3NiA9IEwuY2lyY2xlTWFya2VyKAogICAgICAgICAgICAgICAgWzQzLjYyODg0MDgsIC03OS41MjA5OTk0MDAwMDAwMV0sCiAgICAgICAgICAgICAgICB7ImJ1YmJsaW5nTW91c2VFdmVudHMiOiB0cnVlLCAiY29sb3IiOiAicmVkIiwgImRhc2hBcnJheSI6IG51bGwsICJkYXNoT2Zmc2V0IjogbnVsbCwgImZpbGwiOiB0cnVlLCAiZmlsbENvbG9yIjogInJlZCIsICJmaWxsT3BhY2l0eSI6IDAuMiwgImZpbGxSdWxlIjogImV2ZW5vZGQiLCAibGluZUNhcCI6ICJyb3VuZCIsICJsaW5lSm9pbiI6ICJyb3VuZCIsICJvcGFjaXR5IjogMS4wLCAicmFkaXVzIjogNSwgInN0cm9rZSI6IHRydWUsICJ3ZWlnaHQiOiAzfQogICAgICAgICAgICApLmFkZFRvKG1hcF84YjkwNzc3M2MyZTc0NjM0ODE0YzNmZjJjZWMxZGY4Mik7CiAgICAgICAgCiAgICAKICAgICAgICB2YXIgcG9wdXBfZDI3OTg5NjA1ZmQwNGJiZjk3NTQwMTQ0YTg0ZDRkNmEgPSBMLnBvcHVwKHsibWF4V2lkdGgiOiAiMTAwJSJ9KTsKCiAgICAgICAgCiAgICAgICAgICAgIHZhciBodG1sXzVjYmU1MmJiODkyYTQyMDQ5NjdjMDJjOWM5MmQxMjI3ID0gJChgPGRpdiBpZD0iaHRtbF81Y2JlNTJiYjg5MmE0MjA0OTY3YzAyYzljOTJkMTIyNyIgc3R5bGU9IndpZHRoOiAxMDAuMCU7IGhlaWdodDogMTAwLjAlOyI+TWltaWNvIE5XLCBUaGUgUXVlZW5zd2F5IFdlc3QsIFNvdXRoIG9mIEJsb29yLCBLaW5nc3dheSBQYXJrIFNvdXRoIFdlc3QsIFJveWFsIFlvcmsgU291dGggV2VzdCwgRXRvYmljb2tlPC9kaXY+YClbMF07CiAgICAgICAgICAgIHBvcHVwX2QyNzk4OTYwNWZkMDRiYmY5NzU0MDE0NGE4NGQ0ZDZhLnNldENvbnRlbnQoaHRtbF81Y2JlNTJiYjg5MmE0MjA0OTY3YzAyYzljOTJkMTIyNyk7CiAgICAgICAgCgogICAgICAgIGNpcmNsZV9tYXJrZXJfNDFiNDRjOTcwZThlNDM1OWIyZTUxNWExODJlNjY3NzYuYmluZFBvcHVwKHBvcHVwX2QyNzk4OTYwNWZkMDRiYmY5NzU0MDE0NGE4NGQ0ZDZhKQogICAgICAgIDsKCiAgICAgICAgCiAgICAKPC9zY3JpcHQ+ onload=\"this.contentDocument.open();this.contentDocument.write(atob(this.getAttribute('data-html')));this.contentDocument.close();\" allowfullscreen webkitallowfullscreen mozallowfullscreen></iframe></div></div>"
      ],
      "text/plain": [
       "<folium.folium.Map at 0x24ff960b910>"
      ]
     },
     "execution_count": 26,
     "metadata": {},
     "output_type": "execute_result"
    }
   ],
   "source": [
    "# Creating the map of Toronto\n",
    "map_Toronto = folium.Map(location=[latitude, longitude], zoom_start=11)\n",
    "\n",
    "# adding markers to map\n",
    "for latitude, longitude, borough, neighbourhood in zip(combined_data['Latitude'], combined_data['Longitude'], combined_data['Borough'], combined_data['Neighbourhood']):\n",
    "    label = '{}, {}'.format(neighbourhood, borough)\n",
    "    label = folium.Popup(label, parse_html=True)\n",
    "    folium.CircleMarker(\n",
    "        [latitude, longitude],\n",
    "        radius=5,\n",
    "        popup=label,\n",
    "        color='red',\n",
    "        fill=True\n",
    "        ).add_to(map_Toronto)  \n",
    "    \n",
    "map_Toronto"
   ]
  },
  {
   "cell_type": "code",
   "execution_count": 27,
   "metadata": {},
   "outputs": [
    {
     "name": "stdout",
     "output_type": "stream",
     "text": [
      "Your credentails:\n",
      "CLIENT_ID: LDIJF4KI5VGMMA3NNDLFZWHR12TCMNTUL0TUC3QPZ3SJD040\n",
      "CLIENT_SECRET:EOOOZ3EF5N0FOMNUJVTDV0SXVUVVEBMWPFXMNBK1R5K4H55A\n"
     ]
    }
   ],
   "source": [
    "CLIENT_ID = 'LDIJF4KI5VGMMA3NNDLFZWHR12TCMNTUL0TUC3QPZ3SJD040' \n",
    "CLIENT_SECRET = 'EOOOZ3EF5N0FOMNUJVTDV0SXVUVVEBMWPFXMNBK1R5K4H55A'\n",
    "VERSION = '20180605' # Foursquare API version\n",
    "\n",
    "print('Your credentails:')\n",
    "print('CLIENT_ID: ' + CLIENT_ID)\n",
    "print('CLIENT_SECRET:' + CLIENT_SECRET)"
   ]
  },
  {
   "cell_type": "code",
   "execution_count": 28,
   "metadata": {},
   "outputs": [],
   "source": [
    "def getNearbyVenues(names, latitudes, longitudes, radius=500):\n",
    "    \n",
    "    venues_list=[]\n",
    "    for name, lat, lng in zip(names, latitudes, longitudes):\n",
    "        print(name)\n",
    "            \n",
    "        # create the API request URL\n",
    "        url = 'https://api.foursquare.com/v2/venues/explore?&client_id={}&client_secret={}&v={}&ll={},{}&radius={}'.format(\n",
    "            CLIENT_ID, \n",
    "            CLIENT_SECRET, \n",
    "            VERSION, \n",
    "            lat, \n",
    "            lng, \n",
    "            radius\n",
    "            )\n",
    "            \n",
    "        # make the GET request\n",
    "        results = requests.get(url).json()[\"response\"]['groups'][0]['items']\n",
    "        \n",
    "        # return only relevant information for each nearby venue\n",
    "        venues_list.append([(\n",
    "            name, \n",
    "            lat, \n",
    "            lng, \n",
    "            v['venue']['name'], \n",
    "            v['venue']['categories'][0]['name']) for v in results])\n",
    "\n",
    "    nearby_venues = pd.DataFrame([item for venue_list in venues_list for item in venue_list])\n",
    "    nearby_venues.columns = ['Neighbourhood', \n",
    "                  'Neighbourhood Latitude', \n",
    "                  'Neighbourhood Longitude', \n",
    "                  'Venue', \n",
    "                  'Venue Category']\n",
    "    \n",
    "    return(nearby_venues)"
   ]
  },
  {
   "cell_type": "code",
   "execution_count": 30,
   "metadata": {},
   "outputs": [
    {
     "ename": "NameError",
     "evalue": "name 'latitudes' is not defined",
     "output_type": "error",
     "traceback": [
      "\u001b[1;31m---------------------------------------------------------------------------\u001b[0m",
      "\u001b[1;31mNameError\u001b[0m                                 Traceback (most recent call last)",
      "\u001b[1;32m<ipython-input-30-da8dcfbed0f5>\u001b[0m in \u001b[0;36m<module>\u001b[1;34m\u001b[0m\n\u001b[0;32m      3\u001b[0m             \u001b[0mCLIENT_SECRET\u001b[0m\u001b[1;33m,\u001b[0m\u001b[1;33m\u001b[0m\u001b[1;33m\u001b[0m\u001b[0m\n\u001b[0;32m      4\u001b[0m             \u001b[0mVERSION\u001b[0m\u001b[1;33m,\u001b[0m\u001b[1;33m\u001b[0m\u001b[1;33m\u001b[0m\u001b[0m\n\u001b[1;32m----> 5\u001b[1;33m             \u001b[0mlatitudes\u001b[0m\u001b[1;33m,\u001b[0m\u001b[1;33m\u001b[0m\u001b[1;33m\u001b[0m\u001b[0m\n\u001b[0m\u001b[0;32m      6\u001b[0m             \u001b[0mlongitudes\u001b[0m\u001b[1;33m,\u001b[0m\u001b[1;33m\u001b[0m\u001b[1;33m\u001b[0m\u001b[0m\n\u001b[0;32m      7\u001b[0m             \u001b[0mradius\u001b[0m\u001b[1;33m\u001b[0m\u001b[1;33m\u001b[0m\u001b[0m\n",
      "\u001b[1;31mNameError\u001b[0m: name 'latitudes' is not defined"
     ]
    }
   ],
   "source": [
    "url = 'https://api.foursquare.com/v2/venues/explore?&client_id={}&client_secret={}&v={}&ll={},{}&radius={}'.format(\n",
    "            CLIENT_ID, \n",
    "            CLIENT_SECRET, \n",
    "            VERSION, \n",
    "            latitudes, \n",
    "            longitudes, \n",
    "            radius\n",
    "            )"
   ]
  },
  {
   "cell_type": "code",
   "execution_count": null,
   "metadata": {},
   "outputs": [],
   "source": []
  },
  {
   "cell_type": "code",
   "execution_count": null,
   "metadata": {},
   "outputs": [],
   "source": []
  }
 ],
 "metadata": {
  "kernelspec": {
   "display_name": "Python 3",
   "language": "python",
   "name": "python3"
  },
  "language_info": {
   "codemirror_mode": {
    "name": "ipython",
    "version": 3
   },
   "file_extension": ".py",
   "mimetype": "text/x-python",
   "name": "python",
   "nbconvert_exporter": "python",
   "pygments_lexer": "ipython3",
   "version": "3.8.3"
  }
 },
 "nbformat": 4,
 "nbformat_minor": 4
}
